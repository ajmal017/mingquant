{
 "cells": [
  {
   "cell_type": "code",
   "execution_count": 28,
   "metadata": {},
   "outputs": [],
   "source": [
    "api_key=\"ImPu9SCg8pZaGJyaQZ6X6LK3FP7O6HdSMpQdG3eax6nGIJEwPA4ryyFRN1MSfYg7\"\n",
    "api_secret=\"xHKeKf7Zz0FGTrhuL8aP7yvLo8e9jm8MlLi6JuWYgFdMyX1q3evdzEbPrt1ZCRvY\"\n",
    "from binance.client import Client\n",
    "client = Client(api_key, api_secret)\n",
    "import time\n",
    "import dateparser\n",
    "import pytz\n",
    "from datetime import datetime\n",
    "import json\n",
    "import sys\n",
    "import pandas as pd"
   ]
  },
  {
   "cell_type": "markdown",
   "metadata": {},
   "source": [
    "# Trading notes"
   ]
  },
  {
   "cell_type": "code",
   "execution_count": 36,
   "metadata": {},
   "outputs": [
    {
     "data": {
      "text/plain": [
       "[{'symbol': 'QTUMUSDT',\n",
       "  'fundingTime': 1587744000000,\n",
       "  'fundingRate': '0.00010000'},\n",
       " {'symbol': 'NEOUSDT',\n",
       "  'fundingTime': 1587744000000,\n",
       "  'fundingRate': '0.00072381'},\n",
       " {'symbol': 'BTCUSDT',\n",
       "  'fundingTime': 1587744000000,\n",
       "  'fundingRate': '0.00010000'},\n",
       " {'symbol': 'ETHUSDT',\n",
       "  'fundingTime': 1587744000000,\n",
       "  'fundingRate': '0.00010000'},\n",
       " {'symbol': 'QTUMUSDT',\n",
       "  'fundingTime': 1587772800003,\n",
       "  'fundingRate': '0.00010000'},\n",
       " {'symbol': 'ATOMUSDT',\n",
       "  'fundingTime': 1587772800003,\n",
       "  'fundingRate': '0.00021819'},\n",
       " {'symbol': 'XMRUSDT',\n",
       "  'fundingTime': 1587772800003,\n",
       "  'fundingRate': '0.00010000'},\n",
       " {'symbol': 'LTCUSDT',\n",
       "  'fundingTime': 1587772800003,\n",
       "  'fundingRate': '0.00087545'},\n",
       " {'symbol': 'ADAUSDT',\n",
       "  'fundingTime': 1587772800003,\n",
       "  'fundingRate': '0.00087345'},\n",
       " {'symbol': 'XRPUSDT',\n",
       "  'fundingTime': 1587772800003,\n",
       "  'fundingRate': '0.00010000'},\n",
       " {'symbol': 'EOSUSDT',\n",
       "  'fundingTime': 1587772800003,\n",
       "  'fundingRate': '0.00010000'},\n",
       " {'symbol': 'TRXUSDT',\n",
       "  'fundingTime': 1587772800003,\n",
       "  'fundingRate': '0.00010000'},\n",
       " {'symbol': 'BCHUSDT',\n",
       "  'fundingTime': 1587772800003,\n",
       "  'fundingRate': '0.00010000'},\n",
       " {'symbol': 'ONTUSDT',\n",
       "  'fundingTime': 1587772800003,\n",
       "  'fundingRate': '0.00092395'},\n",
       " {'symbol': 'NEOUSDT',\n",
       "  'fundingTime': 1587772800003,\n",
       "  'fundingRate': '0.00010000'},\n",
       " {'symbol': 'IOTAUSDT',\n",
       "  'fundingTime': 1587772800003,\n",
       "  'fundingRate': '0.00010000'},\n",
       " {'symbol': 'ZECUSDT',\n",
       "  'fundingTime': 1587772800003,\n",
       "  'fundingRate': '0.00062187'},\n",
       " {'symbol': 'XTZUSDT',\n",
       "  'fundingTime': 1587772800003,\n",
       "  'fundingRate': '-0.00053504'},\n",
       " {'symbol': 'ETHUSDT',\n",
       "  'fundingTime': 1587772800003,\n",
       "  'fundingRate': '0.00010000'},\n",
       " {'symbol': 'DASHUSDT',\n",
       "  'fundingTime': 1587772800003,\n",
       "  'fundingRate': '0.00010000'},\n",
       " {'symbol': 'ETCUSDT',\n",
       "  'fundingTime': 1587772800003,\n",
       "  'fundingRate': '0.00010000'},\n",
       " {'symbol': 'IOSTUSDT',\n",
       "  'fundingTime': 1587772800003,\n",
       "  'fundingRate': '0.00010000'},\n",
       " {'symbol': 'XLMUSDT',\n",
       "  'fundingTime': 1587772800003,\n",
       "  'fundingRate': '0.00010000'},\n",
       " {'symbol': 'VETUSDT',\n",
       "  'fundingTime': 1587772800003,\n",
       "  'fundingRate': '0.00026956'},\n",
       " {'symbol': 'LINKUSDT',\n",
       "  'fundingTime': 1587772800003,\n",
       "  'fundingRate': '0.00043908'},\n",
       " {'symbol': 'BTCUSDT',\n",
       "  'fundingTime': 1587772800003,\n",
       "  'fundingRate': '0.00010000'},\n",
       " {'symbol': 'BATUSDT',\n",
       "  'fundingTime': 1587772800003,\n",
       "  'fundingRate': '-0.00008385'},\n",
       " {'symbol': 'BNBUSDT',\n",
       "  'fundingTime': 1587772800003,\n",
       "  'fundingRate': '0.00000000'},\n",
       " {'symbol': 'LTCUSDT',\n",
       "  'fundingTime': 1587801600000,\n",
       "  'fundingRate': '0.00073075'},\n",
       " {'symbol': 'QTUMUSDT',\n",
       "  'fundingTime': 1587801600000,\n",
       "  'fundingRate': '0.00010000'},\n",
       " {'symbol': 'DASHUSDT',\n",
       "  'fundingTime': 1587801600000,\n",
       "  'fundingRate': '0.00045183'},\n",
       " {'symbol': 'XTZUSDT',\n",
       "  'fundingTime': 1587801600000,\n",
       "  'fundingRate': '0.00009238'},\n",
       " {'symbol': 'NEOUSDT',\n",
       "  'fundingTime': 1587801600000,\n",
       "  'fundingRate': '0.00085992'},\n",
       " {'symbol': 'ETHUSDT',\n",
       "  'fundingTime': 1587801600000,\n",
       "  'fundingRate': '0.00010000'},\n",
       " {'symbol': 'LINKUSDT',\n",
       "  'fundingTime': 1587801600000,\n",
       "  'fundingRate': '0.00058927'},\n",
       " {'symbol': 'IOTAUSDT',\n",
       "  'fundingTime': 1587801600000,\n",
       "  'fundingRate': '0.00010000'},\n",
       " {'symbol': 'XLMUSDT',\n",
       "  'fundingTime': 1587801600000,\n",
       "  'fundingRate': '0.00010000'},\n",
       " {'symbol': 'EOSUSDT',\n",
       "  'fundingTime': 1587801600000,\n",
       "  'fundingRate': '0.00010000'},\n",
       " {'symbol': 'BCHUSDT',\n",
       "  'fundingTime': 1587801600000,\n",
       "  'fundingRate': '0.00028362'},\n",
       " {'symbol': 'ETCUSDT',\n",
       "  'fundingTime': 1587801600000,\n",
       "  'fundingRate': '0.00021392'},\n",
       " {'symbol': 'BNBUSDT',\n",
       "  'fundingTime': 1587801600000,\n",
       "  'fundingRate': '0.00000000'},\n",
       " {'symbol': 'ZECUSDT',\n",
       "  'fundingTime': 1587801600000,\n",
       "  'fundingRate': '0.00028800'},\n",
       " {'symbol': 'TRXUSDT',\n",
       "  'fundingTime': 1587801600000,\n",
       "  'fundingRate': '0.00010000'},\n",
       " {'symbol': 'ATOMUSDT',\n",
       "  'fundingTime': 1587801600000,\n",
       "  'fundingRate': '0.00265087'},\n",
       " {'symbol': 'XMRUSDT',\n",
       "  'fundingTime': 1587801600000,\n",
       "  'fundingRate': '0.00019367'},\n",
       " {'symbol': 'ADAUSDT',\n",
       "  'fundingTime': 1587801600000,\n",
       "  'fundingRate': '0.00058884'},\n",
       " {'symbol': 'VETUSDT',\n",
       "  'fundingTime': 1587801600000,\n",
       "  'fundingRate': '0.00033918'},\n",
       " {'symbol': 'BATUSDT',\n",
       "  'fundingTime': 1587801600000,\n",
       "  'fundingRate': '0.00040823'},\n",
       " {'symbol': 'IOSTUSDT',\n",
       "  'fundingTime': 1587801600000,\n",
       "  'fundingRate': '0.00010000'},\n",
       " {'symbol': 'XRPUSDT',\n",
       "  'fundingTime': 1587801600000,\n",
       "  'fundingRate': '0.00010000'},\n",
       " {'symbol': 'BTCUSDT',\n",
       "  'fundingTime': 1587801600000,\n",
       "  'fundingRate': '0.00010000'},\n",
       " {'symbol': 'ONTUSDT',\n",
       "  'fundingTime': 1587801600000,\n",
       "  'fundingRate': '0.00163542'},\n",
       " {'symbol': 'TRXUSDT',\n",
       "  'fundingTime': 1587830400000,\n",
       "  'fundingRate': '0.00010000'},\n",
       " {'symbol': 'ADAUSDT',\n",
       "  'fundingTime': 1587830400000,\n",
       "  'fundingRate': '0.00038849'},\n",
       " {'symbol': 'BCHUSDT',\n",
       "  'fundingTime': 1587830400000,\n",
       "  'fundingRate': '0.00010000'},\n",
       " {'symbol': 'NEOUSDT',\n",
       "  'fundingTime': 1587830400000,\n",
       "  'fundingRate': '0.00026702'},\n",
       " {'symbol': 'ETCUSDT',\n",
       "  'fundingTime': 1587830400000,\n",
       "  'fundingRate': '0.00010000'},\n",
       " {'symbol': 'LTCUSDT',\n",
       "  'fundingTime': 1587830400000,\n",
       "  'fundingRate': '0.00048500'},\n",
       " {'symbol': 'XLMUSDT',\n",
       "  'fundingTime': 1587830400000,\n",
       "  'fundingRate': '0.00010000'},\n",
       " {'symbol': 'EOSUSDT',\n",
       "  'fundingTime': 1587830400000,\n",
       "  'fundingRate': '0.00010000'},\n",
       " {'symbol': 'IOTAUSDT',\n",
       "  'fundingTime': 1587830400000,\n",
       "  'fundingRate': '0.00010000'},\n",
       " {'symbol': 'BNBUSDT',\n",
       "  'fundingTime': 1587830400000,\n",
       "  'fundingRate': '0.00000000'},\n",
       " {'symbol': 'ATOMUSDT',\n",
       "  'fundingTime': 1587830400000,\n",
       "  'fundingRate': '0.00012697'},\n",
       " {'symbol': 'XTZUSDT',\n",
       "  'fundingTime': 1587830400000,\n",
       "  'fundingRate': '0.00000228'},\n",
       " {'symbol': 'ONTUSDT',\n",
       "  'fundingTime': 1587830400000,\n",
       "  'fundingRate': '0.00056533'},\n",
       " {'symbol': 'ETHUSDT',\n",
       "  'fundingTime': 1587830400000,\n",
       "  'fundingRate': '0.00010000'},\n",
       " {'symbol': 'XRPUSDT',\n",
       "  'fundingTime': 1587830400000,\n",
       "  'fundingRate': '0.00010000'},\n",
       " {'symbol': 'DASHUSDT',\n",
       "  'fundingTime': 1587830400000,\n",
       "  'fundingRate': '0.00042982'},\n",
       " {'symbol': 'BTCUSDT',\n",
       "  'fundingTime': 1587830400000,\n",
       "  'fundingRate': '0.00010000'},\n",
       " {'symbol': 'XMRUSDT',\n",
       "  'fundingTime': 1587830400000,\n",
       "  'fundingRate': '0.00010000'},\n",
       " {'symbol': 'ZECUSDT',\n",
       "  'fundingTime': 1587830400000,\n",
       "  'fundingRate': '0.00047968'},\n",
       " {'symbol': 'QTUMUSDT',\n",
       "  'fundingTime': 1587830400000,\n",
       "  'fundingRate': '0.00010000'},\n",
       " {'symbol': 'LINKUSDT',\n",
       "  'fundingTime': 1587830400000,\n",
       "  'fundingRate': '0.00003336'},\n",
       " {'symbol': 'BATUSDT',\n",
       "  'fundingTime': 1587830400000,\n",
       "  'fundingRate': '0.00010000'},\n",
       " {'symbol': 'VETUSDT',\n",
       "  'fundingTime': 1587830400000,\n",
       "  'fundingRate': '0.00062790'},\n",
       " {'symbol': 'IOSTUSDT',\n",
       "  'fundingTime': 1587830400000,\n",
       "  'fundingRate': '0.00010000'},\n",
       " {'symbol': 'NEOUSDT',\n",
       "  'fundingTime': 1587859200000,\n",
       "  'fundingRate': '0.00010000'},\n",
       " {'symbol': 'ADAUSDT',\n",
       "  'fundingTime': 1587859200000,\n",
       "  'fundingRate': '0.00010000'},\n",
       " {'symbol': 'XRPUSDT',\n",
       "  'fundingTime': 1587859200000,\n",
       "  'fundingRate': '0.00010000'},\n",
       " {'symbol': 'LINKUSDT',\n",
       "  'fundingTime': 1587859200000,\n",
       "  'fundingRate': '0.00000000'},\n",
       " {'symbol': 'ZECUSDT',\n",
       "  'fundingTime': 1587859200000,\n",
       "  'fundingRate': '0.00010000'},\n",
       " {'symbol': 'DASHUSDT',\n",
       "  'fundingTime': 1587859200000,\n",
       "  'fundingRate': '0.00010000'},\n",
       " {'symbol': 'VETUSDT',\n",
       "  'fundingTime': 1587859200000,\n",
       "  'fundingRate': '-0.00014609'},\n",
       " {'symbol': 'XLMUSDT',\n",
       "  'fundingTime': 1587859200000,\n",
       "  'fundingRate': '0.00010000'},\n",
       " {'symbol': 'IOSTUSDT',\n",
       "  'fundingTime': 1587859200000,\n",
       "  'fundingRate': '0.00032914'},\n",
       " {'symbol': 'TRXUSDT',\n",
       "  'fundingTime': 1587859200000,\n",
       "  'fundingRate': '0.00010000'},\n",
       " {'symbol': 'IOTAUSDT',\n",
       "  'fundingTime': 1587859200000,\n",
       "  'fundingRate': '0.00010000'},\n",
       " {'symbol': 'QTUMUSDT',\n",
       "  'fundingTime': 1587859200000,\n",
       "  'fundingRate': '0.00010000'},\n",
       " {'symbol': 'ATOMUSDT',\n",
       "  'fundingTime': 1587859200000,\n",
       "  'fundingRate': '-0.00021879'},\n",
       " {'symbol': 'BNBUSDT',\n",
       "  'fundingTime': 1587859200000,\n",
       "  'fundingRate': '0.00000000'},\n",
       " {'symbol': 'EOSUSDT',\n",
       "  'fundingTime': 1587859200000,\n",
       "  'fundingRate': '0.00010000'},\n",
       " {'symbol': 'XMRUSDT',\n",
       "  'fundingTime': 1587859200000,\n",
       "  'fundingRate': '0.00010000'},\n",
       " {'symbol': 'BATUSDT',\n",
       "  'fundingTime': 1587859200000,\n",
       "  'fundingRate': '0.00010000'},\n",
       " {'symbol': 'LTCUSDT',\n",
       "  'fundingTime': 1587859200000,\n",
       "  'fundingRate': '0.00000000'},\n",
       " {'symbol': 'ONTUSDT',\n",
       "  'fundingTime': 1587859200000,\n",
       "  'fundingRate': '0.00010000'},\n",
       " {'symbol': 'ETHUSDT',\n",
       "  'fundingTime': 1587859200000,\n",
       "  'fundingRate': '0.00010000'},\n",
       " {'symbol': 'BTCUSDT',\n",
       "  'fundingTime': 1587859200000,\n",
       "  'fundingRate': '0.00010000'},\n",
       " {'symbol': 'BCHUSDT',\n",
       "  'fundingTime': 1587859200000,\n",
       "  'fundingRate': '0.00010000'},\n",
       " {'symbol': 'XTZUSDT',\n",
       "  'fundingTime': 1587859200000,\n",
       "  'fundingRate': '-0.00126650'},\n",
       " {'symbol': 'ETCUSDT',\n",
       "  'fundingTime': 1587859200000,\n",
       "  'fundingRate': '0.00016541'}]"
      ]
     },
     "execution_count": 36,
     "metadata": {},
     "output_type": "execute_result"
    }
   ],
   "source": [
    "stat = client.futures_funding_rate()\n",
    "stat\n",
    "# testdf = pd.DataFrame.to_dict(stat)\n",
    "# testdf.head()"
   ]
  },
  {
   "cell_type": "code",
   "execution_count": null,
   "metadata": {},
   "outputs": [],
   "source": [
    "```\n",
    "# client.futures_aggregate_trades()\n",
    "# client.futures_exchange_info()\n",
    "client.futures_funding_rate()\n",
    "client.futures_historical_trades()\n",
    "futures_klines()\n",
    "futures_leverage_bracket()\n",
    "futures_liquidation_orders()\n",
    "futures_mark_price()\n",
    "futures_open_interest()\n",
    "futures_recent_trades()\n",
    "\n",
    "get_margin_asset()\n",
    "get_margin_price_index()\n",
    "get_recent_trades()\n",
    "get_aggregate_trades()\n",
    "\n",
    "\n",
    "get_historical_klines_generator()\n",
    "aggregate_trade_iter()\n"
   ]
  },
  {
   "cell_type": "markdown",
   "metadata": {},
   "source": [
    "---"
   ]
  },
  {
   "cell_type": "markdown",
   "metadata": {},
   "source": [
    "# Order book analysis"
   ]
  },
  {
   "cell_type": "markdown",
   "metadata": {},
   "source": [
    "An order book is just an electronic list of buy and sell orders for an asset, organized by price level.\n",
    "\n",
    "These buy and sells orders are respectively referred to as bids and asks. A bid refers to the highest amount of price you are willing to pay for an asset. An ask refers to the lowest amount of money you are willing to sell your asset for.\n",
    "\n",
    "If you submit a buy/sell order for a quantity that can be instantly matched at the proposed price, you are considered a taker. Taker trades do not go on the order book since they do not need to.\n",
    "\n",
    "If the buy/sell order cannot be matched at the proposed price and you are waiting for someone else to take the other side, you are considered a maker. Maker trades end up going on the order book."
   ]
  },
  {
   "cell_type": "markdown",
   "metadata": {},
   "source": [
    "![orderbook](https://www.hodlbot.io/public/order_book_depth.png)"
   ]
  },
  {
   "cell_type": "markdown",
   "metadata": {},
   "source": [
    "# Order Book Depth\n",
    "\n",
    "https://www.hodlbot.io/blog/analysis-of-order-book-depth-on-binance\n",
    "\n",
    "\n",
    "### Depth is calculated by taking the total sum of every and bid multiplied by their respective price."
   ]
  },
  {
   "cell_type": "markdown",
   "metadata": {},
   "source": [
    "![scatter](https://www.hodlbot.io/public/volume_vs_order_book_depth.png)"
   ]
  },
  {
   "cell_type": "markdown",
   "metadata": {},
   "source": [
    "## Distribution of Order Depth for 2 pairs"
   ]
  },
  {
   "cell_type": "markdown",
   "metadata": {},
   "source": [
    "![density](https://www.hodlbot.io/public/dist_order_book_depth.png)"
   ]
  },
  {
   "cell_type": "markdown",
   "metadata": {},
   "source": [
    "---"
   ]
  },
  {
   "cell_type": "markdown",
   "metadata": {},
   "source": [
    "# Order Book Bid-Ask Spreads\n",
    "\n",
    "https://www.hodlbot.io/blog/bid-ask-spreads-on-the-binance-exchange\n",
    "\n",
    "### The gap between the highest price someone is willing to pay for an asset, and the lowest price someone is willing to sell it for, is known as thebid-ask spread.\n",
    "\n",
    "#### Example data: \n",
    "\n",
    "https://drive.google.com/open?id=1nAWFlU0XBY70RLIEene1FB6xm3Mhqi6v\n",
    "\n",
    "https://drive.google.com/open?id=1kZAk2XPQS5qFOdqXC0zYXXsmxs-GCF0O"
   ]
  },
  {
   "cell_type": "markdown",
   "metadata": {},
   "source": [
    "![spread](https://www.hodlbot.io/public/dist-bid-ask-spread.png)"
   ]
  },
  {
   "cell_type": "markdown",
   "metadata": {},
   "source": [
    "### On Binance, you can see up to 1.5% bid-ask spread for pairs with low trading volume. Heavily traded pairs are mostly under 0.4%"
   ]
  },
  {
   "cell_type": "markdown",
   "metadata": {},
   "source": [
    "![scatterspread](https://www.hodlbot.io/public/bid-ask-spread-vs-volume.png)"
   ]
  },
  {
   "cell_type": "markdown",
   "metadata": {},
   "source": [
    "---"
   ]
  },
  {
   "cell_type": "markdown",
   "metadata": {},
   "source": [
    "## Slippage"
   ]
  },
  {
   "cell_type": "markdown",
   "metadata": {},
   "source": [
    "https://www.hodlbot.io/blog/an-analysis-of-slippage-on-the-binance-exchange"
   ]
  },
  {
   "cell_type": "markdown",
   "metadata": {},
   "source": [
    "The difference between the expected price of a trade and the price at which the trade is actually executed is known as slippage.\n",
    "\n",
    "Assuming trading volume is high, you should see less slippage. And when trading volume is slow, you should expect to see more slippage."
   ]
  },
  {
   "cell_type": "markdown",
   "metadata": {},
   "source": [
    "![slippages](https://www.hodlbot.io/public/slippage-dist.png)"
   ]
  },
  {
   "cell_type": "markdown",
   "metadata": {},
   "source": [
    "### Slippages vs. Volume....less slippage at higher volume"
   ]
  },
  {
   "cell_type": "markdown",
   "metadata": {},
   "source": [
    "![slippagevolume](https://www.hodlbot.io/public/slippage-color.png)"
   ]
  },
  {
   "cell_type": "code",
   "execution_count": null,
   "metadata": {},
   "outputs": [],
   "source": []
  }
 ],
 "metadata": {
  "kernelspec": {
   "display_name": "Python 3",
   "language": "python",
   "name": "python3"
  },
  "language_info": {
   "codemirror_mode": {
    "name": "ipython",
    "version": 3
   },
   "file_extension": ".py",
   "mimetype": "text/x-python",
   "name": "python",
   "nbconvert_exporter": "python",
   "pygments_lexer": "ipython3",
   "version": "3.7.3"
  }
 },
 "nbformat": 4,
 "nbformat_minor": 2
}
