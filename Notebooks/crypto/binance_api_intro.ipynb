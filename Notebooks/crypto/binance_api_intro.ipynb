{
 "cells": [
  {
   "cell_type": "markdown",
   "metadata": {},
   "source": [
    "# Python Binance"
   ]
  },
  {
   "cell_type": "markdown",
   "metadata": {},
   "source": [
    "### TA-lib for backtesting\n",
    "\n",
    "https://github.com/mrjbq7/ta-lib"
   ]
  },
  {
   "cell_type": "markdown",
   "metadata": {},
   "source": [
    "https://sammchardy.github.io/binance/2018/01/08/historical-data-download-binance.html"
   ]
  },
  {
   "cell_type": "markdown",
   "metadata": {},
   "source": [
    "https://python-binance.readthedocs.io/en/latest/binance.html\n",
    "\n",
    "https://binance-docs.github.io/apidocs/spot/en/#get-flexible-product-position-user_data\n",
    "\n",
    "\n",
    "https://www.binance.com/en/fee/schedule"
   ]
  },
  {
   "cell_type": "code",
   "execution_count": 55,
   "metadata": {},
   "outputs": [],
   "source": [
    "api_key=\"ImPu9SCg8pZaGJyaQZ6X6LK3FP7O6HdSMpQdG3eax6nGIJEwPA4ryyFRN1MSfYg7\"\n",
    "api_secret=\"xHKeKf7Zz0FGTrhuL8aP7yvLo8e9jm8MlLi6JuWYgFdMyX1q3evdzEbPrt1ZCRvY\""
   ]
  },
  {
   "cell_type": "code",
   "execution_count": 56,
   "metadata": {},
   "outputs": [],
   "source": [
    "from binance.client import Client\n",
    "client = Client(api_key, api_secret)\n",
    "import time\n",
    "import dateparser\n",
    "import pytz\n",
    "from datetime import datetime\n",
    "import json"
   ]
  },
  {
   "cell_type": "markdown",
   "metadata": {},
   "source": [
    "## Define Functions"
   ]
  },
  {
   "cell_type": "code",
   "execution_count": 2,
   "metadata": {},
   "outputs": [],
   "source": [
    "\n",
    "# from binance.client import Client\n",
    "# client = Client(api_key, api_secret)\n",
    "import time\n",
    "import dateparser\n",
    "import pytz\n",
    "from datetime import datetime\n",
    "import json\n",
    "\n",
    "def date_to_milliseconds(date_str):\n",
    "    \"\"\"Convert UTC date to milliseconds\n",
    "    If using offset strings add \"UTC\" to date string e.g. \"now UTC\", \"11 hours ago UTC\"\n",
    "    See dateparse docs for formats http://dateparser.readthedocs.io/en/latest/\n",
    "    :param date_str: date in readable format, i.e. \"January 01, 2018\", \"11 hours ago UTC\", \"now UTC\"\n",
    "    :type date_str: str\n",
    "    \"\"\"\n",
    "    # get epoch value in UTC\n",
    "    epoch = datetime.utcfromtimestamp(0).replace(tzinfo=pytz.utc)\n",
    "    # parse our date string\n",
    "    d = dateparser.parse(date_str)\n",
    "    # if the date is not timezone aware apply UTC timezone\n",
    "    if d.tzinfo is None or d.tzinfo.utcoffset(d) is None:\n",
    "        d = d.replace(tzinfo=pytz.utc)\n",
    "\n",
    "    # return the difference in time\n",
    "    return int((d - epoch).total_seconds() * 1000.0)\n",
    "\n",
    "\n",
    "def interval_to_milliseconds(interval):\n",
    "    \"\"\"Convert a Binance interval string to milliseconds\n",
    "    :param interval: Binance interval string 1m, 3m, 5m, 15m, 30m, 1h, 2h, 4h, 6h, 8h, 12h, 1d, 3d, 1w\n",
    "    :type interval: str\n",
    "    :return:\n",
    "         None if unit not one of m, h, d or w\n",
    "         None if string not in correct format\n",
    "         int value of interval in milliseconds\n",
    "    \"\"\"\n",
    "    ms = None\n",
    "    seconds_per_unit = {\n",
    "        \"m\": 60,\n",
    "        \"h\": 60 * 60,\n",
    "        \"d\": 24 * 60 * 60,\n",
    "        \"w\": 7 * 24 * 60 * 60\n",
    "    }\n",
    "\n",
    "    unit = interval[-1]\n",
    "    if unit in seconds_per_unit:\n",
    "        try:\n",
    "            ms = int(interval[:-1]) * seconds_per_unit[unit] * 1000\n",
    "        except ValueError:\n",
    "            pass\n",
    "    return ms\n",
    "\n",
    "def get_historical_klines(symbol, interval, start_str, end_str=None):\n",
    "    \"\"\"Get Historical Klines from Binance\n",
    "    See dateparse docs for valid start and end string formats http://dateparser.readthedocs.io/en/latest/\n",
    "    If using offset strings for dates add \"UTC\" to date string e.g. \"now UTC\", \"11 hours ago UTC\"\n",
    "    :param symbol: Name of symbol pair e.g BNBBTC\n",
    "    :type symbol: str\n",
    "    :param interval: Biannce Kline interval\n",
    "    :type interval: str\n",
    "    :param start_str: Start date string in UTC format\n",
    "    :type start_str: str\n",
    "    :param end_str: optional - end date string in UTC format\n",
    "    :type end_str: str\n",
    "    :return: list of OHLCV values\n",
    "    \"\"\"\n",
    "    # create the Binance client, no need for api key\n",
    "    client = Client(\"\", \"\")\n",
    "\n",
    "    # init our list\n",
    "    output_data = []\n",
    "\n",
    "    # setup the max limit\n",
    "    limit = 500\n",
    "\n",
    "    # convert interval to useful value in seconds\n",
    "    timeframe = interval_to_milliseconds(interval)\n",
    "\n",
    "    # convert our date strings to milliseconds\n",
    "    start_ts = date_to_milliseconds(start_str)\n",
    "\n",
    "    # if an end time was passed convert it\n",
    "    end_ts = None\n",
    "    if end_str:\n",
    "        end_ts = date_to_milliseconds(end_str)\n",
    "\n",
    "    idx = 0\n",
    "    # it can be difficult to know when a symbol was listed on Binance so allow start time to be before list date\n",
    "    symbol_existed = False\n",
    "    while True:\n",
    "        # fetch the klines from start_ts up to max 500 entries or the end_ts if set\n",
    "        temp_data = client.get_klines(\n",
    "            symbol=symbol,\n",
    "            interval=interval,\n",
    "            limit=limit,\n",
    "            startTime=start_ts,\n",
    "            endTime=end_ts\n",
    "        )\n",
    "\n",
    "        # handle the case where our start date is before the symbol pair listed on Binance\n",
    "        if not symbol_existed and len(temp_data):\n",
    "            symbol_existed = True\n",
    "\n",
    "        if symbol_existed:\n",
    "            # append this loops data to our output data\n",
    "            output_data += temp_data\n",
    "\n",
    "            # update our start timestamp using the last value in the array and add the interval timeframe\n",
    "            start_ts = temp_data[len(temp_data) - 1][0] + timeframe\n",
    "        else:\n",
    "            # it wasn't listed yet, increment our start date\n",
    "            start_ts += timeframe\n",
    "\n",
    "        idx += 1\n",
    "        # check if we received less than the required limit and exit the loop\n",
    "        if len(temp_data) < limit:\n",
    "            # exit the while loop\n",
    "            break\n",
    "\n",
    "        # sleep after every 3rd call to be kind to the API\n",
    "        if idx % 3 == 0:\n",
    "            time.sleep(1)\n",
    "\n",
    "    return output_data"
   ]
  },
  {
   "cell_type": "markdown",
   "metadata": {},
   "source": [
    "#### Convert string date to milliseconds"
   ]
  },
  {
   "cell_type": "code",
   "execution_count": 9,
   "metadata": {},
   "outputs": [
    {
     "name": "stdout",
     "output_type": "stream",
     "text": [
      "1514764800000\n",
      "1587814802240\n",
      "1587854402242\n"
     ]
    }
   ],
   "source": [
    "print(date_to_milliseconds(\"January 01, 2018\"))\n",
    "print(date_to_milliseconds(\"11 hours ago UTC\"))\n",
    "print(date_to_milliseconds(\"now UTC\"))"
   ]
  },
  {
   "cell_type": "markdown",
   "metadata": {},
   "source": [
    "### Convert interval to milliseconds"
   ]
  },
  {
   "cell_type": "code",
   "execution_count": 5,
   "metadata": {},
   "outputs": [
    {
     "name": "stdout",
     "output_type": "stream",
     "text": [
      "60000\n",
      "300000\n",
      "1800000\n",
      "604800000\n"
     ]
    }
   ],
   "source": [
    "print(interval_to_milliseconds(Client.KLINE_INTERVAL_1MINUTE))\n",
    "print(interval_to_milliseconds(Client.KLINE_INTERVAL_5MINUTE))\n",
    "print(interval_to_milliseconds(Client.KLINE_INTERVAL_30MINUTE))\n",
    "print(interval_to_milliseconds(Client.KLINE_INTERVAL_1WEEK))"
   ]
  },
  {
   "cell_type": "markdown",
   "metadata": {},
   "source": [
    "### Gather Data using the get_klines from binance"
   ]
  },
  {
   "cell_type": "code",
   "execution_count": 17,
   "metadata": {},
   "outputs": [],
   "source": [
    "# fetch 1 minute klines for the last day up until now\n",
    "klinesa = get_historical_klines(\"BNBBTC\", Client.KLINE_INTERVAL_1MINUTE, \"1 day ago UTC\")\n",
    "# fetch 30 minute klines for the last month of 2017\n",
    "klinesb = get_historical_klines(\"ETHBTC\", Client.KLINE_INTERVAL_30MINUTE, \"1 Dec, 2017\", \"1 Jan, 2018\")\n",
    "# fetch weekly klines since it listed\n",
    "klinesc = get_historical_klines(\"NEOBTC\", Client.KLINE_INTERVAL_1WEEK, \"1 Jan, 2017\")"
   ]
  },
  {
   "cell_type": "code",
   "execution_count": null,
   "metadata": {},
   "outputs": [],
   "source": [
    "  [\n",
    "    1499040000000,      # Open time\n",
    "    \"0.01634790\",       # Open\n",
    "    \"0.80000000\",       # High\n",
    "    \"0.01575800\",       # Low\n",
    "    \"0.01577100\",       # Close\n",
    "    \"148976.11427815\",  # Volume\n",
    "    1499644799999,      # Close time\n",
    "    \"2434.19055334\",    # Quote asset volume\n",
    "    308,                # Number of trades\n",
    "    \"1756.87402397\",    # Taker buy base asset volume\n",
    "    \"28.46694368\",      # Taker buy quote asset volume\n",
    "    \"17928899.62484339\" # Ignore\n",
    "  ]"
   ]
  },
  {
   "cell_type": "code",
   "execution_count": 21,
   "metadata": {},
   "outputs": [
    {
     "data": {
      "text/plain": [
       "[[1512086400000,\n",
       "  '0.04368400',\n",
       "  '0.04375100',\n",
       "  '0.04334200',\n",
       "  '0.04366500',\n",
       "  '2081.85600000',\n",
       "  1512088199999,\n",
       "  '90.79655078',\n",
       "  3904,\n",
       "  '976.19100000',\n",
       "  '42.59074736',\n",
       "  '271480.34213668']]"
      ]
     },
     "execution_count": 21,
     "metadata": {},
     "output_type": "execute_result"
    }
   ],
   "source": [
    "klinesb[:1]"
   ]
  },
  {
   "cell_type": "markdown",
   "metadata": {},
   "source": [
    "### Save Data"
   ]
  },
  {
   "cell_type": "code",
   "execution_count": 46,
   "metadata": {},
   "outputs": [
    {
     "data": {
      "text/plain": [
       "'/home/ubuntu/Notebooks'"
      ]
     },
     "execution_count": 46,
     "metadata": {},
     "output_type": "execute_result"
    }
   ],
   "source": [
    "import os\n",
    "os.getcwd()"
   ]
  },
  {
   "cell_type": "code",
   "execution_count": 20,
   "metadata": {},
   "outputs": [],
   "source": [
    "symbol = \"ETHBTC\"\n",
    "start = \"1 Dec, 2017\"\n",
    "end = \"1 Jan, 2018\"\n",
    "interval = Client.KLINE_INTERVAL_30MINUTE\n",
    "\n",
    "klines = get_historical_klines(symbol, interval, start, end)\n",
    "os.chdir(\"/home/ubuntu/historical_data/\")\n",
    "# open a file with filename including symbol, interval and start and end converted to milliseconds\n",
    "with open(\n",
    "    \"Binance_{}_{}_{}-{}.json\".format(\n",
    "        symbol, \n",
    "        interval, \n",
    "        date_to_milliseconds(start),\n",
    "        date_to_milliseconds(end)\n",
    "    ),\n",
    "    'w' # set file write mode\n",
    ") as f:\n",
    "    f.write(json.dumps(klines))"
   ]
  },
  {
   "cell_type": "markdown",
   "metadata": {},
   "source": [
    "# Look at Order Books"
   ]
  },
  {
   "cell_type": "markdown",
   "metadata": {},
   "source": [
    "https://github.com/sammchardy/python-binance"
   ]
  },
  {
   "cell_type": "code",
   "execution_count": 41,
   "metadata": {},
   "outputs": [],
   "source": [
    "depth = client.get_order_book(symbol='ETHBTC')"
   ]
  },
  {
   "cell_type": "code",
   "execution_count": 45,
   "metadata": {},
   "outputs": [
    {
     "data": {
      "text/plain": [
       "1171297544"
      ]
     },
     "execution_count": 45,
     "metadata": {},
     "output_type": "execute_result"
    }
   ],
   "source": [
    "depth['lastUpdateId']"
   ]
  },
  {
   "cell_type": "code",
   "execution_count": 43,
   "metadata": {},
   "outputs": [
    {
     "data": {
      "text/plain": [
       "[['0.02568300', '0.14400000']]"
      ]
     },
     "execution_count": 43,
     "metadata": {},
     "output_type": "execute_result"
    }
   ],
   "source": [
    "depth['asks'][:1]"
   ]
  },
  {
   "cell_type": "code",
   "execution_count": 40,
   "metadata": {},
   "outputs": [
    {
     "data": {
      "text/plain": [
       "[['0.02568800', '1.06400000']]"
      ]
     },
     "execution_count": 40,
     "metadata": {},
     "output_type": "execute_result"
    }
   ],
   "source": [
    "depth['bids'][:1]"
   ]
  },
  {
   "cell_type": "code",
   "execution_count": null,
   "metadata": {},
   "outputs": [],
   "source": []
  }
 ],
 "metadata": {
  "kernelspec": {
   "display_name": "Python 3",
   "language": "python",
   "name": "python3"
  },
  "language_info": {
   "codemirror_mode": {
    "name": "ipython",
    "version": 3
   },
   "file_extension": ".py",
   "mimetype": "text/x-python",
   "name": "python",
   "nbconvert_exporter": "python",
   "pygments_lexer": "ipython3",
   "version": "3.7.4"
  }
 },
 "nbformat": 4,
 "nbformat_minor": 4
}
