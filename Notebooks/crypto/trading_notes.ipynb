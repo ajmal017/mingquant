{
 "cells": [
  {
   "cell_type": "code",
   "execution_count": 28,
   "metadata": {},
   "outputs": [],
   "source": [
    "api_key=\"ImPu9SCg8pZaGJyaQZ6X6LK3FP7O6HdSMpQdG3eax6nGIJEwPA4ryyFRN1MSfYg7\"\n",
    "api_secret=\"xHKeKf7Zz0FGTrhuL8aP7yvLo8e9jm8MlLi6JuWYgFdMyX1q3evdzEbPrt1ZCRvY\"\n",
    "from binance.client import Client\n",
    "client = Client(api_key, api_secret)\n",
    "import time\n",
    "import dateparser\n",
    "import pytz\n",
    "from datetime import datetime\n",
    "import json\n",
    "import sys\n",
    "import pandas as pd"
   ]
  },
  {
   "cell_type": "code",
   "execution_count": null,
   "metadata": {},
   "outputs": [],
   "source": [
    "```\n",
    "# client.futures_aggregate_trades()\n",
    "# client.futures_exchange_info()\n",
    "client.futures_funding_rate()\n",
    "# client.futures_historical_trades()\n",
    "futures_klines()\n",
    "# futures_leverage_bracket()\n",
    "# futures_liquidation_orders()\n",
    "# futures_mark_price()\n",
    "# futures_open_interest()\n",
    "# futures_recent_trades()\n",
    "\n",
    "# get_margin_asset()\n",
    "# get_margin_price_index()\n",
    "# get_recent_trades()\n",
    "# get_aggregate_trades()\n",
    "\n",
    "\n",
    "get_historical_klines_generator()\n",
    "aggregate_trade_iter()\n"
   ]
  },
  {
   "cell_type": "markdown",
   "metadata": {},
   "source": [
    "# Trading notes"
   ]
  },
  {
   "cell_type": "markdown",
   "metadata": {},
   "source": [
    "#### Futures Aggregate Trades for a symbol"
   ]
  },
  {
   "cell_type": "code",
   "execution_count": 64,
   "metadata": {},
   "outputs": [
    {
     "data": {
      "text/html": [
       "<div>\n",
       "<style scoped>\n",
       "    .dataframe tbody tr th:only-of-type {\n",
       "        vertical-align: middle;\n",
       "    }\n",
       "\n",
       "    .dataframe tbody tr th {\n",
       "        vertical-align: top;\n",
       "    }\n",
       "\n",
       "    .dataframe thead th {\n",
       "        text-align: right;\n",
       "    }\n",
       "</style>\n",
       "<table border=\"1\" class=\"dataframe\">\n",
       "  <thead>\n",
       "    <tr style=\"text-align: right;\">\n",
       "      <th></th>\n",
       "      <th>T</th>\n",
       "      <th>a</th>\n",
       "      <th>f</th>\n",
       "      <th>l</th>\n",
       "      <th>m</th>\n",
       "      <th>p</th>\n",
       "      <th>q</th>\n",
       "    </tr>\n",
       "  </thead>\n",
       "  <tbody>\n",
       "    <tr>\n",
       "      <th>0</th>\n",
       "      <td>1587869521098</td>\n",
       "      <td>71085048</td>\n",
       "      <td>96603336</td>\n",
       "      <td>96603338</td>\n",
       "      <td>True</td>\n",
       "      <td>7573.22</td>\n",
       "      <td>1.360</td>\n",
       "    </tr>\n",
       "    <tr>\n",
       "      <th>1</th>\n",
       "      <td>1587869521241</td>\n",
       "      <td>71085049</td>\n",
       "      <td>96603339</td>\n",
       "      <td>96603340</td>\n",
       "      <td>True</td>\n",
       "      <td>7573.22</td>\n",
       "      <td>0.172</td>\n",
       "    </tr>\n",
       "    <tr>\n",
       "      <th>2</th>\n",
       "      <td>1587869521312</td>\n",
       "      <td>71085050</td>\n",
       "      <td>96603341</td>\n",
       "      <td>96603341</td>\n",
       "      <td>False</td>\n",
       "      <td>7573.23</td>\n",
       "      <td>0.058</td>\n",
       "    </tr>\n",
       "    <tr>\n",
       "      <th>3</th>\n",
       "      <td>1587869521382</td>\n",
       "      <td>71085051</td>\n",
       "      <td>96603342</td>\n",
       "      <td>96603342</td>\n",
       "      <td>True</td>\n",
       "      <td>7573.22</td>\n",
       "      <td>0.007</td>\n",
       "    </tr>\n",
       "    <tr>\n",
       "      <th>4</th>\n",
       "      <td>1587869521537</td>\n",
       "      <td>71085052</td>\n",
       "      <td>96603343</td>\n",
       "      <td>96603343</td>\n",
       "      <td>False</td>\n",
       "      <td>7573.23</td>\n",
       "      <td>0.090</td>\n",
       "    </tr>\n",
       "  </tbody>\n",
       "</table>\n",
       "</div>"
      ],
      "text/plain": [
       "               T         a         f         l      m        p      q\n",
       "0  1587869521098  71085048  96603336  96603338   True  7573.22  1.360\n",
       "1  1587869521241  71085049  96603339  96603340   True  7573.22  0.172\n",
       "2  1587869521312  71085050  96603341  96603341  False  7573.23  0.058\n",
       "3  1587869521382  71085051  96603342  96603342   True  7573.22  0.007\n",
       "4  1587869521537  71085052  96603343  96603343  False  7573.23  0.090"
      ]
     },
     "execution_count": 64,
     "metadata": {},
     "output_type": "execute_result"
    }
   ],
   "source": [
    "dt = client.futures_aggregate_trades(symbol=\"BTCUSDT\")\n",
    "dtf = pd.DataFrame.from_dict(dt)\n",
    "dtf.head()"
   ]
  },
  {
   "cell_type": "markdown",
   "metadata": {},
   "source": [
    "#### Aggregate Trades for a symbol"
   ]
  },
  {
   "cell_type": "code",
   "execution_count": 65,
   "metadata": {},
   "outputs": [
    {
     "data": {
      "text/html": [
       "<div>\n",
       "<style scoped>\n",
       "    .dataframe tbody tr th:only-of-type {\n",
       "        vertical-align: middle;\n",
       "    }\n",
       "\n",
       "    .dataframe tbody tr th {\n",
       "        vertical-align: top;\n",
       "    }\n",
       "\n",
       "    .dataframe thead th {\n",
       "        text-align: right;\n",
       "    }\n",
       "</style>\n",
       "<table border=\"1\" class=\"dataframe\">\n",
       "  <thead>\n",
       "    <tr style=\"text-align: right;\">\n",
       "      <th></th>\n",
       "      <th>M</th>\n",
       "      <th>T</th>\n",
       "      <th>a</th>\n",
       "      <th>f</th>\n",
       "      <th>l</th>\n",
       "      <th>m</th>\n",
       "      <th>p</th>\n",
       "      <th>q</th>\n",
       "    </tr>\n",
       "  </thead>\n",
       "  <tbody>\n",
       "    <tr>\n",
       "      <th>0</th>\n",
       "      <td>True</td>\n",
       "      <td>1587868995414</td>\n",
       "      <td>156046377</td>\n",
       "      <td>173383614</td>\n",
       "      <td>173383614</td>\n",
       "      <td>False</td>\n",
       "      <td>0.02577900</td>\n",
       "      <td>2.31900000</td>\n",
       "    </tr>\n",
       "    <tr>\n",
       "      <th>1</th>\n",
       "      <td>True</td>\n",
       "      <td>1587868995620</td>\n",
       "      <td>156046378</td>\n",
       "      <td>173383615</td>\n",
       "      <td>173383616</td>\n",
       "      <td>False</td>\n",
       "      <td>0.02578600</td>\n",
       "      <td>11.13500000</td>\n",
       "    </tr>\n",
       "    <tr>\n",
       "      <th>2</th>\n",
       "      <td>True</td>\n",
       "      <td>1587869002189</td>\n",
       "      <td>156046379</td>\n",
       "      <td>173383617</td>\n",
       "      <td>173383617</td>\n",
       "      <td>False</td>\n",
       "      <td>0.02578600</td>\n",
       "      <td>0.75200000</td>\n",
       "    </tr>\n",
       "    <tr>\n",
       "      <th>3</th>\n",
       "      <td>True</td>\n",
       "      <td>1587869003041</td>\n",
       "      <td>156046380</td>\n",
       "      <td>173383618</td>\n",
       "      <td>173383618</td>\n",
       "      <td>False</td>\n",
       "      <td>0.02578800</td>\n",
       "      <td>0.10300000</td>\n",
       "    </tr>\n",
       "    <tr>\n",
       "      <th>4</th>\n",
       "      <td>True</td>\n",
       "      <td>1587869003156</td>\n",
       "      <td>156046381</td>\n",
       "      <td>173383619</td>\n",
       "      <td>173383619</td>\n",
       "      <td>False</td>\n",
       "      <td>0.02578900</td>\n",
       "      <td>0.10300000</td>\n",
       "    </tr>\n",
       "  </tbody>\n",
       "</table>\n",
       "</div>"
      ],
      "text/plain": [
       "      M              T          a          f          l      m           p  \\\n",
       "0  True  1587868995414  156046377  173383614  173383614  False  0.02577900   \n",
       "1  True  1587868995620  156046378  173383615  173383616  False  0.02578600   \n",
       "2  True  1587869002189  156046379  173383617  173383617  False  0.02578600   \n",
       "3  True  1587869003041  156046380  173383618  173383618  False  0.02578800   \n",
       "4  True  1587869003156  156046381  173383619  173383619  False  0.02578900   \n",
       "\n",
       "             q  \n",
       "0   2.31900000  \n",
       "1  11.13500000  \n",
       "2   0.75200000  \n",
       "3   0.10300000  \n",
       "4   0.10300000  "
      ]
     },
     "execution_count": 65,
     "metadata": {},
     "output_type": "execute_result"
    }
   ],
   "source": [
    "dt = client.get_aggregate_trades(symbol=\"ETHBTC\")\n",
    "dtf = pd.DataFrame.from_dict(dt)\n",
    "dtf.head()"
   ]
  },
  {
   "cell_type": "markdown",
   "metadata": {},
   "source": [
    "#### Futures mark price"
   ]
  },
  {
   "cell_type": "code",
   "execution_count": 67,
   "metadata": {},
   "outputs": [],
   "source": [
    "stat = client.futures_mark_price()\n",
    "markdf = pd.DataFrame.from_dict(stat)"
   ]
  },
  {
   "cell_type": "markdown",
   "metadata": {},
   "source": [
    "The Last Price is easy to understand. It means the Last Price that the contract was traded at. In other words, the last trade in the trading history defines the Last Price. It’s used for calculating your realized PnL (Profit and Loss).\n",
    "\n",
    "The Mark Price is designed to prevent price manipulation. It’s calculated using a combination of funding data and a basket of price data from multiple spot exchanges. Your liquidation prices and unrealized PnL are calculated based on the Mark Price."
   ]
  },
  {
   "cell_type": "code",
   "execution_count": 68,
   "metadata": {},
   "outputs": [
    {
     "data": {
      "text/html": [
       "<div>\n",
       "<style scoped>\n",
       "    .dataframe tbody tr th:only-of-type {\n",
       "        vertical-align: middle;\n",
       "    }\n",
       "\n",
       "    .dataframe tbody tr th {\n",
       "        vertical-align: top;\n",
       "    }\n",
       "\n",
       "    .dataframe thead th {\n",
       "        text-align: right;\n",
       "    }\n",
       "</style>\n",
       "<table border=\"1\" class=\"dataframe\">\n",
       "  <thead>\n",
       "    <tr style=\"text-align: right;\">\n",
       "      <th></th>\n",
       "      <th>lastFundingRate</th>\n",
       "      <th>markPrice</th>\n",
       "      <th>nextFundingTime</th>\n",
       "      <th>symbol</th>\n",
       "      <th>time</th>\n",
       "    </tr>\n",
       "  </thead>\n",
       "  <tbody>\n",
       "    <tr>\n",
       "      <th>0</th>\n",
       "      <td>0.00007058</td>\n",
       "      <td>7572.34952127</td>\n",
       "      <td>1587888000000</td>\n",
       "      <td>BTCUSDT</td>\n",
       "      <td>1587869692000</td>\n",
       "    </tr>\n",
       "    <tr>\n",
       "      <th>1</th>\n",
       "      <td>0</td>\n",
       "      <td>16.24660000</td>\n",
       "      <td>1587888000000</td>\n",
       "      <td>BNBUSDT</td>\n",
       "      <td>1587869692000</td>\n",
       "    </tr>\n",
       "    <tr>\n",
       "      <th>2</th>\n",
       "      <td>0.00010000</td>\n",
       "      <td>195.35497839</td>\n",
       "      <td>1587888000000</td>\n",
       "      <td>ETHUSDT</td>\n",
       "      <td>1587869692000</td>\n",
       "    </tr>\n",
       "    <tr>\n",
       "      <th>3</th>\n",
       "      <td>0.00010000</td>\n",
       "      <td>241.13627529</td>\n",
       "      <td>1587888000000</td>\n",
       "      <td>BCHUSDT</td>\n",
       "      <td>1587869692000</td>\n",
       "    </tr>\n",
       "    <tr>\n",
       "      <th>4</th>\n",
       "      <td>0.00010000</td>\n",
       "      <td>0.19507913</td>\n",
       "      <td>1587888000000</td>\n",
       "      <td>XRPUSDT</td>\n",
       "      <td>1587869692000</td>\n",
       "    </tr>\n",
       "  </tbody>\n",
       "</table>\n",
       "</div>"
      ],
      "text/plain": [
       "  lastFundingRate      markPrice  nextFundingTime   symbol           time\n",
       "0      0.00007058  7572.34952127    1587888000000  BTCUSDT  1587869692000\n",
       "1               0    16.24660000    1587888000000  BNBUSDT  1587869692000\n",
       "2      0.00010000   195.35497839    1587888000000  ETHUSDT  1587869692000\n",
       "3      0.00010000   241.13627529    1587888000000  BCHUSDT  1587869692000\n",
       "4      0.00010000     0.19507913    1587888000000  XRPUSDT  1587869692000"
      ]
     },
     "execution_count": 68,
     "metadata": {},
     "output_type": "execute_result"
    }
   ],
   "source": [
    "markdf.head()"
   ]
  },
  {
   "cell_type": "markdown",
   "metadata": {},
   "source": [
    "---"
   ]
  },
  {
   "cell_type": "markdown",
   "metadata": {},
   "source": [
    "# Order book analysis"
   ]
  },
  {
   "cell_type": "markdown",
   "metadata": {},
   "source": [
    "An order book is just an electronic list of buy and sell orders for an asset, organized by price level.\n",
    "\n",
    "These buy and sells orders are respectively referred to as bids and asks. A bid refers to the highest amount of price you are willing to pay for an asset. An ask refers to the lowest amount of money you are willing to sell your asset for.\n",
    "\n",
    "If you submit a buy/sell order for a quantity that can be instantly matched at the proposed price, you are considered a taker. Taker trades do not go on the order book since they do not need to.\n",
    "\n",
    "If the buy/sell order cannot be matched at the proposed price and you are waiting for someone else to take the other side, you are considered a maker. Maker trades end up going on the order book."
   ]
  },
  {
   "cell_type": "markdown",
   "metadata": {},
   "source": [
    "![orderbook](https://www.hodlbot.io/public/order_book_depth.png)"
   ]
  },
  {
   "cell_type": "markdown",
   "metadata": {},
   "source": [
    "# Order Book Depth\n",
    "\n",
    "https://www.hodlbot.io/blog/analysis-of-order-book-depth-on-binance\n",
    "\n",
    "\n",
    "### Depth is calculated by taking the total sum of every and bid multiplied by their respective price."
   ]
  },
  {
   "cell_type": "markdown",
   "metadata": {},
   "source": [
    "![scatter](https://www.hodlbot.io/public/volume_vs_order_book_depth.png)"
   ]
  },
  {
   "cell_type": "markdown",
   "metadata": {},
   "source": [
    "## Distribution of Order Depth for 2 pairs"
   ]
  },
  {
   "cell_type": "markdown",
   "metadata": {},
   "source": [
    "![density](https://www.hodlbot.io/public/dist_order_book_depth.png)"
   ]
  },
  {
   "cell_type": "markdown",
   "metadata": {},
   "source": [
    "---"
   ]
  },
  {
   "cell_type": "markdown",
   "metadata": {},
   "source": [
    "# Order Book Bid-Ask Spreads\n",
    "\n",
    "https://www.hodlbot.io/blog/bid-ask-spreads-on-the-binance-exchange\n",
    "\n",
    "### The gap between the highest price someone is willing to pay for an asset, and the lowest price someone is willing to sell it for, is known as thebid-ask spread.\n",
    "\n",
    "#### Example data: \n",
    "\n",
    "https://drive.google.com/open?id=1nAWFlU0XBY70RLIEene1FB6xm3Mhqi6v\n",
    "\n",
    "https://drive.google.com/open?id=1kZAk2XPQS5qFOdqXC0zYXXsmxs-GCF0O"
   ]
  },
  {
   "cell_type": "markdown",
   "metadata": {},
   "source": [
    "![spread](https://www.hodlbot.io/public/dist-bid-ask-spread.png)"
   ]
  },
  {
   "cell_type": "markdown",
   "metadata": {},
   "source": [
    "### On Binance, you can see up to 1.5% bid-ask spread for pairs with low trading volume. Heavily traded pairs are mostly under 0.4%"
   ]
  },
  {
   "cell_type": "markdown",
   "metadata": {},
   "source": [
    "![scatterspread](https://www.hodlbot.io/public/bid-ask-spread-vs-volume.png)"
   ]
  },
  {
   "cell_type": "markdown",
   "metadata": {},
   "source": [
    "---"
   ]
  },
  {
   "cell_type": "markdown",
   "metadata": {},
   "source": [
    "## Slippage"
   ]
  },
  {
   "cell_type": "markdown",
   "metadata": {},
   "source": [
    "https://www.hodlbot.io/blog/an-analysis-of-slippage-on-the-binance-exchange"
   ]
  },
  {
   "cell_type": "markdown",
   "metadata": {},
   "source": [
    "The difference between the expected price of a trade and the price at which the trade is actually executed is known as slippage.\n",
    "\n",
    "Assuming trading volume is high, you should see less slippage. And when trading volume is slow, you should expect to see more slippage."
   ]
  },
  {
   "cell_type": "markdown",
   "metadata": {},
   "source": [
    "![slippages](https://www.hodlbot.io/public/slippage-dist.png)"
   ]
  },
  {
   "cell_type": "markdown",
   "metadata": {},
   "source": [
    "### Slippages vs. Volume....less slippage at higher volume"
   ]
  },
  {
   "cell_type": "markdown",
   "metadata": {},
   "source": [
    "![slippagevolume](https://www.hodlbot.io/public/slippage-color.png)"
   ]
  },
  {
   "cell_type": "code",
   "execution_count": null,
   "metadata": {},
   "outputs": [],
   "source": []
  }
 ],
 "metadata": {
  "kernelspec": {
   "display_name": "Python 3",
   "language": "python",
   "name": "python3"
  },
  "language_info": {
   "codemirror_mode": {
    "name": "ipython",
    "version": 3
   },
   "file_extension": ".py",
   "mimetype": "text/x-python",
   "name": "python",
   "nbconvert_exporter": "python",
   "pygments_lexer": "ipython3",
   "version": "3.7.3"
  }
 },
 "nbformat": 4,
 "nbformat_minor": 2
}
