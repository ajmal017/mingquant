{
 "cells": [
  {
   "cell_type": "code",
   "execution_count": 519,
   "metadata": {},
   "outputs": [],
   "source": [
    "from binance.client import Client\n",
    "# client = Client(api_key, api_secret)\n",
    "import time\n",
    "import dateparser\n",
    "import pytz\n",
    "from datetime import datetime\n",
    "import json\n",
    "import pandas as pd"
   ]
  },
  {
   "cell_type": "markdown",
   "metadata": {},
   "source": [
    "### Define functions (hidden)"
   ]
  },
  {
   "cell_type": "code",
   "execution_count": 520,
   "metadata": {
    "jupyter": {
     "source_hidden": true
    }
   },
   "outputs": [],
   "source": [
    "#!/home/ubuntu/anaconda3/bin/python\n",
    "from binance.client import Client\n",
    "import time\n",
    "import dateparser\n",
    "import pytz\n",
    "from datetime import datetime\n",
    "import json\n",
    "\n",
    "def date_to_milliseconds(date_str):\n",
    "    \"\"\"Convert UTC date to milliseconds\n",
    "    If using offset strings add \"UTC\" to date string e.g. \"now UTC\", \"11 hours ago UTC\"\n",
    "    See dateparse docs for formats http://dateparser.readthedocs.io/en/latest/\n",
    "    :param date_str: date in readable format, i.e. \"January 01, 2018\", \"11 hours ago UTC\", \"now UTC\"\n",
    "    :type date_str: str\n",
    "    \"\"\"\n",
    "    # get epoch value in UTC\n",
    "    epoch = datetime.utcfromtimestamp(0).replace(tzinfo=pytz.utc)\n",
    "    # parse our date string\n",
    "    d = dateparser.parse(date_str)\n",
    "    # if the date is not timezone aware apply UTC timezone\n",
    "    if d.tzinfo is None or d.tzinfo.utcoffset(d) is None:\n",
    "        d = d.replace(tzinfo=pytz.utc)\n",
    "\n",
    "    # return the difference in time\n",
    "    return int((d - epoch).total_seconds() * 1000.0)\n",
    "\n",
    "\n",
    "def interval_to_milliseconds(interval):\n",
    "    \"\"\"Convert a Binance interval string to milliseconds\n",
    "    :param interval: Binance interval string 1m, 3m, 5m, 15m, 30m, 1h, 2h, 4h, 6h, 8h, 12h, 1d, 3d, 1w\n",
    "    :type interval: str\n",
    "    :return:\n",
    "         None if unit not one of m, h, d or w\n",
    "         None if string not in correct format\n",
    "         int value of interval in milliseconds\n",
    "    \"\"\"\n",
    "    ms = None\n",
    "    seconds_per_unit = {\n",
    "        \"m\": 60,\n",
    "        \"h\": 60 * 60,\n",
    "        \"d\": 24 * 60 * 60,\n",
    "        \"w\": 7 * 24 * 60 * 60\n",
    "    }\n",
    "\n",
    "    unit = interval[-1]\n",
    "    if unit in seconds_per_unit:\n",
    "        try:\n",
    "            ms = int(interval[:-1]) * seconds_per_unit[unit] * 1000\n",
    "        except ValueError:\n",
    "            pass\n",
    "    return ms\n",
    "\n",
    "def get_historical_klines(symbol, interval, start_str, end_str=None):\n",
    "    \"\"\"Get Historical Klines from Binance\n",
    "    See dateparse docs for valid start and end string formats http://dateparser.readthedocs.io/en/latest/\n",
    "    If using offset strings for dates add \"UTC\" to date string e.g. \"now UTC\", \"11 hours ago UTC\"\n",
    "    :param symbol: Name of symbol pair e.g BNBBTC\n",
    "    :type symbol: str\n",
    "    :param interval: Biannce Kline interval\n",
    "    :type interval: str\n",
    "    :param start_str: Start date string in UTC format\n",
    "    :type start_str: str\n",
    "    :param end_str: optional - end date string in UTC format\n",
    "    :type end_str: str\n",
    "    :return: list of OHLCV values\n",
    "    \"\"\"\n",
    "    # create the Binance client, no need for api key\n",
    "    client = Client(\"\", \"\")\n",
    "\n",
    "    # init our list\n",
    "    output_data = []\n",
    "\n",
    "    # setup the max limit\n",
    "    limit = 500\n",
    "\n",
    "    # convert interval to useful value in seconds\n",
    "    timeframe = interval_to_milliseconds(interval)\n",
    "\n",
    "    # convert our date strings to milliseconds\n",
    "    start_ts = date_to_milliseconds(start_str)\n",
    "\n",
    "    # if an end time was passed convert it\n",
    "    end_ts = None\n",
    "    if end_str:\n",
    "        end_ts = date_to_milliseconds(end_str)\n",
    "\n",
    "    idx = 0\n",
    "    # it can be difficult to know when a symbol was listed on Binance so allow start time to be before list date\n",
    "    symbol_existed = False\n",
    "    while True:\n",
    "        # fetch the klines from start_ts up to max 500 entries or the end_ts if set\n",
    "        temp_data = client.get_klines(\n",
    "            symbol=symbol,\n",
    "            interval=interval,\n",
    "            limit=limit,\n",
    "            startTime=start_ts,\n",
    "            endTime=end_ts\n",
    "        )\n",
    "\n",
    "        # handle the case where our start date is before the symbol pair listed on Binance\n",
    "        if not symbol_existed and len(temp_data):\n",
    "            symbol_existed = True\n",
    "\n",
    "        if symbol_existed:\n",
    "            # append this loops data to our output data\n",
    "            output_data += temp_data\n",
    "\n",
    "            # update our start timestamp using the last value in the array and add the interval timeframe\n",
    "            start_ts = temp_data[len(temp_data) - 1][0] + timeframe\n",
    "        else:\n",
    "            # it wasn't listed yet, increment our start date\n",
    "            start_ts += timeframe\n",
    "\n",
    "        idx += 1\n",
    "        # check if we received less than the required limit and exit the loop\n",
    "        if len(temp_data) < limit:\n",
    "            # exit the while loop\n",
    "            break\n",
    "\n",
    "        # sleep after every 3rd call to be kind to the API\n",
    "        if idx % 3 == 0:\n",
    "            time.sleep(1)\n",
    "\n",
    "    return output_data\n",
    "\n",
    "\n",
    "# symfile = pd.read_csv(\"/home/ubuntu/binance_data/binance_tickers.txt\", header=None, sep=\"\\t\", names=['symbol'])\n",
    "# syms = [i for i in set(symfile.symbol.values)]\n",
    "# outfile = \"/home/ubuntu/binance_data/klines_usdsymbols.txt\"\n",
    "\n",
    "# for symbol in syms:\n",
    "#     klinesa = get_historical_klines(symbol, Client.KLINE_INTERVAL_1MINUTE, \"5 minutes ago UTC\")\n",
    "#     dfout = pd.DataFrame.from_dict(klinesa)\n",
    "#     dfout['symbol'] = symbol\n",
    "#     dfout['time'] = str(datetime.now())\n",
    "#     dfout.to_csv(outfile, mode='a', sep=\"\\t\", header=False, index=False)"
   ]
  },
  {
   "cell_type": "markdown",
   "metadata": {},
   "source": [
    "## Get your data in desired intervals \n",
    "\n",
    "##### Symbol \"BTCUSDT\" is the bitcoin - USD tether pair\n",
    "\n",
    "##### Uses string -> datetime conversions"
   ]
  },
  {
   "cell_type": "code",
   "execution_count": 582,
   "metadata": {},
   "outputs": [],
   "source": [
    "def get_ohlc(symbol, start, end=\"1 hour ago\", interval=Client.KLINE_INTERVAL_1DAY):\n",
    "    start_str = start + \" UTC\"\n",
    "    end_str = end + \" UTC\"\n",
    "    klinesa = get_historical_klines(symbol, interval,start_str, end_str)\n",
    "    start_ts = date_to_milliseconds(start_str)\n",
    "    cnames = ['open_time', 'Open', 'High', 'Low', 'Close', 'volume', 'close_time', \n",
    "              'volume', 'n_trades',' taker_buybase_volume', 'taker_buyquote_volume', 'ignore']\n",
    "    odf = pd.DataFrame.from_dict(klinesa)\n",
    "    odf.columns = cnames\n",
    "    outdf = odf.copy()[['Open','High', 'Low', 'Close']]\n",
    "    outdf.index = pd.to_datetime(odf['open_time'], unit='ms')\n",
    "    cols = outdf.columns\n",
    "    outdf[cols] = outdf[cols].apply(pd.to_numeric, errors='coerce')\n",
    "    return outdf"
   ]
  },
  {
   "cell_type": "code",
   "execution_count": 597,
   "metadata": {},
   "outputs": [
    {
     "name": "stdout",
     "output_type": "stream",
     "text": [
      "983\n",
      "4355\n",
      "2562\n"
     ]
    }
   ],
   "source": [
    "# Get OHLC Data starting 6 months ago in 1 Hour Intervals\n",
    "btcusd1h = get_ohlc(\"BTCUSDT\", \"6 months ago\", \"1 day ago\", interval=Client.KLINE_INTERVAL_1HOUR)\n",
    "print(len(btcusd1h))\n",
    "\n",
    "# Get OHLC Data starting 3 months ago in 30 min Intervals\n",
    "btcusd30min = get_ohlc(\"BTCUSDT\", \"3 months ago\", \"1 day ago\", interval=Client.KLINE_INTERVAL_30MINUTE)\n",
    "print(len(btcusd5min))\n"
   ]
  },
  {
   "cell_type": "markdown",
   "metadata": {},
   "source": [
    "## Simple Moving Average Cross Strategy\n",
    "\n",
    "https://kernc.github.io/backtesting.py/doc/examples/Strategies%20Library.html"
   ]
  },
  {
   "cell_type": "code",
   "execution_count": 545,
   "metadata": {},
   "outputs": [],
   "source": [
    "from backtesting.test import SMA\n",
    "\n",
    "import pandas as pd\n",
    "from backtesting.lib import SignalStrategy, TrailingStrategy\n",
    "\n",
    "\n",
    "class SmaCross(SignalStrategy,\n",
    "               TrailingStrategy):\n",
    "    n1 = 10\n",
    "    n2 = 20\n",
    "    atr = 1\n",
    "    def init(self):\n",
    "        # In init() and in next() it is important to call the\n",
    "        # super method to properly initialize all the classes\n",
    "        super().init()\n",
    "        \n",
    "        # Precompute the two moving averages\n",
    "        sma1 = self.I(SMA, self.data.Close, self.n1)\n",
    "        sma2 = self.I(SMA, self.data.Close, self.n2)\n",
    "        \n",
    "        # Taking a first difference (`.diff()`) of a boolean\n",
    "        # series results in +1, 0, and -1 values. In our signal,\n",
    "        # as expected by SignalStrategy, +1 means buy,\n",
    "        # -1 means sell, and 0 means to hold whatever current\n",
    "        # position and wait. See the docs.\n",
    "        signal = (pd.Series(sma1) > sma2).astype(int).diff().fillna(0)\n",
    "        \n",
    "        # Set the signal vector using the method provided\n",
    "        # by SignalStrategy\n",
    "        self.set_signal(signal)\n",
    "        \n",
    "        # Set trailing stop-loss to 4x ATR\n",
    "        # using the method provided by TrailingStrategy\n",
    "        self.set_trailing_sl(self.atr)"
   ]
  },
  {
   "cell_type": "markdown",
   "metadata": {},
   "source": [
    "### Optimize n1, n2 and atr parameters"
   ]
  },
  {
   "cell_type": "code",
   "execution_count": 546,
   "metadata": {},
   "outputs": [
    {
     "name": "stderr",
     "output_type": "stream",
     "text": [
      "/opt/anaconda3/lib/python3.7/site-packages/ipykernel_launcher.py:6: UserWarning: Searching best of 1368 configurations.\n",
      "  \n"
     ]
    },
    {
     "data": {
      "application/vnd.jupyter.widget-view+json": {
       "model_id": "953597ad48dc49d9bca0042e2d57ada5",
       "version_major": 2,
       "version_minor": 0
      },
      "text/plain": [
       "HBox(children=(IntProgress(value=0, max=8), HTML(value='')))"
      ]
     },
     "metadata": {},
     "output_type": "display_data"
    },
    {
     "name": "stdout",
     "output_type": "stream",
     "text": [
      "CPU times: user 2.82 s, sys: 2.7 s, total: 5.52 s\n",
      "Wall time: 57.2 s\n"
     ]
    }
   ],
   "source": [
    "%%time\n",
    "bt1h = Backtest(btcusd1h, SmaCross, commission=0.02)\n",
    "stats1h = bt1h.optimize(n1=range(150, 180, 10,\n",
    "                    n2=range(540, 580, 10),\n",
    "                    atr=range(8, 12, 1),\n",
    "                    maximize='Equity Final [$]',\n",
    "                    constraint=lambda p: p.n1 < p.n2)"
   ]
  },
  {
   "cell_type": "code",
   "execution_count": 547,
   "metadata": {},
   "outputs": [
    {
     "data": {
      "text/plain": [
       "Start                             2019-10-26 20:00:00\n",
       "End                               2020-04-25 19:00:00\n",
       "Duration                            181 days 23:00:00\n",
       "Exposure [%]                                  79.6657\n",
       "Equity Final [$]                              8514.53\n",
       "Equity Peak [$]                               11156.8\n",
       "Return [%]                                   -14.8547\n",
       "Buy & Hold Return [%]                         17.1912\n",
       "Max. Drawdown [%]                            -41.5232\n",
       "Avg. Drawdown [%]                              -11.59\n",
       "Max. Drawdown Duration              148 days 04:00:00\n",
       "Avg. Drawdown Duration               29 days 05:00:00\n",
       "# Trades                                           50\n",
       "Win Rate [%]                                       28\n",
       "Best Trade [%]                                26.3174\n",
       "Worst Trade [%]                              -8.82432\n",
       "Avg. Trade [%]                              -0.203012\n",
       "Max. Trade Duration                  12 days 21:00:00\n",
       "Avg. Trade Duration                   2 days 22:00:00\n",
       "Expectancy [%]                                4.56301\n",
       "SQN                                         -0.493831\n",
       "Sharpe Ratio                               -0.0292215\n",
       "Sortino Ratio                                -0.11253\n",
       "Calmar Ratio                              -0.00488912\n",
       "_strategy                 SmaCross(n1=45,n2=80,atr=4)\n",
       "dtype: object"
      ]
     },
     "execution_count": 547,
     "metadata": {},
     "output_type": "execute_result"
    }
   ],
   "source": [
    "print(stats1h)\n",
    "bt1h.plot()"
   ]
  },
  {
   "cell_type": "markdown",
   "metadata": {},
   "source": [
    "## Run on 30min windows"
   ]
  },
  {
   "cell_type": "code",
   "execution_count": null,
   "metadata": {},
   "outputs": [],
   "source": [
    "%%time\n",
    "bt30min = Backtest(btcusd30min, SmaCross, commission=0.02)\n",
    "stats30min = bt30min.optimize(n1=range(170, 220, 10),\n",
    "                    n2=range(650, 850, 10),\n",
    "                    atr=range(10, 20, 1),\n",
    "                    maximize='Equity Final [$]',\n",
    "                    constraint=lambda p: p.n1 < p.n2)"
   ]
  },
  {
   "cell_type": "code",
   "execution_count": null,
   "metadata": {},
   "outputs": [],
   "source": [
    "print(stats30min)\n",
    "bt30min.plot()"
   ]
  },
  {
   "cell_type": "markdown",
   "metadata": {},
   "source": [
    "# More Tutorials"
   ]
  },
  {
   "cell_type": "markdown",
   "metadata": {},
   "source": [
    "## Simple Moving Average 4 parameter Cross Strategy\n",
    "\n",
    "https://kernc.github.io/backtesting.py/doc/examples/Parameter%20Heatmap.html"
   ]
  },
  {
   "cell_type": "markdown",
   "metadata": {},
   "source": [
    "<!-- # stats -->"
   ]
  },
  {
   "cell_type": "markdown",
   "metadata": {},
   "source": [
    "## Test Simple Moving Average + Relative Strength Index in Multiple Time Windows\n",
    "\n",
    "https://kernc.github.io/backtesting.py/doc/examples/Multiple%20Time%20Frames.html"
   ]
  }
 ],
 "metadata": {
  "kernelspec": {
   "display_name": "Python 3",
   "language": "python",
   "name": "python3"
  },
  "language_info": {
   "codemirror_mode": {
    "name": "ipython",
    "version": 3
   },
   "file_extension": ".py",
   "mimetype": "text/x-python",
   "name": "python",
   "nbconvert_exporter": "python",
   "pygments_lexer": "ipython3",
   "version": "3.7.4"
  }
 },
 "nbformat": 4,
 "nbformat_minor": 4
}
