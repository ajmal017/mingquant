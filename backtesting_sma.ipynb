{
 "cells": [
  {
   "cell_type": "code",
   "execution_count": 519,
   "metadata": {},
   "outputs": [],
   "source": [
    "from binance.client import Client\n",
    "# client = Client(api_key, api_secret)\n",
    "import time\n",
    "import dateparser\n",
    "import pytz\n",
    "from datetime import datetime\n",
    "import json\n",
    "import pandas as pd"
   ]
  },
  {
   "cell_type": "markdown",
   "metadata": {},
   "source": [
    "### Define functions (hidden)"
   ]
  },
  {
   "cell_type": "code",
   "execution_count": 520,
   "metadata": {
    "jupyter": {
     "source_hidden": true
    }
   },
   "outputs": [],
   "source": [
    "#!/home/ubuntu/anaconda3/bin/python\n",
    "from binance.client import Client\n",
    "import time\n",
    "import dateparser\n",
    "import pytz\n",
    "from datetime import datetime\n",
    "import json\n",
    "\n",
    "def date_to_milliseconds(date_str):\n",
    "    \"\"\"Convert UTC date to milliseconds\n",
    "    If using offset strings add \"UTC\" to date string e.g. \"now UTC\", \"11 hours ago UTC\"\n",
    "    See dateparse docs for formats http://dateparser.readthedocs.io/en/latest/\n",
    "    :param date_str: date in readable format, i.e. \"January 01, 2018\", \"11 hours ago UTC\", \"now UTC\"\n",
    "    :type date_str: str\n",
    "    \"\"\"\n",
    "    # get epoch value in UTC\n",
    "    epoch = datetime.utcfromtimestamp(0).replace(tzinfo=pytz.utc)\n",
    "    # parse our date string\n",
    "    d = dateparser.parse(date_str)\n",
    "    # if the date is not timezone aware apply UTC timezone\n",
    "    if d.tzinfo is None or d.tzinfo.utcoffset(d) is None:\n",
    "        d = d.replace(tzinfo=pytz.utc)\n",
    "\n",
    "    # return the difference in time\n",
    "    return int((d - epoch).total_seconds() * 1000.0)\n",
    "\n",
    "\n",
    "def interval_to_milliseconds(interval):\n",
    "    \"\"\"Convert a Binance interval string to milliseconds\n",
    "    :param interval: Binance interval string 1m, 3m, 5m, 15m, 30m, 1h, 2h, 4h, 6h, 8h, 12h, 1d, 3d, 1w\n",
    "    :type interval: str\n",
    "    :return:\n",
    "         None if unit not one of m, h, d or w\n",
    "         None if string not in correct format\n",
    "         int value of interval in milliseconds\n",
    "    \"\"\"\n",
    "    ms = None\n",
    "    seconds_per_unit = {\n",
    "        \"m\": 60,\n",
    "        \"h\": 60 * 60,\n",
    "        \"d\": 24 * 60 * 60,\n",
    "        \"w\": 7 * 24 * 60 * 60\n",
    "    }\n",
    "\n",
    "    unit = interval[-1]\n",
    "    if unit in seconds_per_unit:\n",
    "        try:\n",
    "            ms = int(interval[:-1]) * seconds_per_unit[unit] * 1000\n",
    "        except ValueError:\n",
    "            pass\n",
    "    return ms\n",
    "\n",
    "def get_historical_klines(symbol, interval, start_str, end_str=None):\n",
    "    \"\"\"Get Historical Klines from Binance\n",
    "    See dateparse docs for valid start and end string formats http://dateparser.readthedocs.io/en/latest/\n",
    "    If using offset strings for dates add \"UTC\" to date string e.g. \"now UTC\", \"11 hours ago UTC\"\n",
    "    :param symbol: Name of symbol pair e.g BNBBTC\n",
    "    :type symbol: str\n",
    "    :param interval: Biannce Kline interval\n",
    "    :type interval: str\n",
    "    :param start_str: Start date string in UTC format\n",
    "    :type start_str: str\n",
    "    :param end_str: optional - end date string in UTC format\n",
    "    :type end_str: str\n",
    "    :return: list of OHLCV values\n",
    "    \"\"\"\n",
    "    # create the Binance client, no need for api key\n",
    "    client = Client(\"\", \"\")\n",
    "\n",
    "    # init our list\n",
    "    output_data = []\n",
    "\n",
    "    # setup the max limit\n",
    "    limit = 500\n",
    "\n",
    "    # convert interval to useful value in seconds\n",
    "    timeframe = interval_to_milliseconds(interval)\n",
    "\n",
    "    # convert our date strings to milliseconds\n",
    "    start_ts = date_to_milliseconds(start_str)\n",
    "\n",
    "    # if an end time was passed convert it\n",
    "    end_ts = None\n",
    "    if end_str:\n",
    "        end_ts = date_to_milliseconds(end_str)\n",
    "\n",
    "    idx = 0\n",
    "    # it can be difficult to know when a symbol was listed on Binance so allow start time to be before list date\n",
    "    symbol_existed = False\n",
    "    while True:\n",
    "        # fetch the klines from start_ts up to max 500 entries or the end_ts if set\n",
    "        temp_data = client.get_klines(\n",
    "            symbol=symbol,\n",
    "            interval=interval,\n",
    "            limit=limit,\n",
    "            startTime=start_ts,\n",
    "            endTime=end_ts\n",
    "        )\n",
    "\n",
    "        # handle the case where our start date is before the symbol pair listed on Binance\n",
    "        if not symbol_existed and len(temp_data):\n",
    "            symbol_existed = True\n",
    "\n",
    "        if symbol_existed:\n",
    "            # append this loops data to our output data\n",
    "            output_data += temp_data\n",
    "\n",
    "            # update our start timestamp using the last value in the array and add the interval timeframe\n",
    "            start_ts = temp_data[len(temp_data) - 1][0] + timeframe\n",
    "        else:\n",
    "            # it wasn't listed yet, increment our start date\n",
    "            start_ts += timeframe\n",
    "\n",
    "        idx += 1\n",
    "        # check if we received less than the required limit and exit the loop\n",
    "        if len(temp_data) < limit:\n",
    "            # exit the while loop\n",
    "            break\n",
    "\n",
    "        # sleep after every 3rd call to be kind to the API\n",
    "        if idx % 3 == 0:\n",
    "            time.sleep(1)\n",
    "\n",
    "    return output_data\n",
    "\n",
    "\n",
    "# symfile = pd.read_csv(\"/home/ubuntu/binance_data/binance_tickers.txt\", header=None, sep=\"\\t\", names=['symbol'])\n",
    "# syms = [i for i in set(symfile.symbol.values)]\n",
    "# outfile = \"/home/ubuntu/binance_data/klines_usdsymbols.txt\"\n",
    "\n",
    "# for symbol in syms:\n",
    "#     klinesa = get_historical_klines(symbol, Client.KLINE_INTERVAL_1MINUTE, \"5 minutes ago UTC\")\n",
    "#     dfout = pd.DataFrame.from_dict(klinesa)\n",
    "#     dfout['symbol'] = symbol\n",
    "#     dfout['time'] = str(datetime.now())\n",
    "#     dfout.to_csv(outfile, mode='a', sep=\"\\t\", header=False, index=False)"
   ]
  },
  {
   "cell_type": "markdown",
   "metadata": {},
   "source": [
    "## Get your data in desired intervals \n",
    "\n",
    "##### Symbol \"BTCUSDT\" is the bitcoin - USD tether pair\n",
    "\n",
    "##### Uses string -> datetime conversions"
   ]
  },
  {
   "cell_type": "code",
   "execution_count": 582,
   "metadata": {},
   "outputs": [],
   "source": [
    "def get_ohlc(symbol, start, end=\"1 hour ago\", interval=Client.KLINE_INTERVAL_1DAY):\n",
    "    start_str = start + \" UTC\"\n",
    "    end_str = end + \" UTC\"\n",
    "    klinesa = get_historical_klines(symbol, interval,start_str, end_str)\n",
    "    start_ts = date_to_milliseconds(start_str)\n",
    "    cnames = ['open_time', 'Open', 'High', 'Low', 'Close', 'volume', 'close_time', \n",
    "              'volume', 'n_trades',' taker_buybase_volume', 'taker_buyquote_volume', 'ignore']\n",
    "    odf = pd.DataFrame.from_dict(klinesa)\n",
    "    odf.columns = cnames\n",
    "    outdf = odf.copy()[['Open','High', 'Low', 'Close']]\n",
    "    outdf.index = pd.to_datetime(odf['open_time'], unit='ms')\n",
    "    cols = outdf.columns\n",
    "    outdf[cols] = outdf[cols].apply(pd.to_numeric, errors='coerce')\n",
    "    return outdf"
   ]
  },
  {
   "cell_type": "code",
   "execution_count": 597,
   "metadata": {},
   "outputs": [
    {
     "name": "stdout",
     "output_type": "stream",
     "text": [
      "983\n",
      "4355\n",
      "2562\n"
     ]
    }
   ],
   "source": [
    "# Get OHLC Data for 1 year starting 2 years ago in 1 Day Intervals (utilize defaults)\n",
    "btcusd1d = get_ohlc(\"BTCUSDT\", \"4 years ago\", \"1 day ago\")\n",
    "print(len(btcusd1d))\n",
    "\n",
    "# Get OHLC Data starting 6 months ago in 1 Hour Intervals\n",
    "btcusd1h = get_ohlc(\"BTCUSDT\", \"6 months ago\", \"1 day ago\", interval=Client.KLINE_INTERVAL_1HOUR)\n",
    "print(len(btcusd1h))\n",
    "\n",
    "# Get OHLC Data starting 10 days ago in 5 Minute Intervals\n",
    "btcusd5min = get_ohlc(\"BTCUSDT\", \"10 days ago\", \"1 day ago\", interval=Client.KLINE_INTERVAL_5MINUTE)\n",
    "print(len(btcusd5min))\n"
   ]
  },
  {
   "cell_type": "markdown",
   "metadata": {},
   "source": [
    "## Simple Moving Average Cross Strategy\n",
    "\n",
    "https://kernc.github.io/backtesting.py/doc/examples/Strategies%20Library.html"
   ]
  },
  {
   "cell_type": "code",
   "execution_count": 545,
   "metadata": {},
   "outputs": [],
   "source": [
    "from backtesting.test import SMA\n",
    "\n",
    "import pandas as pd\n",
    "from backtesting.lib import SignalStrategy, TrailingStrategy\n",
    "\n",
    "\n",
    "class SmaCross(SignalStrategy,\n",
    "               TrailingStrategy):\n",
    "    n1 = 10\n",
    "    n2 = 20\n",
    "    atr = 1\n",
    "    def init(self):\n",
    "        # In init() and in next() it is important to call the\n",
    "        # super method to properly initialize all the classes\n",
    "        super().init()\n",
    "        \n",
    "        # Precompute the two moving averages\n",
    "        sma1 = self.I(SMA, self.data.Close, self.n1)\n",
    "        sma2 = self.I(SMA, self.data.Close, self.n2)\n",
    "        \n",
    "        # Taking a first difference (`.diff()`) of a boolean\n",
    "        # series results in +1, 0, and -1 values. In our signal,\n",
    "        # as expected by SignalStrategy, +1 means buy,\n",
    "        # -1 means sell, and 0 means to hold whatever current\n",
    "        # position and wait. See the docs.\n",
    "        signal = (pd.Series(sma1) > sma2).astype(int).diff().fillna(0)\n",
    "        \n",
    "        # Set the signal vector using the method provided\n",
    "        # by SignalStrategy\n",
    "        self.set_signal(signal)\n",
    "        \n",
    "        # Set trailing stop-loss to 4x ATR\n",
    "        # using the method provided by TrailingStrategy\n",
    "        self.set_trailing_sl(self.atr)"
   ]
  },
  {
   "cell_type": "markdown",
   "metadata": {},
   "source": [
    "### Optimize n1, n2 and atr parameters"
   ]
  },
  {
   "cell_type": "code",
   "execution_count": 546,
   "metadata": {},
   "outputs": [
    {
     "name": "stderr",
     "output_type": "stream",
     "text": [
      "/opt/anaconda3/lib/python3.7/site-packages/ipykernel_launcher.py:6: UserWarning: Searching best of 1368 configurations.\n",
      "  \n"
     ]
    },
    {
     "data": {
      "application/vnd.jupyter.widget-view+json": {
       "model_id": "953597ad48dc49d9bca0042e2d57ada5",
       "version_major": 2,
       "version_minor": 0
      },
      "text/plain": [
       "HBox(children=(IntProgress(value=0, max=8), HTML(value='')))"
      ]
     },
     "metadata": {},
     "output_type": "display_data"
    },
    {
     "name": "stdout",
     "output_type": "stream",
     "text": [
      "CPU times: user 2.82 s, sys: 2.7 s, total: 5.52 s\n",
      "Wall time: 57.2 s\n"
     ]
    }
   ],
   "source": [
    "%%time\n",
    "bt = Backtest(btcusd1h, SmaCross, commission=0.02)\n",
    "stats = bt.optimize(n1=range(10, 100, 5),\n",
    "                    n2=range(20, 100, 5),\n",
    "                    atr=range(1, 10, 1),\n",
    "                    maximize='Equity Final [$]',\n",
    "                    constraint=lambda p: p.n1 < p.n2)"
   ]
  },
  {
   "cell_type": "code",
   "execution_count": 547,
   "metadata": {},
   "outputs": [
    {
     "data": {
      "text/plain": [
       "Start                             2019-10-26 20:00:00\n",
       "End                               2020-04-25 19:00:00\n",
       "Duration                            181 days 23:00:00\n",
       "Exposure [%]                                  79.6657\n",
       "Equity Final [$]                              8514.53\n",
       "Equity Peak [$]                               11156.8\n",
       "Return [%]                                   -14.8547\n",
       "Buy & Hold Return [%]                         17.1912\n",
       "Max. Drawdown [%]                            -41.5232\n",
       "Avg. Drawdown [%]                              -11.59\n",
       "Max. Drawdown Duration              148 days 04:00:00\n",
       "Avg. Drawdown Duration               29 days 05:00:00\n",
       "# Trades                                           50\n",
       "Win Rate [%]                                       28\n",
       "Best Trade [%]                                26.3174\n",
       "Worst Trade [%]                              -8.82432\n",
       "Avg. Trade [%]                              -0.203012\n",
       "Max. Trade Duration                  12 days 21:00:00\n",
       "Avg. Trade Duration                   2 days 22:00:00\n",
       "Expectancy [%]                                4.56301\n",
       "SQN                                         -0.493831\n",
       "Sharpe Ratio                               -0.0292215\n",
       "Sortino Ratio                                -0.11253\n",
       "Calmar Ratio                              -0.00488912\n",
       "_strategy                 SmaCross(n1=45,n2=80,atr=4)\n",
       "dtype: object"
      ]
     },
     "execution_count": 547,
     "metadata": {},
     "output_type": "execute_result"
    }
   ],
   "source": [
    "stats"
   ]
  },
  {
   "cell_type": "markdown",
   "metadata": {},
   "source": [
    "## Simple Moving Average 4 parameter Cross Strategy\n",
    "\n",
    "https://kernc.github.io/backtesting.py/doc/examples/Parameter%20Heatmap.html"
   ]
  },
  {
   "cell_type": "code",
   "execution_count": 439,
   "metadata": {},
   "outputs": [],
   "source": [
    "from backtesting import Strategy\n",
    "from backtesting.lib import crossover\n",
    "\n",
    "\n",
    "class Sma4Cross(Strategy):\n",
    "    n1 = 50\n",
    "    n2 = 100\n",
    "    n_enter = 100\n",
    "    n_exit = 200\n",
    "    \n",
    "    def init(self):\n",
    "        self.sma1 = self.I(SMA, self.data.Close, self.n1)\n",
    "        self.sma2 = self.I(SMA, self.data.Close, self.n2)\n",
    "        self.sma_enter = self.I(SMA, self.data.Close, self.n_enter)\n",
    "        self.sma_exit = self.I(SMA, self.data.Close, self.n_exit)\n",
    "        \n",
    "    def next(self):\n",
    "        \n",
    "        if not self.position:\n",
    "            \n",
    "            # On upwards trend, if price closes above\n",
    "            # \"entry\" MA, go long\n",
    "            \n",
    "            # Here, even though the operands are arrays, this\n",
    "            # works by implicitly comparing the two last values\n",
    "            if self.sma1 > self.sma2:\n",
    "                if crossover(self.data.Close, self.sma_enter):\n",
    "                    self.buy()\n",
    "                    \n",
    "            # On downwards trend, if price closes below\n",
    "            # \"entry\" MA, go short\n",
    "            \n",
    "            else:\n",
    "                if crossover(self.sma_enter, self.data.Close):\n",
    "                    self.sell()\n",
    "        \n",
    "        # But if we already hold a position and the price\n",
    "        # closes back below (above) \"exit\" MA, close the position\n",
    "        \n",
    "        else:\n",
    "            if (self.position.is_long and\n",
    "                crossover(self.sma_exit, self.data.Close)\n",
    "                or\n",
    "                self.position.is_short and\n",
    "                crossover(self.data.Close, self.sma_exit)):\n",
    "                \n",
    "                self.position.close()"
   ]
  },
  {
   "cell_type": "markdown",
   "metadata": {},
   "source": [
    "### Optimize n1, n2, n_enter and n_exit parameters"
   ]
  },
  {
   "cell_type": "code",
   "execution_count": 497,
   "metadata": {},
   "outputs": [
    {
     "name": "stderr",
     "output_type": "stream",
     "text": [
      "/opt/anaconda3/lib/python3.7/site-packages/ipykernel_launcher.py:14: UserWarning: Searching best of 14395 configurations.\n",
      "  \n"
     ]
    },
    {
     "data": {
      "application/vnd.jupyter.widget-view+json": {
       "model_id": "ddcd04b83d844412b6e781ea2efb061c",
       "version_major": 2,
       "version_minor": 0
      },
      "text/plain": [
       "HBox(children=(IntProgress(value=0, max=48), HTML(value='')))"
      ]
     },
     "metadata": {},
     "output_type": "display_data"
    },
    {
     "name": "stdout",
     "output_type": "stream",
     "text": [
      "CPU times: user 4.94 s, sys: 3.03 s, total: 7.97 s\n",
      "Wall time: 4min 12s\n"
     ]
    }
   ],
   "source": [
    "%%time \n",
    "\n",
    "from backtesting import Backtest\n",
    "from backtesting.test import GOOG\n",
    "\n",
    "\n",
    "backtest = Backtest(btcusd5min, Sma4Cross, commission=.09)\n",
    "\n",
    "stats, heatmap = backtest.optimize(\n",
    "    n1=range(300, 7000, 1000),\n",
    "    n2=range(5000, 10000, 1000),\n",
    "    n_enter=range(100, 5000, 100),\n",
    "    n_exit=range(10, 2500, 100),\n",
    "    constraint=lambda p: p.n_exit < p.n_enter < p.n1 < p.n2,\n",
    "    maximize='Equity Final [$]',\n",
    "    return_heatmap=True)"
   ]
  },
  {
   "cell_type": "markdown",
   "metadata": {},
   "source": [
    "<!-- # stats -->"
   ]
  },
  {
   "cell_type": "code",
   "execution_count": 498,
   "metadata": {},
   "outputs": [
    {
     "data": {
      "text/plain": [
       "Start                                                   2020-04-16 09:05:00\n",
       "End                                                     2020-04-25 09:00:00\n",
       "Duration                                                    8 days 23:55:00\n",
       "Exposure [%]                                                        13.0838\n",
       "Equity Final [$]                                                    9495.86\n",
       "Equity Peak [$]                                                       10000\n",
       "Return [%]                                                         -5.04144\n",
       "Buy & Hold Return [%]                                               6.85174\n",
       "Max. Drawdown [%]                                                  -8.28229\n",
       "Avg. Drawdown [%]                                                  -8.28229\n",
       "Max. Drawdown Duration                                      4 days 22:45:00\n",
       "Avg. Drawdown Duration                                      4 days 22:45:00\n",
       "# Trades                                                                  1\n",
       "Win Rate [%]                                                              0\n",
       "Best Trade [%]                                                     -5.48549\n",
       "Worst Trade [%]                                                    -5.48549\n",
       "Avg. Trade [%]                                                     -5.48549\n",
       "Max. Trade Duration                                         1 days 04:15:00\n",
       "Avg. Trade Duration                                         1 days 04:15:00\n",
       "Expectancy [%]                                                          NaN\n",
       "SQN                                                                     NaN\n",
       "Sharpe Ratio                                                            NaN\n",
       "Sortino Ratio                                                           NaN\n",
       "Calmar Ratio                                                      -0.662316\n",
       "_strategy                 Sma4Cross(n1=3300,n2=5000,n_enter=1100,n_exit=...\n",
       "dtype: object"
      ]
     },
     "execution_count": 498,
     "metadata": {},
     "output_type": "execute_result"
    }
   ],
   "source": [
    "stats"
   ]
  },
  {
   "cell_type": "markdown",
   "metadata": {},
   "source": [
    "## Test Simple Moving Average + Relative Strength Index in Multiple Time Windows\n",
    "\n",
    "https://kernc.github.io/backtesting.py/doc/examples/Multiple%20Time%20Frames.html"
   ]
  },
  {
   "cell_type": "code",
   "execution_count": 550,
   "metadata": {},
   "outputs": [],
   "source": [
    "def SMA(array, n):\n",
    "    \"\"\"Simple moving average\"\"\"\n",
    "    return pd.Series(array).rolling(n).mean()\n",
    "\n",
    "\n",
    "def RSI(array, n):\n",
    "    \"\"\"Relative strength index\"\"\"\n",
    "    # Approximate; good enough\n",
    "    gain = pd.Series(array).diff()\n",
    "    loss = gain.copy()\n",
    "    gain[gain < 0] = 0\n",
    "    loss[loss > 0] = 0\n",
    "    rs = gain.ewm(n).mean() / loss.abs().ewm(n).mean()\n",
    "    return 100 - 100 / (1 + rs)\n",
    "\n",
    "\n",
    "from backtesting import Strategy, Backtest\n",
    "from backtesting.lib import resample_apply\n",
    "\n",
    "\n",
    "class System(Strategy):\n",
    "    d_rsi = 30  # Daily RSI lookback periods\n",
    "    w_rsi = 30  # Weekly\n",
    "    level = 70\n",
    "    \n",
    "    def init(self):\n",
    "        # Compute moving averages the strategy demands\n",
    "        self.ma10 = self.I(SMA, self.data.Close, 10)\n",
    "        self.ma20 = self.I(SMA, self.data.Close, 20)\n",
    "        self.ma50 = self.I(SMA, self.data.Close, 50)\n",
    "        self.ma100 = self.I(SMA, self.data.Close, 100)\n",
    "        \n",
    "        # Compute daily RSI(30)\n",
    "        self.daily_rsi = self.I(RSI, self.data.Close, self.d_rsi)\n",
    "        \n",
    "        # To construct weekly RSI, we can use `resample_apply()`\n",
    "        # helper function from the library\n",
    "        self.weekly_rsi = resample_apply(\n",
    "            'W-FRI', RSI, self.data.Close, self.w_rsi)\n",
    "        \n",
    "        \n",
    "    def next(self):\n",
    "        price = self.data.Close[-1]\n",
    "        \n",
    "        # If we don't already have a position, and\n",
    "        # if all conditions are satisfied, enter long.\n",
    "        if (not self.position and\n",
    "            self.daily_rsi[-1] > self.level and\n",
    "            self.weekly_rsi[-1] > self.level and\n",
    "            self.weekly_rsi[-1] > self.daily_rsi[-1] and\n",
    "            self.ma10[-1] > self.ma20[-1] > self.ma50[-1] > self.ma100[-1] and\n",
    "            price > self.ma10[-1]):\n",
    "            \n",
    "            # Buy at market price on next open, but do\n",
    "            # set 8% fixed stop loss.\n",
    "            self.buy(sl=.92 * price)\n",
    "        \n",
    "        # If the price closes 2% or more below 10-day MA\n",
    "        # close the position, if any.\n",
    "        elif price < .98 * self.ma10[-1]:\n",
    "            self.position.close()"
   ]
  },
  {
   "cell_type": "markdown",
   "metadata": {},
   "source": [
    "#### Get Google OHLC data"
   ]
  },
  {
   "cell_type": "code",
   "execution_count": 552,
   "metadata": {},
   "outputs": [],
   "source": [
    "from backtesting.test import GOOG"
   ]
  },
  {
   "cell_type": "code",
   "execution_count": 554,
   "metadata": {},
   "outputs": [
    {
     "data": {
      "application/vnd.jupyter.widget-view+json": {
       "model_id": "25c46e0f4618441bac1127909a2c35e3",
       "version_major": 2,
       "version_minor": 0
      },
      "text/plain": [
       "HBox(children=(IntProgress(value=0, max=9), HTML(value='')))"
      ]
     },
     "metadata": {},
     "output_type": "display_data"
    },
    {
     "name": "stdout",
     "output_type": "stream",
     "text": [
      "CPU times: user 329 ms, sys: 486 ms, total: 816 ms\n",
      "Wall time: 4.34 s\n"
     ]
    },
    {
     "data": {
      "text/plain": [
       "Start                                    2004-08-19 00:00:00\n",
       "End                                      2013-03-01 00:00:00\n",
       "Duration                                  3116 days 00:00:00\n",
       "Exposure [%]                                         20.5071\n",
       "Equity Final [$]                                     23090.8\n",
       "Equity Peak [$]                                      23686.3\n",
       "Return [%]                                           130.908\n",
       "Buy & Hold Return [%]                                703.458\n",
       "Max. Drawdown [%]                                   -19.2731\n",
       "Avg. Drawdown [%]                                   -3.84673\n",
       "Max. Drawdown Duration                     778 days 00:00:00\n",
       "Avg. Drawdown Duration                      97 days 00:00:00\n",
       "# Trades                                                  22\n",
       "Win Rate [%]                                         63.6364\n",
       "Best Trade [%]                                       25.0905\n",
       "Worst Trade [%]                                     -6.21969\n",
       "Avg. Trade [%]                                       3.83033\n",
       "Max. Trade Duration                         63 days 00:00:00\n",
       "Avg. Trade Duration                         30 days 00:00:00\n",
       "Expectancy [%]                                       5.88815\n",
       "SQN                                                  2.39317\n",
       "Sharpe Ratio                                        0.484418\n",
       "Sortino Ratio                                        1.69146\n",
       "Calmar Ratio                                         0.19874\n",
       "_strategy                 System(d_rsi=30,w_rsi=10,level=60)\n",
       "dtype: object"
      ]
     },
     "execution_count": 554,
     "metadata": {},
     "output_type": "execute_result"
    }
   ],
   "source": [
    "%%time\n",
    "\n",
    "backtest.optimize(d_rsi=range(10, 35, 5),\n",
    "                  w_rsi=range(10, 35, 5),\n",
    "                  level=range(30, 80, 10))"
   ]
  },
  {
   "cell_type": "code",
   "execution_count": 548,
   "metadata": {},
   "outputs": [],
   "source": [
    "# backtest.plot()"
   ]
  },
  {
   "cell_type": "markdown",
   "metadata": {},
   "source": [
    "## Look at parameter correllations with heatmaps"
   ]
  },
  {
   "cell_type": "code",
   "execution_count": 500,
   "metadata": {},
   "outputs": [
    {
     "data": {
      "text/html": [
       "\n",
       "\n",
       "\n",
       "\n",
       "\n",
       "\n",
       "  <div class=\"bk-root\" id=\"9d429706-b30a-4972-9ce9-7c2d7d4d01ff\" data-root-id=\"22410\"></div>\n"
      ]
     },
     "metadata": {},
     "output_type": "display_data"
    },
    {
     "data": {
      "application/javascript": [
       "(function(root) {\n",
       "  function embed_document(root) {\n",
       "    \n",
       "  var docs_json = {\"76283888-8416-46cd-a98c-c65312f149de\":{\"roots\":{\"references\":[{\"attributes\":{\"children\":[{\"id\":\"22409\"},{\"id\":\"22407\"}]},\"id\":\"22410\",\"type\":\"Column\"},{\"attributes\":{\"axis_label\":\"n2\",\"axis_line_color\":null,\"formatter\":{\"id\":\"22352\"},\"major_label_standoff\":0,\"major_tick_line_color\":null,\"ticker\":{\"id\":\"22174\"}},\"id\":\"22173\",\"type\":\"CategoricalAxis\"},{\"attributes\":{\"factors\":[\"100\",\"200\",\"300\",\"400\",\"500\",\"600\",\"700\",\"800\",\"900\",\"1000\",\"1100\",\"1200\",\"1300\",\"1400\",\"1500\",\"1600\",\"1700\",\"1800\",\"1900\",\"2000\",\"2100\",\"2200\",\"2300\",\"2400\",\"2500\",\"2600\",\"2700\",\"2800\",\"2900\",\"3000\",\"3100\",\"3200\",\"3300\",\"3400\",\"3500\",\"3600\",\"3700\",\"3800\",\"3900\",\"4000\",\"4100\",\"4200\",\"4300\",\"4400\",\"4500\",\"4600\",\"4700\",\"4800\",\"4900\"]},\"id\":\"22257\",\"type\":\"FactorRange\"},{\"attributes\":{},\"id\":\"22392\",\"type\":\"CategoricalTickFormatter\"},{\"attributes\":{},\"id\":\"22364\",\"type\":\"UnionRenderers\"},{\"attributes\":{\"fill_alpha\":{\"value\":0.1},\"fill_color\":{\"field\":\"_Value\",\"transform\":{\"id\":\"22160\"}},\"height\":{\"units\":\"data\",\"value\":1},\"line_alpha\":{\"value\":0.1},\"line_color\":{\"value\":null},\"width\":{\"units\":\"data\",\"value\":1},\"x\":{\"field\":\"n1\"},\"y\":{\"field\":\"n2\"}},\"id\":\"22189\",\"type\":\"Rect\"},{\"attributes\":{},\"id\":\"22264\",\"type\":\"CategoricalTicker\"},{\"attributes\":{},\"id\":\"22174\",\"type\":\"CategoricalTicker\"},{\"attributes\":{},\"id\":\"22362\",\"type\":\"CategoricalTickFormatter\"},{\"attributes\":{\"source\":{\"id\":\"22310\"}},\"id\":\"22315\",\"type\":\"CDSView\"},{\"attributes\":{\"text\":\"\"},\"id\":\"22348\",\"type\":\"Title\"},{\"attributes\":{\"axis\":{\"id\":\"22325\"},\"grid_line_color\":null,\"ticker\":null},\"id\":\"22327\",\"type\":\"Grid\"},{\"attributes\":{\"active_drag\":\"auto\",\"active_inspect\":\"auto\",\"active_multi\":null,\"active_scroll\":\"auto\",\"active_tap\":\"auto\",\"tools\":[{\"id\":\"22238\"},{\"id\":\"22239\"},{\"id\":\"22240\"},{\"id\":\"22242\"}]},\"id\":\"22243\",\"type\":\"Toolbar\"},{\"attributes\":{},\"id\":\"22267\",\"type\":\"CategoricalTicker\"},{\"attributes\":{\"factors\":[\"100\",\"200\",\"300\",\"400\",\"500\",\"600\",\"700\",\"800\",\"900\",\"1000\",\"1100\",\"1200\",\"1300\",\"1400\",\"1500\",\"1600\",\"1700\",\"1800\",\"1900\",\"2000\",\"2100\",\"2200\",\"2300\",\"2400\",\"2500\",\"2600\",\"2700\",\"2800\",\"2900\",\"3000\",\"3100\",\"3200\",\"3300\",\"3400\",\"3500\",\"3600\",\"3700\",\"3800\",\"3900\",\"4000\",\"4100\",\"4200\",\"4300\",\"4400\",\"4500\",\"4600\",\"4700\",\"4800\",\"4900\"]},\"id\":\"22195\",\"type\":\"FactorRange\"},{\"attributes\":{\"overlay\":{\"id\":\"22179\"}},\"id\":\"22176\",\"type\":\"BoxZoomTool\"},{\"attributes\":{\"source\":{\"id\":\"22248\"}},\"id\":\"22253\",\"type\":\"CDSView\"},{\"attributes\":{},\"id\":\"22394\",\"type\":\"UnionRenderers\"},{\"attributes\":{},\"id\":\"22390\",\"type\":\"CategoricalTickFormatter\"},{\"attributes\":{\"source\":{\"id\":\"22341\"}},\"id\":\"22346\",\"type\":\"CDSView\"},{\"attributes\":{\"data_source\":{\"id\":\"22341\"},\"glyph\":{\"id\":\"22343\"},\"hover_glyph\":null,\"muted_glyph\":null,\"nonselection_glyph\":{\"id\":\"22344\"},\"selection_glyph\":null,\"view\":{\"id\":\"22346\"}},\"id\":\"22345\",\"type\":\"GlyphRenderer\"},{\"attributes\":{\"axis\":{\"id\":\"22263\"},\"grid_line_color\":null,\"ticker\":null},\"id\":\"22265\",\"type\":\"Grid\"},{\"attributes\":{},\"id\":\"22395\",\"type\":\"Selection\"},{\"attributes\":{\"below\":[{\"id\":\"22232\"}],\"center\":[{\"id\":\"22234\"},{\"id\":\"22237\"}],\"left\":[{\"id\":\"22235\"}],\"plot_height\":400,\"plot_width\":400,\"renderers\":[{\"id\":\"22252\"}],\"title\":{\"id\":\"22368\"},\"toolbar\":{\"id\":\"22243\"},\"toolbar_location\":null,\"x_range\":{\"id\":\"22224\"},\"x_scale\":{\"id\":\"22228\"},\"y_range\":{\"id\":\"22226\"},\"y_scale\":{\"id\":\"22230\"}},\"id\":\"22223\",\"subtype\":\"Figure\",\"type\":\"Plot\"},{\"attributes\":{},\"id\":\"22352\",\"type\":\"CategoricalTickFormatter\"},{\"attributes\":{\"axis_label\":\"n_exit\",\"axis_line_color\":null,\"formatter\":{\"id\":\"22402\"},\"major_label_standoff\":0,\"major_tick_line_color\":null,\"ticker\":{\"id\":\"22329\"}},\"id\":\"22328\",\"type\":\"CategoricalAxis\"},{\"attributes\":{\"data\":{\"_Value\":{\"__ndarray__\":\"wSd2VTNdtEDXiRFo9je5QFnRv4mV1rtAOLqKpZynvUCPyGdu6Y++QDF+PzIdtLxAsPrDmVQjvkDmvLQsXxy/QBslXxrW0b9AwqpcHqpxwUCUNUCyvjTCQAAAAAAAAPh/AAAAAAAA+H8AAAAAAAD4fwAAAAAAAPh/Z/BX2X/hwUBn8FfZf+HBQGbwV9l/4cFAZvBX2X/hwUAAAAAAAAD4fwAAAAAAAPh/AAAAAAAA+H8AAAAAAAD4fwAAAAAAAPh/AAAAAAAA+H9GaQXdQpK0QJ6kMmO3TrlAX5VqKErEu0CKY0KLwoC9QE2bQRn3er5AMH4/Mh20vECw+sOZVCO+QOe8tCxfHL9AGSVfGtbRv0DCqlweqnHBQJQ1QLK+NMJAAAAAAAAA+H8AAAAAAAD4fwAAAAAAAPh/AAAAAAAA+H9n8FfZf+HBQGfwV9l/4cFAZ/BX2X/hwUBm8FfZf+HBQAAAAAAAAPh/AAAAAAAA+H8AAAAAAAD4fwAAAAAAAPh/AAAAAAAA+H8AAAAAAAD4fzeWKkpFsbRANUaz8rdbuUBGAq1HILq7QFlPlEKha71Ag7B4N+BvvkAxfj8yHbS8QLL6w5lUI75A57y0LF8cv0AYJV8a1tG/QMKqXB6qccFAlDVAsr40wkAAAAAAAAD4fwAAAAAAAPh/AAAAAAAA+H8AAAAAAAD4f2fwV9l/4cFAZ/BX2X/hwUBn8FfZf+HBQGbwV9l/4cFAAAAAAAAA+H8AAAAAAAD4fwAAAAAAAPh/AAAAAAAA+H8AAAAAAAD4fwAAAAAAAPh/N5YqSkWxtEA1RrPyt1u5QEYCrUcgurtAWU+UQqFrvUCDsHg34G++QDF+PzIdtLxAsvrDmVQjvkDnvLQsXxy/QBglXxrW0b9AwqpcHqpxwUCUNUCyvjTCQAAAAAAAAPh/AAAAAAAA+H8AAAAAAAD4fwAAAAAAAPh/Z/BX2X/hwUBn8FfZf+HBQGfwV9l/4cFAZvBX2X/hwUAAAAAAAAD4fwAAAAAAAPh/AAAAAAAA+H8AAAAAAAD4fwAAAAAAAPh/AAAAAAAA+H83lipKRbG0QDVGs/K3W7lARgKtRyC6u0BZT5RCoWu9QIOweDfgb75AMX4/Mh20vECy+sOZVCO+QOe8tCxfHL9AGCVfGtbRv0DCqlweqnHBQJQ1QLK+NMJAAAAAAAAA+H8AAAAAAAD4fwAAAAAAAPh/AAAAAAAA+H9n8FfZf+HBQGfwV9l/4cFAZ/BX2X/hwUBm8FfZf+HBQAAAAAAAAPh/AAAAAAAA+H8AAAAAAAD4fwAAAAAAAPh/AAAAAAAA+H8AAAAAAAD4fw==\",\"dtype\":\"float64\",\"shape\":[125]},\"index\":[0,1,2,3,4,5,6,7,8,9,10,11,12,13,14,15,16,17,18,19,20,21,22,23,24,25,26,27,28,29,30,31,32,33,34,35,36,37,38,39,40,41,42,43,44,45,46,47,48,49,50,51,52,53,54,55,56,57,58,59,60,61,62,63,64,65,66,67,68,69,70,71,72,73,74,75,76,77,78,79,80,81,82,83,84,85,86,87,88,89,90,91,92,93,94,95,96,97,98,99,100,101,102,103,104,105,106,107,108,109,110,111,112,113,114,115,116,117,118,119,120,121,122,123,124],\"n2\":[\"5000\",\"5000\",\"5000\",\"5000\",\"5000\",\"5000\",\"5000\",\"5000\",\"5000\",\"5000\",\"5000\",\"5000\",\"5000\",\"5000\",\"5000\",\"5000\",\"5000\",\"5000\",\"5000\",\"5000\",\"5000\",\"5000\",\"5000\",\"5000\",\"5000\",\"6000\",\"6000\",\"6000\",\"6000\",\"6000\",\"6000\",\"6000\",\"6000\",\"6000\",\"6000\",\"6000\",\"6000\",\"6000\",\"6000\",\"6000\",\"6000\",\"6000\",\"6000\",\"6000\",\"6000\",\"6000\",\"6000\",\"6000\",\"6000\",\"6000\",\"7000\",\"7000\",\"7000\",\"7000\",\"7000\",\"7000\",\"7000\",\"7000\",\"7000\",\"7000\",\"7000\",\"7000\",\"7000\",\"7000\",\"7000\",\"7000\",\"7000\",\"7000\",\"7000\",\"7000\",\"7000\",\"7000\",\"7000\",\"7000\",\"7000\",\"8000\",\"8000\",\"8000\",\"8000\",\"8000\",\"8000\",\"8000\",\"8000\",\"8000\",\"8000\",\"8000\",\"8000\",\"8000\",\"8000\",\"8000\",\"8000\",\"8000\",\"8000\",\"8000\",\"8000\",\"8000\",\"8000\",\"8000\",\"8000\",\"8000\",\"9000\",\"9000\",\"9000\",\"9000\",\"9000\",\"9000\",\"9000\",\"9000\",\"9000\",\"9000\",\"9000\",\"9000\",\"9000\",\"9000\",\"9000\",\"9000\",\"9000\",\"9000\",\"9000\",\"9000\",\"9000\",\"9000\",\"9000\",\"9000\",\"9000\"],\"n_exit\":[\"10\",\"110\",\"210\",\"310\",\"410\",\"510\",\"610\",\"710\",\"810\",\"910\",\"1010\",\"1110\",\"1210\",\"1310\",\"1410\",\"1510\",\"1610\",\"1710\",\"1810\",\"1910\",\"2010\",\"2110\",\"2210\",\"2310\",\"2410\",\"10\",\"110\",\"210\",\"310\",\"410\",\"510\",\"610\",\"710\",\"810\",\"910\",\"1010\",\"1110\",\"1210\",\"1310\",\"1410\",\"1510\",\"1610\",\"1710\",\"1810\",\"1910\",\"2010\",\"2110\",\"2210\",\"2310\",\"2410\",\"10\",\"110\",\"210\",\"310\",\"410\",\"510\",\"610\",\"710\",\"810\",\"910\",\"1010\",\"1110\",\"1210\",\"1310\",\"1410\",\"1510\",\"1610\",\"1710\",\"1810\",\"1910\",\"2010\",\"2110\",\"2210\",\"2310\",\"2410\",\"10\",\"110\",\"210\",\"310\",\"410\",\"510\",\"610\",\"710\",\"810\",\"910\",\"1010\",\"1110\",\"1210\",\"1310\",\"1410\",\"1510\",\"1610\",\"1710\",\"1810\",\"1910\",\"2010\",\"2110\",\"2210\",\"2310\",\"2410\",\"10\",\"110\",\"210\",\"310\",\"410\",\"510\",\"610\",\"710\",\"810\",\"910\",\"1010\",\"1110\",\"1210\",\"1310\",\"1410\",\"1510\",\"1610\",\"1710\",\"1810\",\"1910\",\"2010\",\"2110\",\"2210\",\"2310\",\"2410\"]},\"selected\":{\"id\":\"22395\"},\"selection_policy\":{\"id\":\"22394\"}},\"id\":\"22310\",\"type\":\"ColumnDataSource\"},{\"attributes\":{},\"id\":\"22365\",\"type\":\"Selection\"},{\"attributes\":{\"axis_label\":\"n1\",\"axis_line_color\":null,\"formatter\":{\"id\":\"22360\"},\"major_label_standoff\":0,\"major_tick_line_color\":null,\"ticker\":{\"id\":\"22202\"}},\"id\":\"22201\",\"type\":\"CategoricalAxis\"},{\"attributes\":{},\"id\":\"22384\",\"type\":\"UnionRenderers\"},{\"attributes\":{\"axis\":{\"id\":\"22173\"},\"dimension\":1,\"grid_line_color\":null,\"ticker\":null},\"id\":\"22175\",\"type\":\"Grid\"},{\"attributes\":{},\"id\":\"22199\",\"type\":\"CategoricalScale\"},{\"attributes\":{},\"id\":\"22385\",\"type\":\"Selection\"},{\"attributes\":{},\"id\":\"22197\",\"type\":\"CategoricalScale\"},{\"attributes\":{},\"id\":\"22372\",\"type\":\"CategoricalTickFormatter\"},{\"attributes\":{\"below\":[{\"id\":\"22294\"}],\"center\":[{\"id\":\"22296\"},{\"id\":\"22299\"}],\"left\":[{\"id\":\"22297\"}],\"plot_height\":400,\"plot_width\":400,\"renderers\":[{\"id\":\"22314\"}],\"title\":{\"id\":\"22388\"},\"toolbar\":{\"id\":\"22305\"},\"toolbar_location\":null,\"x_range\":{\"id\":\"22286\"},\"x_scale\":{\"id\":\"22290\"},\"y_range\":{\"id\":\"22288\"},\"y_scale\":{\"id\":\"22292\"}},\"id\":\"22285\",\"subtype\":\"Figure\",\"type\":\"Plot\"},{\"attributes\":{\"active_drag\":\"auto\",\"active_inspect\":\"auto\",\"active_multi\":null,\"active_scroll\":\"auto\",\"active_tap\":\"auto\",\"tools\":[{\"id\":\"22331\"},{\"id\":\"22332\"},{\"id\":\"22333\"},{\"id\":\"22335\"}]},\"id\":\"22336\",\"type\":\"Toolbar\"},{\"attributes\":{\"factors\":[\"10\",\"110\",\"210\",\"310\",\"410\",\"510\",\"610\",\"710\",\"810\",\"910\",\"1010\",\"1110\",\"1210\",\"1310\",\"1410\",\"1510\",\"1610\",\"1710\",\"1810\",\"1910\",\"2010\",\"2110\",\"2210\",\"2310\",\"2410\"]},\"id\":\"22288\",\"type\":\"FactorRange\"},{\"attributes\":{\"logo\":null,\"toolbars\":[{\"id\":\"22181\"},{\"id\":\"22212\"},{\"id\":\"22243\"},{\"id\":\"22274\"},{\"id\":\"22305\"},{\"id\":\"22336\"}],\"tools\":[{\"id\":\"22176\"},{\"id\":\"22177\"},{\"id\":\"22178\"},{\"id\":\"22180\"},{\"id\":\"22207\"},{\"id\":\"22208\"},{\"id\":\"22209\"},{\"id\":\"22211\"},{\"id\":\"22238\"},{\"id\":\"22239\"},{\"id\":\"22240\"},{\"id\":\"22242\"},{\"id\":\"22269\"},{\"id\":\"22270\"},{\"id\":\"22271\"},{\"id\":\"22273\"},{\"id\":\"22300\"},{\"id\":\"22301\"},{\"id\":\"22302\"},{\"id\":\"22304\"},{\"id\":\"22331\"},{\"id\":\"22332\"},{\"id\":\"22333\"},{\"id\":\"22335\"}]},\"id\":\"22408\",\"type\":\"ProxyToolbar\"},{\"attributes\":{},\"id\":\"22261\",\"type\":\"CategoricalScale\"},{\"attributes\":{\"callback\":null,\"tooltips\":[[\"n1\",\"@n1\"],[\"n2\",\"@n2\"],[\"Value\",\"@_Value{0.[000]}\"]]},\"id\":\"22180\",\"type\":\"HoverTool\"},{\"attributes\":{\"axis\":{\"id\":\"22201\"},\"grid_line_color\":null,\"ticker\":null},\"id\":\"22203\",\"type\":\"Grid\"},{\"attributes\":{\"bottom_units\":\"screen\",\"fill_alpha\":0.5,\"fill_color\":\"lightgrey\",\"left_units\":\"screen\",\"level\":\"overlay\",\"line_alpha\":1.0,\"line_color\":\"black\",\"line_dash\":[4,4],\"line_width\":2,\"render_mode\":\"css\",\"right_units\":\"screen\",\"top_units\":\"screen\"},\"id\":\"22241\",\"type\":\"BoxAnnotation\"},{\"attributes\":{},\"id\":\"22321\",\"type\":\"CategoricalScale\"},{\"attributes\":{},\"id\":\"22382\",\"type\":\"CategoricalTickFormatter\"},{\"attributes\":{\"factors\":[\"300\",\"1300\",\"2300\",\"3300\",\"4300\",\"5300\",\"6300\"]},\"id\":\"22162\",\"type\":\"FactorRange\"},{\"attributes\":{\"axis_label\":\"n_enter\",\"axis_line_color\":null,\"formatter\":{\"id\":\"22382\"},\"major_label_standoff\":0,\"major_tick_line_color\":null,\"ticker\":{\"id\":\"22267\"}},\"id\":\"22266\",\"type\":\"CategoricalAxis\"},{\"attributes\":{},\"id\":\"22323\",\"type\":\"CategoricalScale\"},{\"attributes\":{},\"id\":\"22355\",\"type\":\"Selection\"},{\"attributes\":{},\"id\":\"22402\",\"type\":\"CategoricalTickFormatter\"},{\"attributes\":{},\"id\":\"22178\",\"type\":\"SaveTool\"},{\"attributes\":{\"axis_label\":\"n2\",\"axis_line_color\":null,\"formatter\":{\"id\":\"22390\"},\"major_label_standoff\":0,\"major_tick_line_color\":null,\"ticker\":{\"id\":\"22295\"}},\"id\":\"22294\",\"type\":\"CategoricalAxis\"},{\"attributes\":{},\"id\":\"22326\",\"type\":\"CategoricalTicker\"},{\"attributes\":{\"data\":{\"_Value\":{\"__ndarray__\":\"6Xl9Mk2+gkDpeX0yTb6CQOl5fTJNvoJA6Xl9Mk2+gkDpeX0yTb6CQFPmixttPLhAU+aLG208uEBT5osbbTy4QFPmixttPLhAU+aLG208uEBrdddJkhy+QGt110mSHL5Aa3XXSZIcvkBrdddJkhy+QGt110mSHL5Axk73eDFJvEDGTvd4MUm8QMZO93gxSbxAxk73eDFJvEDGTvd4MUm8QMZO93gxSbxAxk73eDFJvEDGTvd4MUm8QMZO93gxSbxAxk73eDFJvEDGTvd4MUm8QMZO93gxSbxAxk73eDFJvEDGTvd4MUm8QMZO93gxSbxAxk73eDFJvEDGTvd4MUm8QA==\",\"dtype\":\"float64\",\"shape\":[32]},\"index\":[0,1,2,3,4,5,6,7,8,9,10,11,12,13,14,15,16,17,18,19,20,21,22,23,24,25,26,27,28,29,30,31],\"n1\":[\"300\",\"300\",\"300\",\"300\",\"300\",\"1300\",\"1300\",\"1300\",\"1300\",\"1300\",\"2300\",\"2300\",\"2300\",\"2300\",\"2300\",\"3300\",\"3300\",\"3300\",\"3300\",\"3300\",\"4300\",\"4300\",\"4300\",\"4300\",\"4300\",\"5300\",\"5300\",\"5300\",\"5300\",\"6300\",\"6300\",\"6300\"],\"n2\":[\"5000\",\"6000\",\"7000\",\"8000\",\"9000\",\"5000\",\"6000\",\"7000\",\"8000\",\"9000\",\"5000\",\"6000\",\"7000\",\"8000\",\"9000\",\"5000\",\"6000\",\"7000\",\"8000\",\"9000\",\"5000\",\"6000\",\"7000\",\"8000\",\"9000\",\"6000\",\"7000\",\"8000\",\"9000\",\"7000\",\"8000\",\"9000\"]},\"selected\":{\"id\":\"22355\"},\"selection_policy\":{\"id\":\"22354\"}},\"id\":\"22186\",\"type\":\"ColumnDataSource\"},{\"attributes\":{},\"id\":\"22329\",\"type\":\"CategoricalTicker\"},{\"attributes\":{},\"id\":\"22405\",\"type\":\"Selection\"},{\"attributes\":{\"text\":\"\"},\"id\":\"22388\",\"type\":\"Title\"},{\"attributes\":{\"text\":\"\"},\"id\":\"22398\",\"type\":\"Title\"},{\"attributes\":{\"fill_color\":{\"field\":\"_Value\",\"transform\":{\"id\":\"22160\"}},\"height\":{\"units\":\"data\",\"value\":1},\"line_color\":{\"value\":null},\"width\":{\"units\":\"data\",\"value\":1},\"x\":{\"field\":\"n_enter\"},\"y\":{\"field\":\"n_exit\"}},\"id\":\"22343\",\"type\":\"Rect\"},{\"attributes\":{},\"id\":\"22354\",\"type\":\"UnionRenderers\"},{\"attributes\":{\"toolbar\":{\"id\":\"22408\"},\"toolbar_location\":\"above\"},\"id\":\"22409\",\"type\":\"ToolbarBox\"},{\"attributes\":{\"factors\":[\"300\",\"1300\",\"2300\",\"3300\",\"4300\",\"5300\",\"6300\"]},\"id\":\"22224\",\"type\":\"FactorRange\"},{\"attributes\":{\"data\":{\"_Value\":{\"__ndarray__\":\"m/AZPMZScUCRPq+tEHSTQFsT1B+4I7FA2hPAyqBJuEBCsXtL/+G6QGfKuRYNHb5Ac4EMgHZJv0AAAAAAAAD4fwAAAAAAAPh/AAAAAAAA+H8AAAAAAAD4fwAAAAAAAPh/AAAAAAAA+H8AAAAAAAD4f4+eDD6C47pAjmvSAeMGvUBAo6WdUXK/QN6DGUB40sFAehBgnlK/wUAAAAAAAAD4fwAAAAAAAPh/AAAAAAAA+H8AAAAAAAD4fwAAAAAAAPh/AAAAAAAA+H8AAAAAAAD4fwAAAAAAAPh/AAAAAAAA+H8AAAAAAAD4fwAAAAAAAPh/AAAAAAAA+H8AAAAAAAD4fwAAAAAAAPh/AAAAAAAA+H8AAAAAAAD4fwAAAAAAAPh/j1FIin4ntUAF7IqrZIu5QG9/FbWNlrtAPLwf6hwkvUB0tavZ1Uu+QDJ+PzIdtLxAsvrDmVQjvkDmvLQsXxy/QBclXxrW0b9AwqpcHqpxwUCUNUCyvjTCQAAAAAAAAPh/AAAAAAAA+H8AAAAAAAD4fwAAAAAAAPh/ZvBX2X/hwUBn8FfZf+HBQGfwV9l/4cFAZvBX2X/hwUAAAAAAAAD4fwAAAAAAAPh/AAAAAAAA+H8AAAAAAAD4fwAAAAAAAPh/AAAAAAAA+H+PUUiKfie1QAXsiqtki7lAb38VtY2Wu0A8vB/qHCS9QHS1q9nVS75AMn4/Mh20vECy+sOZVCO+QOa8tCxfHL9AFyVfGtbRv0DCqlweqnHBQJQ1QLK+NMJAAAAAAAAA+H8AAAAAAAD4fwAAAAAAAPh/AAAAAAAA+H9m8FfZf+HBQGfwV9l/4cFAZ/BX2X/hwUBm8FfZf+HBQAAAAAAAAPh/AAAAAAAA+H8AAAAAAAD4fwAAAAAAAPh/AAAAAAAA+H8AAAAAAAD4f5BRSIp+J7VABOyKq2SLuUBvfxW1jZa7QDy8H+ocJL1AdbWr2dVLvkAxfj8yHbS8QLL6w5lUI75A57y0LF8cv0AYJV8a1tG/QMKqXB6qccFAlDVAsr40wkAAAAAAAAD4fwAAAAAAAPh/AAAAAAAA+H8AAAAAAAD4f2fwV9l/4cFAZ/BX2X/hwUBn8FfZf+HBQGbwV9l/4cFAAAAAAAAA+H8AAAAAAAD4fwAAAAAAAPh/AAAAAAAA+H8AAAAAAAD4fwAAAAAAAPh/kFFIin4ntUAD7IqrZIu5QG9/FbWNlrtAPbwf6hwkvUB3tavZ1Uu+QDB+PzIdtLxAsPrDmVQjvkDnvLQsXxy/QBklXxrW0b9AwqpcHqpxwUCUNUCyvjTCQAAAAAAAAPh/AAAAAAAA+H8AAAAAAAD4fwAAAAAAAPh/Z/BX2X/hwUBn8FfZf+HBQGfwV9l/4cFAZvBX2X/hwUAAAAAAAAD4fwAAAAAAAPh/AAAAAAAA+H8AAAAAAAD4fwAAAAAAAPh/AAAAAAAA+H8=\",\"dtype\":\"float64\",\"shape\":[136]},\"index\":[0,1,2,3,4,5,6,7,8,9,10,11,12,13,14,15,16,17,18,19,20,21,22,23,24,25,26,27,28,29,30,31,32,33,34,35,36,37,38,39,40,41,42,43,44,45,46,47,48,49,50,51,52,53,54,55,56,57,58,59,60,61,62,63,64,65,66,67,68,69,70,71,72,73,74,75,76,77,78,79,80,81,82,83,84,85,86,87,88,89,90,91,92,93,94,95,96,97,98,99,100,101,102,103,104,105,106,107,108,109,110,111,112,113,114,115,116,117,118,119,120,121,122,123,124,125,126,127,128,129,130,131,132,133,134,135],\"n1\":[\"300\",\"300\",\"1300\",\"1300\",\"1300\",\"1300\",\"1300\",\"1300\",\"1300\",\"1300\",\"1300\",\"1300\",\"1300\",\"1300\",\"2300\",\"2300\",\"2300\",\"2300\",\"2300\",\"2300\",\"2300\",\"2300\",\"2300\",\"2300\",\"2300\",\"2300\",\"2300\",\"2300\",\"2300\",\"2300\",\"2300\",\"2300\",\"2300\",\"2300\",\"2300\",\"2300\",\"3300\",\"3300\",\"3300\",\"3300\",\"3300\",\"3300\",\"3300\",\"3300\",\"3300\",\"3300\",\"3300\",\"3300\",\"3300\",\"3300\",\"3300\",\"3300\",\"3300\",\"3300\",\"3300\",\"3300\",\"3300\",\"3300\",\"3300\",\"3300\",\"3300\",\"4300\",\"4300\",\"4300\",\"4300\",\"4300\",\"4300\",\"4300\",\"4300\",\"4300\",\"4300\",\"4300\",\"4300\",\"4300\",\"4300\",\"4300\",\"4300\",\"4300\",\"4300\",\"4300\",\"4300\",\"4300\",\"4300\",\"4300\",\"4300\",\"4300\",\"5300\",\"5300\",\"5300\",\"5300\",\"5300\",\"5300\",\"5300\",\"5300\",\"5300\",\"5300\",\"5300\",\"5300\",\"5300\",\"5300\",\"5300\",\"5300\",\"5300\",\"5300\",\"5300\",\"5300\",\"5300\",\"5300\",\"5300\",\"5300\",\"5300\",\"6300\",\"6300\",\"6300\",\"6300\",\"6300\",\"6300\",\"6300\",\"6300\",\"6300\",\"6300\",\"6300\",\"6300\",\"6300\",\"6300\",\"6300\",\"6300\",\"6300\",\"6300\",\"6300\",\"6300\",\"6300\",\"6300\",\"6300\",\"6300\",\"6300\"],\"n_exit\":[\"10\",\"110\",\"10\",\"110\",\"210\",\"310\",\"410\",\"510\",\"610\",\"710\",\"810\",\"910\",\"1010\",\"1110\",\"10\",\"110\",\"210\",\"310\",\"410\",\"510\",\"610\",\"710\",\"810\",\"910\",\"1010\",\"1110\",\"1210\",\"1310\",\"1410\",\"1510\",\"1610\",\"1710\",\"1810\",\"1910\",\"2010\",\"2110\",\"10\",\"110\",\"210\",\"310\",\"410\",\"510\",\"610\",\"710\",\"810\",\"910\",\"1010\",\"1110\",\"1210\",\"1310\",\"1410\",\"1510\",\"1610\",\"1710\",\"1810\",\"1910\",\"2010\",\"2110\",\"2210\",\"2310\",\"2410\",\"10\",\"110\",\"210\",\"310\",\"410\",\"510\",\"610\",\"710\",\"810\",\"910\",\"1010\",\"1110\",\"1210\",\"1310\",\"1410\",\"1510\",\"1610\",\"1710\",\"1810\",\"1910\",\"2010\",\"2110\",\"2210\",\"2310\",\"2410\",\"10\",\"110\",\"210\",\"310\",\"410\",\"510\",\"610\",\"710\",\"810\",\"910\",\"1010\",\"1110\",\"1210\",\"1310\",\"1410\",\"1510\",\"1610\",\"1710\",\"1810\",\"1910\",\"2010\",\"2110\",\"2210\",\"2310\",\"2410\",\"10\",\"110\",\"210\",\"310\",\"410\",\"510\",\"610\",\"710\",\"810\",\"910\",\"1010\",\"1110\",\"1210\",\"1310\",\"1410\",\"1510\",\"1610\",\"1710\",\"1810\",\"1910\",\"2010\",\"2110\",\"2210\",\"2310\",\"2410\"]},\"selected\":{\"id\":\"22375\"},\"selection_policy\":{\"id\":\"22374\"}},\"id\":\"22248\",\"type\":\"ColumnDataSource\"},{\"attributes\":{},\"id\":\"22205\",\"type\":\"CategoricalTicker\"},{\"attributes\":{},\"id\":\"22380\",\"type\":\"CategoricalTickFormatter\"},{\"attributes\":{\"axis_label\":\"n_enter\",\"axis_line_color\":null,\"formatter\":{\"id\":\"22362\"},\"major_label_standoff\":0,\"major_tick_line_color\":null,\"ticker\":{\"id\":\"22205\"}},\"id\":\"22204\",\"type\":\"CategoricalAxis\"},{\"attributes\":{\"axis_label\":\"n_enter\",\"axis_line_color\":null,\"formatter\":{\"id\":\"22400\"},\"major_label_standoff\":0,\"major_tick_line_color\":null,\"ticker\":{\"id\":\"22326\"}},\"id\":\"22325\",\"type\":\"CategoricalAxis\"},{\"attributes\":{},\"id\":\"22350\",\"type\":\"CategoricalTickFormatter\"},{\"attributes\":{},\"id\":\"22202\",\"type\":\"CategoricalTicker\"},{\"attributes\":{},\"id\":\"22259\",\"type\":\"CategoricalScale\"},{\"attributes\":{\"fill_color\":{\"field\":\"_Value\",\"transform\":{\"id\":\"22160\"}},\"height\":{\"units\":\"data\",\"value\":1},\"line_color\":{\"value\":null},\"width\":{\"units\":\"data\",\"value\":1},\"x\":{\"field\":\"n1\"},\"y\":{\"field\":\"n_exit\"}},\"id\":\"22250\",\"type\":\"Rect\"},{\"attributes\":{\"fill_color\":{\"field\":\"_Value\",\"transform\":{\"id\":\"22160\"}},\"height\":{\"units\":\"data\",\"value\":1},\"line_color\":{\"value\":null},\"width\":{\"units\":\"data\",\"value\":1},\"x\":{\"field\":\"n2\"},\"y\":{\"field\":\"n_exit\"}},\"id\":\"22312\",\"type\":\"Rect\"},{\"attributes\":{},\"id\":\"22177\",\"type\":\"ResetTool\"},{\"attributes\":{\"data_source\":{\"id\":\"22248\"},\"glyph\":{\"id\":\"22250\"},\"hover_glyph\":null,\"muted_glyph\":null,\"nonselection_glyph\":{\"id\":\"22251\"},\"selection_glyph\":null,\"view\":{\"id\":\"22253\"}},\"id\":\"22252\",\"type\":\"GlyphRenderer\"},{\"attributes\":{},\"id\":\"22404\",\"type\":\"UnionRenderers\"},{\"attributes\":{\"factors\":[\"5000\",\"6000\",\"7000\",\"8000\",\"9000\"]},\"id\":\"22255\",\"type\":\"FactorRange\"},{\"attributes\":{\"axis\":{\"id\":\"22266\"},\"dimension\":1,\"grid_line_color\":null,\"ticker\":null},\"id\":\"22268\",\"type\":\"Grid\"},{\"attributes\":{\"factors\":[\"10\",\"110\",\"210\",\"310\",\"410\",\"510\",\"610\",\"710\",\"810\",\"910\",\"1010\",\"1110\",\"1210\",\"1310\",\"1410\",\"1510\",\"1610\",\"1710\",\"1810\",\"1910\",\"2010\",\"2110\",\"2210\",\"2310\",\"2410\"]},\"id\":\"22319\",\"type\":\"FactorRange\"},{\"attributes\":{\"text\":\"\"},\"id\":\"22358\",\"type\":\"Title\"},{\"attributes\":{\"axis_label\":\"n2\",\"axis_line_color\":null,\"formatter\":{\"id\":\"22380\"},\"major_label_standoff\":0,\"major_tick_line_color\":null,\"ticker\":{\"id\":\"22264\"}},\"id\":\"22263\",\"type\":\"CategoricalAxis\"},{\"attributes\":{\"below\":[{\"id\":\"22170\"}],\"center\":[{\"id\":\"22172\"},{\"id\":\"22175\"}],\"left\":[{\"id\":\"22173\"}],\"plot_height\":400,\"plot_width\":400,\"renderers\":[{\"id\":\"22190\"}],\"title\":{\"id\":\"22348\"},\"toolbar\":{\"id\":\"22181\"},\"toolbar_location\":null,\"x_range\":{\"id\":\"22162\"},\"x_scale\":{\"id\":\"22166\"},\"y_range\":{\"id\":\"22164\"},\"y_scale\":{\"id\":\"22168\"}},\"id\":\"22161\",\"subtype\":\"Figure\",\"type\":\"Plot\"},{\"attributes\":{\"source\":{\"id\":\"22279\"}},\"id\":\"22284\",\"type\":\"CDSView\"},{\"attributes\":{\"bottom_units\":\"screen\",\"fill_alpha\":0.5,\"fill_color\":\"lightgrey\",\"left_units\":\"screen\",\"level\":\"overlay\",\"line_alpha\":1.0,\"line_color\":\"black\",\"line_dash\":[4,4],\"line_width\":2,\"render_mode\":\"css\",\"right_units\":\"screen\",\"top_units\":\"screen\"},\"id\":\"22334\",\"type\":\"BoxAnnotation\"},{\"attributes\":{},\"id\":\"22400\",\"type\":\"CategoricalTickFormatter\"},{\"attributes\":{\"fill_color\":{\"field\":\"_Value\",\"transform\":{\"id\":\"22160\"}},\"height\":{\"units\":\"data\",\"value\":1},\"line_color\":{\"value\":null},\"width\":{\"units\":\"data\",\"value\":1},\"x\":{\"field\":\"n2\"},\"y\":{\"field\":\"n_enter\"}},\"id\":\"22281\",\"type\":\"Rect\"},{\"attributes\":{\"factors\":[\"5000\",\"6000\",\"7000\",\"8000\",\"9000\"]},\"id\":\"22286\",\"type\":\"FactorRange\"},{\"attributes\":{},\"id\":\"22209\",\"type\":\"SaveTool\"},{\"attributes\":{\"data_source\":{\"id\":\"22279\"},\"glyph\":{\"id\":\"22281\"},\"hover_glyph\":null,\"muted_glyph\":null,\"nonselection_glyph\":{\"id\":\"22282\"},\"selection_glyph\":null,\"view\":{\"id\":\"22284\"}},\"id\":\"22283\",\"type\":\"GlyphRenderer\"},{\"attributes\":{\"axis_label\":\"n1\",\"axis_line_color\":null,\"formatter\":{\"id\":\"22350\"},\"major_label_standoff\":0,\"major_tick_line_color\":null,\"ticker\":{\"id\":\"22171\"}},\"id\":\"22170\",\"type\":\"CategoricalAxis\"},{\"attributes\":{\"data_source\":{\"id\":\"22310\"},\"glyph\":{\"id\":\"22312\"},\"hover_glyph\":null,\"muted_glyph\":null,\"nonselection_glyph\":{\"id\":\"22313\"},\"selection_glyph\":null,\"view\":{\"id\":\"22315\"}},\"id\":\"22314\",\"type\":\"GlyphRenderer\"},{\"attributes\":{},\"id\":\"22236\",\"type\":\"CategoricalTicker\"},{\"attributes\":{},\"id\":\"22375\",\"type\":\"Selection\"},{\"attributes\":{\"children\":[[{\"id\":\"22161\"},0,0],[{\"id\":\"22192\"},0,1],[{\"id\":\"22223\"},0,2],[{\"id\":\"22254\"},1,0],[{\"id\":\"22285\"},1,1],[{\"id\":\"22316\"},1,2]]},\"id\":\"22407\",\"type\":\"GridBox\"},{\"attributes\":{\"axis_label\":\"n_exit\",\"axis_line_color\":null,\"formatter\":{\"id\":\"22372\"},\"major_label_standoff\":0,\"major_tick_line_color\":null,\"ticker\":{\"id\":\"22236\"}},\"id\":\"22235\",\"type\":\"CategoricalAxis\"},{\"attributes\":{},\"id\":\"22171\",\"type\":\"CategoricalTicker\"},{\"attributes\":{},\"id\":\"22166\",\"type\":\"CategoricalScale\"},{\"attributes\":{\"below\":[{\"id\":\"22263\"}],\"center\":[{\"id\":\"22265\"},{\"id\":\"22268\"}],\"left\":[{\"id\":\"22266\"}],\"plot_height\":400,\"plot_width\":400,\"renderers\":[{\"id\":\"22283\"}],\"title\":{\"id\":\"22378\"},\"toolbar\":{\"id\":\"22274\"},\"toolbar_location\":null,\"x_range\":{\"id\":\"22255\"},\"x_scale\":{\"id\":\"22259\"},\"y_range\":{\"id\":\"22257\"},\"y_scale\":{\"id\":\"22261\"}},\"id\":\"22254\",\"subtype\":\"Figure\",\"type\":\"Plot\"},{\"attributes\":{\"axis_label\":\"n1\",\"axis_line_color\":null,\"formatter\":{\"id\":\"22370\"},\"major_label_standoff\":0,\"major_tick_line_color\":null,\"ticker\":{\"id\":\"22233\"}},\"id\":\"22232\",\"type\":\"CategoricalAxis\"},{\"attributes\":{\"high\":9495.85646716034,\"low\":41.63042565826182,\"nan_color\":\"white\",\"palette\":[\"#440154\",\"#440255\",\"#440357\",\"#450558\",\"#45065A\",\"#45085B\",\"#46095C\",\"#460B5E\",\"#460C5F\",\"#460E61\",\"#470F62\",\"#471163\",\"#471265\",\"#471466\",\"#471567\",\"#471669\",\"#47186A\",\"#48196B\",\"#481A6C\",\"#481C6E\",\"#481D6F\",\"#481E70\",\"#482071\",\"#482172\",\"#482273\",\"#482374\",\"#472575\",\"#472676\",\"#472777\",\"#472878\",\"#472A79\",\"#472B7A\",\"#472C7B\",\"#462D7C\",\"#462F7C\",\"#46307D\",\"#46317E\",\"#45327F\",\"#45347F\",\"#453580\",\"#453681\",\"#443781\",\"#443982\",\"#433A83\",\"#433B83\",\"#433C84\",\"#423D84\",\"#423E85\",\"#424085\",\"#414186\",\"#414286\",\"#404387\",\"#404487\",\"#3F4587\",\"#3F4788\",\"#3E4888\",\"#3E4989\",\"#3D4A89\",\"#3D4B89\",\"#3D4C89\",\"#3C4D8A\",\"#3C4E8A\",\"#3B508A\",\"#3B518A\",\"#3A528B\",\"#3A538B\",\"#39548B\",\"#39558B\",\"#38568B\",\"#38578C\",\"#37588C\",\"#37598C\",\"#365A8C\",\"#365B8C\",\"#355C8C\",\"#355D8C\",\"#345E8D\",\"#345F8D\",\"#33608D\",\"#33618D\",\"#32628D\",\"#32638D\",\"#31648D\",\"#31658D\",\"#31668D\",\"#30678D\",\"#30688D\",\"#2F698D\",\"#2F6A8D\",\"#2E6B8E\",\"#2E6C8E\",\"#2E6D8E\",\"#2D6E8E\",\"#2D6F8E\",\"#2C708E\",\"#2C718E\",\"#2C728E\",\"#2B738E\",\"#2B748E\",\"#2A758E\",\"#2A768E\",\"#2A778E\",\"#29788E\",\"#29798E\",\"#287A8E\",\"#287A8E\",\"#287B8E\",\"#277C8E\",\"#277D8E\",\"#277E8E\",\"#267F8E\",\"#26808E\",\"#26818E\",\"#25828E\",\"#25838D\",\"#24848D\",\"#24858D\",\"#24868D\",\"#23878D\",\"#23888D\",\"#23898D\",\"#22898D\",\"#228A8D\",\"#228B8D\",\"#218C8D\",\"#218D8C\",\"#218E8C\",\"#208F8C\",\"#20908C\",\"#20918C\",\"#1F928C\",\"#1F938B\",\"#1F948B\",\"#1F958B\",\"#1F968B\",\"#1E978A\",\"#1E988A\",\"#1E998A\",\"#1E998A\",\"#1E9A89\",\"#1E9B89\",\"#1E9C89\",\"#1E9D88\",\"#1E9E88\",\"#1E9F88\",\"#1EA087\",\"#1FA187\",\"#1FA286\",\"#1FA386\",\"#20A485\",\"#20A585\",\"#21A685\",\"#21A784\",\"#22A784\",\"#23A883\",\"#23A982\",\"#24AA82\",\"#25AB81\",\"#26AC81\",\"#27AD80\",\"#28AE7F\",\"#29AF7F\",\"#2AB07E\",\"#2BB17D\",\"#2CB17D\",\"#2EB27C\",\"#2FB37B\",\"#30B47A\",\"#32B57A\",\"#33B679\",\"#35B778\",\"#36B877\",\"#38B976\",\"#39B976\",\"#3BBA75\",\"#3DBB74\",\"#3EBC73\",\"#40BD72\",\"#42BE71\",\"#44BE70\",\"#45BF6F\",\"#47C06E\",\"#49C16D\",\"#4BC26C\",\"#4DC26B\",\"#4FC369\",\"#51C468\",\"#53C567\",\"#55C666\",\"#57C665\",\"#59C764\",\"#5BC862\",\"#5EC961\",\"#60C960\",\"#62CA5F\",\"#64CB5D\",\"#67CC5C\",\"#69CC5B\",\"#6BCD59\",\"#6DCE58\",\"#70CE56\",\"#72CF55\",\"#74D054\",\"#77D052\",\"#79D151\",\"#7CD24F\",\"#7ED24E\",\"#81D34C\",\"#83D34B\",\"#86D449\",\"#88D547\",\"#8BD546\",\"#8DD644\",\"#90D643\",\"#92D741\",\"#95D73F\",\"#97D83E\",\"#9AD83C\",\"#9DD93A\",\"#9FD938\",\"#A2DA37\",\"#A5DA35\",\"#A7DB33\",\"#AADB32\",\"#ADDC30\",\"#AFDC2E\",\"#B2DD2C\",\"#B5DD2B\",\"#B7DD29\",\"#BADE27\",\"#BDDE26\",\"#BFDF24\",\"#C2DF22\",\"#C5DF21\",\"#C7E01F\",\"#CAE01E\",\"#CDE01D\",\"#CFE11C\",\"#D2E11B\",\"#D4E11A\",\"#D7E219\",\"#DAE218\",\"#DCE218\",\"#DFE318\",\"#E1E318\",\"#E4E318\",\"#E7E419\",\"#E9E419\",\"#ECE41A\",\"#EEE51B\",\"#F1E51C\",\"#F3E51E\",\"#F6E61F\",\"#F8E621\",\"#FAE622\",\"#FDE724\"]},\"id\":\"22160\",\"type\":\"LinearColorMapper\"},{\"attributes\":{\"active_drag\":\"auto\",\"active_inspect\":\"auto\",\"active_multi\":null,\"active_scroll\":\"auto\",\"active_tap\":\"auto\",\"tools\":[{\"id\":\"22300\"},{\"id\":\"22301\"},{\"id\":\"22302\"},{\"id\":\"22304\"}]},\"id\":\"22305\",\"type\":\"Toolbar\"},{\"attributes\":{\"axis\":{\"id\":\"22235\"},\"dimension\":1,\"grid_line_color\":null,\"ticker\":null},\"id\":\"22237\",\"type\":\"Grid\"},{\"attributes\":{},\"id\":\"22374\",\"type\":\"UnionRenderers\"},{\"attributes\":{\"axis\":{\"id\":\"22232\"},\"grid_line_color\":null,\"ticker\":null},\"id\":\"22234\",\"type\":\"Grid\"},{\"attributes\":{},\"id\":\"22290\",\"type\":\"CategoricalScale\"},{\"attributes\":{},\"id\":\"22292\",\"type\":\"CategoricalScale\"},{\"attributes\":{\"bottom_units\":\"screen\",\"fill_alpha\":0.5,\"fill_color\":\"lightgrey\",\"left_units\":\"screen\",\"level\":\"overlay\",\"line_alpha\":1.0,\"line_color\":\"black\",\"line_dash\":[4,4],\"line_width\":2,\"render_mode\":\"css\",\"right_units\":\"screen\",\"top_units\":\"screen\"},\"id\":\"22179\",\"type\":\"BoxAnnotation\"},{\"attributes\":{},\"id\":\"22271\",\"type\":\"SaveTool\"},{\"attributes\":{\"data\":{\"_Value\":{\"__ndarray__\":\"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\",\"dtype\":\"float64\",\"shape\":[208]},\"index\":[0,1,2,3,4,5,6,7,8,9,10,11,12,13,14,15,16,17,18,19,20,21,22,23,24,25,26,27,28,29,30,31,32,33,34,35,36,37,38,39,40,41,42,43,44,45,46,47,48,49,50,51,52,53,54,55,56,57,58,59,60,61,62,63,64,65,66,67,68,69,70,71,72,73,74,75,76,77,78,79,80,81,82,83,84,85,86,87,88,89,90,91,92,93,94,95,96,97,98,99,100,101,102,103,104,105,106,107,108,109,110,111,112,113,114,115,116,117,118,119,120,121,122,123,124,125,126,127,128,129,130,131,132,133,134,135,136,137,138,139,140,141,142,143,144,145,146,147,148,149,150,151,152,153,154,155,156,157,158,159,160,161,162,163,164,165,166,167,168,169,170,171,172,173,174,175,176,177,178,179,180,181,182,183,184,185,186,187,188,189,190,191,192,193,194,195,196,197,198,199,200,201,202,203,204,205,206,207],\"n1\":[\"300\",\"300\",\"1300\",\"1300\",\"1300\",\"1300\",\"1300\",\"1300\",\"1300\",\"1300\",\"1300\",\"1300\",\"1300\",\"1300\",\"2300\",\"2300\",\"2300\",\"2300\",\"2300\",\"2300\",\"2300\",\"2300\",\"2300\",\"2300\",\"2300\",\"2300\",\"2300\",\"2300\",\"2300\",\"2300\",\"2300\",\"2300\",\"2300\",\"2300\",\"2300\",\"2300\",\"3300\",\"3300\",\"3300\",\"3300\",\"3300\",\"3300\",\"3300\",\"3300\",\"3300\",\"3300\",\"3300\",\"3300\",\"3300\",\"3300\",\"3300\",\"3300\",\"3300\",\"3300\",\"3300\",\"3300\",\"3300\",\"3300\",\"3300\",\"3300\",\"3300\",\"3300\",\"3300\",\"3300\",\"3300\",\"3300\",\"3300\",\"3300\",\"4300\",\"4300\",\"4300\",\"4300\",\"4300\",\"4300\",\"4300\",\"4300\",\"4300\",\"4300\",\"4300\",\"4300\",\"4300\",\"4300\",\"4300\",\"4300\",\"4300\",\"4300\",\"4300\",\"4300\",\"4300\",\"4300\",\"4300\",\"4300\",\"4300\",\"4300\",\"4300\",\"4300\",\"4300\",\"4300\",\"4300\",\"4300\",\"4300\",\"4300\",\"4300\",\"4300\",\"4300\",\"4300\",\"4300\",\"4300\",\"4300\",\"4300\",\"5300\",\"5300\",\"5300\",\"5300\",\"5300\",\"5300\",\"5300\",\"5300\",\"5300\",\"5300\",\"5300\",\"5300\",\"5300\",\"5300\",\"5300\",\"5300\",\"5300\",\"5300\",\"5300\",\"5300\",\"5300\",\"5300\",\"5300\",\"5300\",\"5300\",\"5300\",\"5300\",\"5300\",\"5300\",\"5300\",\"5300\",\"5300\",\"5300\",\"5300\",\"5300\",\"5300\",\"5300\",\"5300\",\"5300\",\"5300\",\"5300\",\"5300\",\"5300\",\"5300\",\"5300\",\"5300\",\"5300\",\"5300\",\"5300\",\"6300\",\"6300\",\"6300\",\"6300\",\"6300\",\"6300\",\"6300\",\"6300\",\"6300\",\"6300\",\"6300\",\"6300\",\"6300\",\"6300\",\"6300\",\"6300\",\"6300\",\"6300\",\"6300\",\"6300\",\"6300\",\"6300\",\"6300\",\"6300\",\"6300\",\"6300\",\"6300\",\"6300\",\"6300\",\"6300\",\"6300\",\"6300\",\"6300\",\"6300\",\"6300\",\"6300\",\"6300\",\"6300\",\"6300\",\"6300\",\"6300\",\"6300\",\"6300\",\"6300\",\"6300\",\"6300\",\"6300\",\"6300\",\"6300\"],\"n_enter\":[\"100\",\"200\",\"100\",\"200\",\"300\",\"400\",\"500\",\"600\",\"700\",\"800\",\"900\",\"1000\",\"1100\",\"1200\",\"100\",\"200\",\"300\",\"400\",\"500\",\"600\",\"700\",\"800\",\"900\",\"1000\",\"1100\",\"1200\",\"1300\",\"1400\",\"1500\",\"1600\",\"1700\",\"1800\",\"1900\",\"2000\",\"2100\",\"2200\",\"100\",\"200\",\"300\",\"400\",\"500\",\"600\",\"700\",\"800\",\"900\",\"1000\",\"1100\",\"1200\",\"1300\",\"1400\",\"1500\",\"1600\",\"1700\",\"1800\",\"1900\",\"2000\",\"2100\",\"2200\",\"2300\",\"2400\",\"2500\",\"2600\",\"2700\",\"2800\",\"2900\",\"3000\",\"3100\",\"3200\",\"100\",\"200\",\"300\",\"400\",\"500\",\"600\",\"700\",\"800\",\"900\",\"1000\",\"1100\",\"1200\",\"1300\",\"1400\",\"1500\",\"1600\",\"1700\",\"1800\",\"1900\",\"2000\",\"2100\",\"2200\",\"2300\",\"2400\",\"2500\",\"2600\",\"2700\",\"2800\",\"2900\",\"3000\",\"3100\",\"3200\",\"3300\",\"3400\",\"3500\",\"3600\",\"3700\",\"3800\",\"3900\",\"4000\",\"4100\",\"4200\",\"100\",\"200\",\"300\",\"400\",\"500\",\"600\",\"700\",\"800\",\"900\",\"1000\",\"1100\",\"1200\",\"1300\",\"1400\",\"1500\",\"1600\",\"1700\",\"1800\",\"1900\",\"2000\",\"2100\",\"2200\",\"2300\",\"2400\",\"2500\",\"2600\",\"2700\",\"2800\",\"2900\",\"3000\",\"3100\",\"3200\",\"3300\",\"3400\",\"3500\",\"3600\",\"3700\",\"3800\",\"3900\",\"4000\",\"4100\",\"4200\",\"4300\",\"4400\",\"4500\",\"4600\",\"4700\",\"4800\",\"4900\",\"100\",\"200\",\"300\",\"400\",\"500\",\"600\",\"700\",\"800\",\"900\",\"1000\",\"1100\",\"1200\",\"1300\",\"1400\",\"1500\",\"1600\",\"1700\",\"1800\",\"1900\",\"2000\",\"2100\",\"2200\",\"2300\",\"2400\",\"2500\",\"2600\",\"2700\",\"2800\",\"2900\",\"3000\",\"3100\",\"3200\",\"3300\",\"3400\",\"3500\",\"3600\",\"3700\",\"3800\",\"3900\",\"4000\",\"4100\",\"4200\",\"4300\",\"4400\",\"4500\",\"4600\",\"4700\",\"4800\",\"4900\"]},\"selected\":{\"id\":\"22365\"},\"selection_policy\":{\"id\":\"22364\"}},\"id\":\"22217\",\"type\":\"ColumnDataSource\"},{\"attributes\":{\"fill_alpha\":{\"value\":0.1},\"fill_color\":{\"field\":\"_Value\",\"transform\":{\"id\":\"22160\"}},\"height\":{\"units\":\"data\",\"value\":1},\"line_alpha\":{\"value\":0.1},\"line_color\":{\"value\":null},\"width\":{\"units\":\"data\",\"value\":1},\"x\":{\"field\":\"n_enter\"},\"y\":{\"field\":\"n_exit\"}},\"id\":\"22344\",\"type\":\"Rect\"},{\"attributes\":{\"axis\":{\"id\":\"22328\"},\"dimension\":1,\"grid_line_color\":null,\"ticker\":null},\"id\":\"22330\",\"type\":\"Grid\"},{\"attributes\":{\"fill_alpha\":{\"value\":0.1},\"fill_color\":{\"field\":\"_Value\",\"transform\":{\"id\":\"22160\"}},\"height\":{\"units\":\"data\",\"value\":1},\"line_alpha\":{\"value\":0.1},\"line_color\":{\"value\":null},\"width\":{\"units\":\"data\",\"value\":1},\"x\":{\"field\":\"n2\"},\"y\":{\"field\":\"n_exit\"}},\"id\":\"22313\",\"type\":\"Rect\"},{\"attributes\":{\"factors\":[\"300\",\"1300\",\"2300\",\"3300\",\"4300\",\"5300\",\"6300\"]},\"id\":\"22193\",\"type\":\"FactorRange\"},{\"attributes\":{\"bottom_units\":\"screen\",\"fill_alpha\":0.5,\"fill_color\":\"lightgrey\",\"left_units\":\"screen\",\"level\":\"overlay\",\"line_alpha\":1.0,\"line_color\":\"black\",\"line_dash\":[4,4],\"line_width\":2,\"render_mode\":\"css\",\"right_units\":\"screen\",\"top_units\":\"screen\"},\"id\":\"22303\",\"type\":\"BoxAnnotation\"},{\"attributes\":{\"overlay\":{\"id\":\"22241\"}},\"id\":\"22238\",\"type\":\"BoxZoomTool\"},{\"attributes\":{\"active_drag\":\"auto\",\"active_inspect\":\"auto\",\"active_multi\":null,\"active_scroll\":\"auto\",\"active_tap\":\"auto\",\"tools\":[{\"id\":\"22207\"},{\"id\":\"22208\"},{\"id\":\"22209\"},{\"id\":\"22211\"}]},\"id\":\"22212\",\"type\":\"Toolbar\"},{\"attributes\":{\"below\":[{\"id\":\"22325\"}],\"center\":[{\"id\":\"22327\"},{\"id\":\"22330\"}],\"left\":[{\"id\":\"22328\"}],\"plot_height\":400,\"plot_width\":400,\"renderers\":[{\"id\":\"22345\"}],\"title\":{\"id\":\"22398\"},\"toolbar\":{\"id\":\"22336\"},\"toolbar_location\":null,\"x_range\":{\"id\":\"22317\"},\"x_scale\":{\"id\":\"22321\"},\"y_range\":{\"id\":\"22319\"},\"y_scale\":{\"id\":\"22323\"}},\"id\":\"22316\",\"subtype\":\"Figure\",\"type\":\"Plot\"},{\"attributes\":{\"callback\":null,\"tooltips\":[[\"n_enter\",\"@n_enter\"],[\"n_exit\",\"@n_exit\"],[\"Value\",\"@_Value{0.[000]}\"]]},\"id\":\"22335\",\"type\":\"HoverTool\"},{\"attributes\":{},\"id\":\"22208\",\"type\":\"ResetTool\"},{\"attributes\":{\"overlay\":{\"id\":\"22334\"}},\"id\":\"22331\",\"type\":\"BoxZoomTool\"},{\"attributes\":{\"fill_color\":{\"field\":\"_Value\",\"transform\":{\"id\":\"22160\"}},\"height\":{\"units\":\"data\",\"value\":1},\"line_color\":{\"value\":null},\"width\":{\"units\":\"data\",\"value\":1},\"x\":{\"field\":\"n1\"},\"y\":{\"field\":\"n_enter\"}},\"id\":\"22219\",\"type\":\"Rect\"},{\"attributes\":{},\"id\":\"22233\",\"type\":\"CategoricalTicker\"},{\"attributes\":{},\"id\":\"22332\",\"type\":\"ResetTool\"},{\"attributes\":{\"fill_alpha\":{\"value\":0.1},\"fill_color\":{\"field\":\"_Value\",\"transform\":{\"id\":\"22160\"}},\"height\":{\"units\":\"data\",\"value\":1},\"line_alpha\":{\"value\":0.1},\"line_color\":{\"value\":null},\"width\":{\"units\":\"data\",\"value\":1},\"x\":{\"field\":\"n1\"},\"y\":{\"field\":\"n_exit\"}},\"id\":\"22251\",\"type\":\"Rect\"},{\"attributes\":{\"overlay\":{\"id\":\"22210\"}},\"id\":\"22207\",\"type\":\"BoxZoomTool\"},{\"attributes\":{\"axis\":{\"id\":\"22204\"},\"dimension\":1,\"grid_line_color\":null,\"ticker\":null},\"id\":\"22206\",\"type\":\"Grid\"},{\"attributes\":{\"factors\":[\"100\",\"200\",\"300\",\"400\",\"500\",\"600\",\"700\",\"800\",\"900\",\"1000\",\"1100\",\"1200\",\"1300\",\"1400\",\"1500\",\"1600\",\"1700\",\"1800\",\"1900\",\"2000\",\"2100\",\"2200\",\"2300\",\"2400\",\"2500\",\"2600\",\"2700\",\"2800\",\"2900\",\"3000\",\"3100\",\"3200\",\"3300\",\"3400\",\"3500\",\"3600\",\"3700\",\"3800\",\"3900\",\"4000\",\"4100\",\"4200\",\"4300\",\"4400\",\"4500\",\"4600\",\"4700\",\"4800\",\"4900\"]},\"id\":\"22317\",\"type\":\"FactorRange\"},{\"attributes\":{\"axis\":{\"id\":\"22170\"},\"grid_line_color\":null,\"ticker\":null},\"id\":\"22172\",\"type\":\"Grid\"},{\"attributes\":{\"data_source\":{\"id\":\"22217\"},\"glyph\":{\"id\":\"22219\"},\"hover_glyph\":null,\"muted_glyph\":null,\"nonselection_glyph\":{\"id\":\"22220\"},\"selection_glyph\":null,\"view\":{\"id\":\"22222\"}},\"id\":\"22221\",\"type\":\"GlyphRenderer\"},{\"attributes\":{\"fill_color\":{\"field\":\"_Value\",\"transform\":{\"id\":\"22160\"}},\"height\":{\"units\":\"data\",\"value\":1},\"line_color\":{\"value\":null},\"width\":{\"units\":\"data\",\"value\":1},\"x\":{\"field\":\"n1\"},\"y\":{\"field\":\"n2\"}},\"id\":\"22188\",\"type\":\"Rect\"},{\"attributes\":{},\"id\":\"22360\",\"type\":\"CategoricalTickFormatter\"},{\"attributes\":{\"callback\":null,\"tooltips\":[[\"n2\",\"@n2\"],[\"n_exit\",\"@n_exit\"],[\"Value\",\"@_Value{0.[000]}\"]]},\"id\":\"22304\",\"type\":\"HoverTool\"},{\"attributes\":{\"factors\":[\"5000\",\"6000\",\"7000\",\"8000\",\"9000\"]},\"id\":\"22164\",\"type\":\"FactorRange\"},{\"attributes\":{\"text\":\"\"},\"id\":\"22368\",\"type\":\"Title\"},{\"attributes\":{\"data\":{\"_Value\":{\"__ndarray__\":\"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\",\"dtype\":\"float64\",\"shape\":[925]},\"index\":[0,1,2,3,4,5,6,7,8,9,10,11,12,13,14,15,16,17,18,19,20,21,22,23,24,25,26,27,28,29,30,31,32,33,34,35,36,37,38,39,40,41,42,43,44,45,46,47,48,49,50,51,52,53,54,55,56,57,58,59,60,61,62,63,64,65,66,67,68,69,70,71,72,73,74,75,76,77,78,79,80,81,82,83,84,85,86,87,88,89,90,91,92,93,94,95,96,97,98,99,100,101,102,103,104,105,106,107,108,109,110,111,112,113,114,115,116,117,118,119,120,121,122,123,124,125,126,127,128,129,130,131,132,133,134,135,136,137,138,139,140,141,142,143,144,145,146,147,148,149,150,151,152,153,154,155,156,157,158,159,160,161,162,163,164,165,166,167,168,169,170,171,172,173,174,175,176,177,178,179,180,181,182,183,184,185,186,187,188,189,190,191,192,193,194,195,196,197,198,199,200,201,202,203,204,205,206,207,208,209,210,211,212,213,214,215,216,217,218,219,220,221,222,223,224,225,226,227,228,229,230,231,232,233,234,235,236,237,238,239,240,241,242,243,244,245,246,247,248,249,250,251,252,253,254,255,256,257,258,259,260,261,262,263,264,265,266,267,268,269,270,271,272,273,274,275,276,277,278,279,280,281,282,283,284,285,286,287,288,289,290,291,292,293,294,295,296,297,298,299,300,301,302,303,304,305,306,307,308,309,310,311,312,313,314,315,316,317,318,319,320,321,322,323,324,325,326,327,328,329,330,331,332,333,334,335,336,337,338,339,340,341,342,343,344,345,346,347,348,349,350,351,352,353,354,355,356,357,358,359,360,361,362,363,364,365,366,367,368,369,370,371,372,373,374,375,376,377,378,379,380,381,382,383,384,385,386,387,388,389,390,391,392,393,394,395,396,397,398,399,400,401,402,403,404,405,406,407,408,409,410,411,412,413,414,415,416,417,418,419,420,421,422,423,424,425,426,427,428,429,430,431,432,433,434,435,436,437,438,439,440,441,442,443,444,445,446,447,448,449,450,451,452,453,454,455,456,457,458,459,460,461,462,463,464,465,466,467,468,469,470,471,472,473,474,475,476,477,478,479,480,481,482,483,484,485,486,487,488,489,490,491,492,493,494,495,496,497,498,499,500,501,502,503,504,505,506,507,508,509,510,511,512,513,514,515,516,517,518,519,520,521,522,523,524,525,526,527,528,529,530,531,532,533,534,535,536,537,538,539,540,541,542,543,544,545,546,547,548,549,550,551,552,553,554,555,556,557,558,559,560,561,562,563,564,565,566,567,568,569,570,571,572,573,574,575,576,577,578,579,580,581,582,583,584,585,586,587,588,589,590,591,592,593,594,595,596,597,598,599,600,601,602,603,604,605,606,607,608,609,610,611,612,613,614,615,616,617,618,619,620,621,622,623,624,625,626,627,628,629,630,631,632,633,634,635,636,637,638,639,640,641,642,643,644,645,646,647,648,649,650,651,652,653,654,655,656,657,658,659,660,661,662,663,664,665,666,667,668,669,670,671,672,673,674,675,676,677,678,679,680,681,682,683,684,685,686,687,688,689,690,691,692,693,694,695,696,697,698,699,700,701,702,703,704,705,706,707,708,709,710,711,712,713,714,715,716,717,718,719,720,721,722,723,724,725,726,727,728,729,730,731,732,733,734,735,736,737,738,739,740,741,742,743,744,745,746,747,748,749,750,751,752,753,754,755,756,757,758,759,760,761,762,763,764,765,766,767,768,769,770,771,772,773,774,775,776,777,778,779,780,781,782,783,784,785,786,787,788,789,790,791,792,793,794,795,796,797,798,799,800,801,802,803,804,805,806,807,808,809,810,811,812,813,814,815,816,817,818,819,820,821,822,823,824,825,826,827,828,829,830,831,832,833,834,835,836,837,838,839,840,841,842,843,844,845,846,847,848,849,850,851,852,853,854,855,856,857,858,859,860,861,862,863,864,865,866,867,868,869,870,871,872,873,874,875,876,877,878,879,880,881,882,883,884,885,886,887,888,889,890,891,892,893,894,895,896,897,898,899,900,901,902,903,904,905,906,907,908,909,910,911,912,913,914,915,916,917,918,919,920,921,922,923,924],\"n_enter\":[\"100\",\"200\",\"200\",\"300\",\"300\",\"300\",\"400\",\"400\",\"400\",\"400\",\"500\",\"500\",\"500\",\"500\",\"500\",\"600\",\"600\",\"600\",\"600\",\"600\",\"600\",\"700\",\"700\",\"700\",\"700\",\"700\",\"700\",\"700\",\"800\",\"800\",\"800\",\"800\",\"800\",\"800\",\"800\",\"800\",\"900\",\"900\",\"900\",\"900\",\"900\",\"900\",\"900\",\"900\",\"900\",\"1000\",\"1000\",\"1000\",\"1000\",\"1000\",\"1000\",\"1000\",\"1000\",\"1000\",\"1000\",\"1100\",\"1100\",\"1100\",\"1100\",\"1100\",\"1100\",\"1100\",\"1100\",\"1100\",\"1100\",\"1100\",\"1200\",\"1200\",\"1200\",\"1200\",\"1200\",\"1200\",\"1200\",\"1200\",\"1200\",\"1200\",\"1200\",\"1200\",\"1300\",\"1300\",\"1300\",\"1300\",\"1300\",\"1300\",\"1300\",\"1300\",\"1300\",\"1300\",\"1300\",\"1300\",\"1300\",\"1400\",\"1400\",\"1400\",\"1400\",\"1400\",\"1400\",\"1400\",\"1400\",\"1400\",\"1400\",\"1400\",\"1400\",\"1400\",\"1400\",\"1500\",\"1500\",\"1500\",\"1500\",\"1500\",\"1500\",\"1500\",\"1500\",\"1500\",\"1500\",\"1500\",\"1500\",\"1500\",\"1500\",\"1500\",\"1600\",\"1600\",\"1600\",\"1600\",\"1600\",\"1600\",\"1600\",\"1600\",\"1600\",\"1600\",\"1600\",\"1600\",\"1600\",\"1600\",\"1600\",\"1600\",\"1700\",\"1700\",\"1700\",\"1700\",\"1700\",\"1700\",\"1700\",\"1700\",\"1700\",\"1700\",\"1700\",\"1700\",\"1700\",\"1700\",\"1700\",\"1700\",\"1700\",\"1800\",\"1800\",\"1800\",\"1800\",\"1800\",\"1800\",\"1800\",\"1800\",\"1800\",\"1800\",\"1800\",\"1800\",\"1800\",\"1800\",\"1800\",\"1800\",\"1800\",\"1800\",\"1900\",\"1900\",\"1900\",\"1900\",\"1900\",\"1900\",\"1900\",\"1900\",\"1900\",\"1900\",\"1900\",\"1900\",\"1900\",\"1900\",\"1900\",\"1900\",\"1900\",\"1900\",\"1900\",\"2000\",\"2000\",\"2000\",\"2000\",\"2000\",\"2000\",\"2000\",\"2000\",\"2000\",\"2000\",\"2000\",\"2000\",\"2000\",\"2000\",\"2000\",\"2000\",\"2000\",\"2000\",\"2000\",\"2000\",\"2100\",\"2100\",\"2100\",\"2100\",\"2100\",\"2100\",\"2100\",\"2100\",\"2100\",\"2100\",\"2100\",\"2100\",\"2100\",\"2100\",\"2100\",\"2100\",\"2100\",\"2100\",\"2100\",\"2100\",\"2100\",\"2200\",\"2200\",\"2200\",\"2200\",\"2200\",\"2200\",\"2200\",\"2200\",\"2200\",\"2200\",\"2200\",\"2200\",\"2200\",\"2200\",\"2200\",\"2200\",\"2200\",\"2200\",\"2200\",\"2200\",\"2200\",\"2200\",\"2300\",\"2300\",\"2300\",\"2300\",\"2300\",\"2300\",\"2300\",\"2300\",\"2300\",\"2300\",\"2300\",\"2300\",\"2300\",\"2300\",\"2300\",\"2300\",\"2300\",\"2300\",\"2300\",\"2300\",\"2300\",\"2300\",\"2300\",\"2400\",\"2400\",\"2400\",\"2400\",\"2400\",\"2400\",\"2400\",\"2400\",\"2400\",\"2400\",\"2400\",\"2400\",\"2400\",\"2400\",\"2400\",\"2400\",\"2400\",\"2400\",\"2400\",\"2400\",\"2400\",\"2400\",\"2400\",\"2400\",\"2500\",\"2500\",\"2500\",\"2500\",\"2500\",\"2500\",\"2500\",\"2500\",\"2500\",\"2500\",\"2500\",\"2500\",\"2500\",\"2500\",\"2500\",\"2500\",\"2500\",\"2500\",\"2500\",\"2500\",\"2500\",\"2500\",\"2500\",\"2500\",\"2500\",\"2600\",\"2600\",\"2600\",\"2600\",\"2600\",\"2600\",\"2600\",\"2600\",\"2600\",\"2600\",\"2600\",\"2600\",\"2600\",\"2600\",\"2600\",\"2600\",\"2600\",\"2600\",\"2600\",\"2600\",\"2600\",\"2600\",\"2600\",\"2600\",\"2600\",\"2700\",\"2700\",\"2700\",\"2700\",\"2700\",\"2700\",\"2700\",\"2700\",\"2700\",\"2700\",\"2700\",\"2700\",\"2700\",\"2700\",\"2700\",\"2700\",\"2700\",\"2700\",\"2700\",\"2700\",\"2700\",\"2700\",\"2700\",\"2700\",\"2700\",\"2800\",\"2800\",\"2800\",\"2800\",\"2800\",\"2800\",\"2800\",\"2800\",\"2800\",\"2800\",\"2800\",\"2800\",\"2800\",\"2800\",\"2800\",\"2800\",\"2800\",\"2800\",\"2800\",\"2800\",\"2800\",\"2800\",\"2800\",\"2800\",\"2800\",\"2900\",\"2900\",\"2900\",\"2900\",\"2900\",\"2900\",\"2900\",\"2900\",\"2900\",\"2900\",\"2900\",\"2900\",\"2900\",\"2900\",\"2900\",\"2900\",\"2900\",\"2900\",\"2900\",\"2900\",\"2900\",\"2900\",\"2900\",\"2900\",\"2900\",\"3000\",\"3000\",\"3000\",\"3000\",\"3000\",\"3000\",\"3000\",\"3000\",\"3000\",\"3000\",\"3000\",\"3000\",\"3000\",\"3000\",\"3000\",\"3000\",\"3000\",\"3000\",\"3000\",\"3000\",\"3000\",\"3000\",\"3000\",\"3000\",\"3000\",\"3100\",\"3100\",\"3100\",\"3100\",\"3100\",\"3100\",\"3100\",\"3100\",\"3100\",\"3100\",\"3100\",\"3100\",\"3100\",\"3100\",\"3100\",\"3100\",\"3100\",\"3100\",\"3100\",\"3100\",\"3100\",\"3100\",\"3100\",\"3100\",\"3100\",\"3200\",\"3200\",\"3200\",\"3200\",\"3200\",\"3200\",\"3200\",\"3200\",\"3200\",\"3200\",\"3200\",\"3200\",\"3200\",\"3200\",\"3200\",\"3200\",\"3200\",\"3200\",\"3200\",\"3200\",\"3200\",\"3200\",\"3200\",\"3200\",\"3200\",\"3300\",\"3300\",\"3300\",\"3300\",\"3300\",\"3300\",\"3300\",\"3300\",\"3300\",\"3300\",\"3300\",\"3300\",\"3300\",\"3300\",\"3300\",\"3300\",\"3300\",\"3300\",\"3300\",\"3300\",\"3300\",\"3300\",\"3300\",\"3300\",\"3300\",\"3400\",\"3400\",\"3400\",\"3400\",\"3400\",\"3400\",\"3400\",\"3400\",\"3400\",\"3400\",\"3400\",\"3400\",\"3400\",\"3400\",\"3400\",\"3400\",\"3400\",\"3400\",\"3400\",\"3400\",\"3400\",\"3400\",\"3400\",\"3400\",\"3400\",\"3500\",\"3500\",\"3500\",\"3500\",\"3500\",\"3500\",\"3500\",\"3500\",\"3500\",\"3500\",\"3500\",\"3500\",\"3500\",\"3500\",\"3500\",\"3500\",\"3500\",\"3500\",\"3500\",\"3500\",\"3500\",\"3500\",\"3500\",\"3500\",\"3500\",\"3600\",\"3600\",\"3600\",\"3600\",\"3600\",\"3600\",\"3600\",\"3600\",\"3600\",\"3600\",\"3600\",\"3600\",\"3600\",\"3600\",\"3600\",\"3600\",\"3600\",\"3600\",\"3600\",\"3600\",\"3600\",\"3600\",\"3600\",\"3600\",\"3600\",\"3700\",\"3700\",\"3700\",\"3700\",\"3700\",\"3700\",\"3700\",\"3700\",\"3700\",\"3700\",\"3700\",\"3700\",\"3700\",\"3700\",\"3700\",\"3700\",\"3700\",\"3700\",\"3700\",\"3700\",\"3700\",\"3700\",\"3700\",\"3700\",\"3700\",\"3800\",\"3800\",\"3800\",\"3800\",\"3800\",\"3800\",\"3800\",\"3800\",\"3800\",\"3800\",\"3800\",\"3800\",\"3800\",\"3800\",\"3800\",\"3800\",\"3800\",\"3800\",\"3800\",\"3800\",\"3800\",\"3800\",\"3800\",\"3800\",\"3800\",\"3900\",\"3900\",\"3900\",\"3900\",\"3900\",\"3900\",\"3900\",\"3900\",\"3900\",\"3900\",\"3900\",\"3900\",\"3900\",\"3900\",\"3900\",\"3900\",\"3900\",\"3900\",\"3900\",\"3900\",\"3900\",\"3900\",\"3900\",\"3900\",\"3900\",\"4000\",\"4000\",\"4000\",\"4000\",\"4000\",\"4000\",\"4000\",\"4000\",\"4000\",\"4000\",\"4000\",\"4000\",\"4000\",\"4000\",\"4000\",\"4000\",\"4000\",\"4000\",\"4000\",\"4000\",\"4000\",\"4000\",\"4000\",\"4000\",\"4000\",\"4100\",\"4100\",\"4100\",\"4100\",\"4100\",\"4100\",\"4100\",\"4100\",\"4100\",\"4100\",\"4100\",\"4100\",\"4100\",\"4100\",\"4100\",\"4100\",\"4100\",\"4100\",\"4100\",\"4100\",\"4100\",\"4100\",\"4100\",\"4100\",\"4100\",\"4200\",\"4200\",\"4200\",\"4200\",\"4200\",\"4200\",\"4200\",\"4200\",\"4200\",\"4200\",\"4200\",\"4200\",\"4200\",\"4200\",\"4200\",\"4200\",\"4200\",\"4200\",\"4200\",\"4200\",\"4200\",\"4200\",\"4200\",\"4200\",\"4200\",\"4300\",\"4300\",\"4300\",\"4300\",\"4300\",\"4300\",\"4300\",\"4300\",\"4300\",\"4300\",\"4300\",\"4300\",\"4300\",\"4300\",\"4300\",\"4300\",\"4300\",\"4300\",\"4300\",\"4300\",\"4300\",\"4300\",\"4300\",\"4300\",\"4300\",\"4400\",\"4400\",\"4400\",\"4400\",\"4400\",\"4400\",\"4400\",\"4400\",\"4400\",\"4400\",\"4400\",\"4400\",\"4400\",\"4400\",\"4400\",\"4400\",\"4400\",\"4400\",\"4400\",\"4400\",\"4400\",\"4400\",\"4400\",\"4400\",\"4400\",\"4500\",\"4500\",\"4500\",\"4500\",\"4500\",\"4500\",\"4500\",\"4500\",\"4500\",\"4500\",\"4500\",\"4500\",\"4500\",\"4500\",\"4500\",\"4500\",\"4500\",\"4500\",\"4500\",\"4500\",\"4500\",\"4500\",\"4500\",\"4500\",\"4500\",\"4600\",\"4600\",\"4600\",\"4600\",\"4600\",\"4600\",\"4600\",\"4600\",\"4600\",\"4600\",\"4600\",\"4600\",\"4600\",\"4600\",\"4600\",\"4600\",\"4600\",\"4600\",\"4600\",\"4600\",\"4600\",\"4600\",\"4600\",\"4600\",\"4600\",\"4700\",\"4700\",\"4700\",\"4700\",\"4700\",\"4700\",\"4700\",\"4700\",\"4700\",\"4700\",\"4700\",\"4700\",\"4700\",\"4700\",\"4700\",\"4700\",\"4700\",\"4700\",\"4700\",\"4700\",\"4700\",\"4700\",\"4700\",\"4700\",\"4700\",\"4800\",\"4800\",\"4800\",\"4800\",\"4800\",\"4800\",\"4800\",\"4800\",\"4800\",\"4800\",\"4800\",\"4800\",\"4800\",\"4800\",\"4800\",\"4800\",\"4800\",\"4800\",\"4800\",\"4800\",\"4800\",\"4800\",\"4800\",\"4800\",\"4800\",\"4900\",\"4900\",\"4900\",\"4900\",\"4900\",\"4900\",\"4900\",\"4900\",\"4900\",\"4900\",\"4900\",\"4900\",\"4900\",\"4900\",\"4900\",\"4900\",\"4900\",\"4900\",\"4900\",\"4900\",\"4900\",\"4900\",\"4900\",\"4900\",\"4900\"],\"n_exit\":[\"10\",\"10\",\"110\",\"10\",\"110\",\"210\",\"10\",\"110\",\"210\",\"310\",\"10\",\"110\",\"210\",\"310\",\"410\",\"10\",\"110\",\"210\",\"310\",\"410\",\"510\",\"10\",\"110\",\"210\",\"310\",\"410\",\"510\",\"610\",\"10\",\"110\",\"210\",\"310\",\"410\",\"510\",\"610\",\"710\",\"10\",\"110\",\"210\",\"310\",\"410\",\"510\",\"610\",\"710\",\"810\",\"10\",\"110\",\"210\",\"310\",\"410\",\"510\",\"610\",\"710\",\"810\",\"910\",\"10\",\"110\",\"210\",\"310\",\"410\",\"510\",\"610\",\"710\",\"810\",\"910\",\"1010\",\"10\",\"110\",\"210\",\"310\",\"410\",\"510\",\"610\",\"710\",\"810\",\"910\",\"1010\",\"1110\",\"10\",\"110\",\"210\",\"310\",\"410\",\"510\",\"610\",\"710\",\"810\",\"910\",\"1010\",\"1110\",\"1210\",\"10\",\"110\",\"210\",\"310\",\"410\",\"510\",\"610\",\"710\",\"810\",\"910\",\"1010\",\"1110\",\"1210\",\"1310\",\"10\",\"110\",\"210\",\"310\",\"410\",\"510\",\"610\",\"710\",\"810\",\"910\",\"1010\",\"1110\",\"1210\",\"1310\",\"1410\",\"10\",\"110\",\"210\",\"310\",\"410\",\"510\",\"610\",\"710\",\"810\",\"910\",\"1010\",\"1110\",\"1210\",\"1310\",\"1410\",\"1510\",\"10\",\"110\",\"210\",\"310\",\"410\",\"510\",\"610\",\"710\",\"810\",\"910\",\"1010\",\"1110\",\"1210\",\"1310\",\"1410\",\"1510\",\"1610\",\"10\",\"110\",\"210\",\"310\",\"410\",\"510\",\"610\",\"710\",\"810\",\"910\",\"1010\",\"1110\",\"1210\",\"1310\",\"1410\",\"1510\",\"1610\",\"1710\",\"10\",\"110\",\"210\",\"310\",\"410\",\"510\",\"610\",\"710\",\"810\",\"910\",\"1010\",\"1110\",\"1210\",\"1310\",\"1410\",\"1510\",\"1610\",\"1710\",\"1810\",\"10\",\"110\",\"210\",\"310\",\"410\",\"510\",\"610\",\"710\",\"810\",\"910\",\"1010\",\"1110\",\"1210\",\"1310\",\"1410\",\"1510\",\"1610\",\"1710\",\"1810\",\"1910\",\"10\",\"110\",\"210\",\"310\",\"410\",\"510\",\"610\",\"710\",\"810\",\"910\",\"1010\",\"1110\",\"1210\",\"1310\",\"1410\",\"1510\",\"1610\",\"1710\",\"1810\",\"1910\",\"2010\",\"10\",\"110\",\"210\",\"310\",\"410\",\"510\",\"610\",\"710\",\"810\",\"910\",\"1010\",\"1110\",\"1210\",\"1310\",\"1410\",\"1510\",\"1610\",\"1710\",\"1810\",\"1910\",\"2010\",\"2110\",\"10\",\"110\",\"210\",\"310\",\"410\",\"510\",\"610\",\"710\",\"810\",\"910\",\"1010\",\"1110\",\"1210\",\"1310\",\"1410\",\"1510\",\"1610\",\"1710\",\"1810\",\"1910\",\"2010\",\"2110\",\"2210\",\"10\",\"110\",\"210\",\"310\",\"410\",\"510\",\"610\",\"710\",\"810\",\"910\",\"1010\",\"1110\",\"1210\",\"1310\",\"1410\",\"1510\",\"1610\",\"1710\",\"1810\",\"1910\",\"2010\",\"2110\",\"2210\",\"2310\",\"10\",\"110\",\"210\",\"310\",\"410\",\"510\",\"610\",\"710\",\"810\",\"910\",\"1010\",\"1110\",\"1210\",\"1310\",\"1410\",\"1510\",\"1610\",\"1710\",\"1810\",\"1910\",\"2010\",\"2110\",\"2210\",\"2310\",\"2410\",\"10\",\"110\",\"210\",\"310\",\"410\",\"510\",\"610\",\"710\",\"810\",\"910\",\"1010\",\"1110\",\"1210\",\"1310\",\"1410\",\"1510\",\"1610\",\"1710\",\"1810\",\"1910\",\"2010\",\"2110\",\"2210\",\"2310\",\"2410\",\"10\",\"110\",\"210\",\"310\",\"410\",\"510\",\"610\",\"710\",\"810\",\"910\",\"1010\",\"1110\",\"1210\",\"1310\",\"1410\",\"1510\",\"1610\",\"1710\",\"1810\",\"1910\",\"2010\",\"2110\",\"2210\",\"2310\",\"2410\",\"10\",\"110\",\"210\",\"310\",\"410\",\"510\",\"610\",\"710\",\"810\",\"910\",\"1010\",\"1110\",\"1210\",\"1310\",\"1410\",\"1510\",\"1610\",\"1710\",\"1810\",\"1910\",\"2010\",\"2110\",\"2210\",\"2310\",\"2410\",\"10\",\"110\",\"210\",\"310\",\"410\",\"510\",\"610\",\"710\",\"810\",\"910\",\"1010\",\"1110\",\"1210\",\"1310\",\"1410\",\"1510\",\"1610\",\"1710\",\"1810\",\"1910\",\"2010\",\"2110\",\"2210\",\"2310\",\"2410\",\"10\",\"110\",\"210\",\"310\",\"410\",\"510\",\"610\",\"710\",\"810\",\"910\",\"1010\",\"1110\",\"1210\",\"1310\",\"1410\",\"1510\",\"1610\",\"1710\",\"1810\",\"1910\",\"2010\",\"2110\",\"2210\",\"2310\",\"2410\",\"10\",\"110\",\"210\",\"310\",\"410\",\"510\",\"610\",\"710\",\"810\",\"910\",\"1010\",\"1110\",\"1210\",\"1310\",\"1410\",\"1510\",\"1610\",\"1710\",\"1810\",\"1910\",\"2010\",\"2110\",\"2210\",\"2310\",\"2410\",\"10\",\"110\",\"210\",\"310\",\"410\",\"510\",\"610\",\"710\",\"810\",\"910\",\"1010\",\"1110\",\"1210\",\"1310\",\"1410\",\"1510\",\"1610\",\"1710\",\"1810\",\"1910\",\"2010\",\"2110\",\"2210\",\"2310\",\"2410\",\"10\",\"110\",\"210\",\"310\",\"410\",\"510\",\"610\",\"710\",\"810\",\"910\",\"1010\",\"1110\",\"1210\",\"1310\",\"1410\",\"1510\",\"1610\",\"1710\",\"1810\",\"1910\",\"2010\",\"2110\",\"2210\",\"2310\",\"2410\",\"10\",\"110\",\"210\",\"310\",\"410\",\"510\",\"610\",\"710\",\"810\",\"910\",\"1010\",\"1110\",\"1210\",\"1310\",\"1410\",\"1510\",\"1610\",\"1710\",\"1810\",\"1910\",\"2010\",\"2110\",\"2210\",\"2310\",\"2410\",\"10\",\"110\",\"210\",\"310\",\"410\",\"510\",\"610\",\"710\",\"810\",\"910\",\"1010\",\"1110\",\"1210\",\"1310\",\"1410\",\"1510\",\"1610\",\"1710\",\"1810\",\"1910\",\"2010\",\"2110\",\"2210\",\"2310\",\"2410\",\"10\",\"110\",\"210\",\"310\",\"410\",\"510\",\"610\",\"710\",\"810\",\"910\",\"1010\",\"1110\",\"1210\",\"1310\",\"1410\",\"1510\",\"1610\",\"1710\",\"1810\",\"1910\",\"2010\",\"2110\",\"2210\",\"2310\",\"2410\",\"10\",\"110\",\"210\",\"310\",\"410\",\"510\",\"610\",\"710\",\"810\",\"910\",\"1010\",\"1110\",\"1210\",\"1310\",\"1410\",\"1510\",\"1610\",\"1710\",\"1810\",\"1910\",\"2010\",\"2110\",\"2210\",\"2310\",\"2410\",\"10\",\"110\",\"210\",\"310\",\"410\",\"510\",\"610\",\"710\",\"810\",\"910\",\"1010\",\"1110\",\"1210\",\"1310\",\"1410\",\"1510\",\"1610\",\"1710\",\"1810\",\"1910\",\"2010\",\"2110\",\"2210\",\"2310\",\"2410\",\"10\",\"110\",\"210\",\"310\",\"410\",\"510\",\"610\",\"710\",\"810\",\"910\",\"1010\",\"1110\",\"1210\",\"1310\",\"1410\",\"1510\",\"1610\",\"1710\",\"1810\",\"1910\",\"2010\",\"2110\",\"2210\",\"2310\",\"2410\",\"10\",\"110\",\"210\",\"310\",\"410\",\"510\",\"610\",\"710\",\"810\",\"910\",\"1010\",\"1110\",\"1210\",\"1310\",\"1410\",\"1510\",\"1610\",\"1710\",\"1810\",\"1910\",\"2010\",\"2110\",\"2210\",\"2310\",\"2410\",\"10\",\"110\",\"210\",\"310\",\"410\",\"510\",\"610\",\"710\",\"810\",\"910\",\"1010\",\"1110\",\"1210\",\"1310\",\"1410\",\"1510\",\"1610\",\"1710\",\"1810\",\"1910\",\"2010\",\"2110\",\"2210\",\"2310\",\"2410\",\"10\",\"110\",\"210\",\"310\",\"410\",\"510\",\"610\",\"710\",\"810\",\"910\",\"1010\",\"1110\",\"1210\",\"1310\",\"1410\",\"1510\",\"1610\",\"1710\",\"1810\",\"1910\",\"2010\",\"2110\",\"2210\",\"2310\",\"2410\",\"10\",\"110\",\"210\",\"310\",\"410\",\"510\",\"610\",\"710\",\"810\",\"910\",\"1010\",\"1110\",\"1210\",\"1310\",\"1410\",\"1510\",\"1610\",\"1710\",\"1810\",\"1910\",\"2010\",\"2110\",\"2210\",\"2310\",\"2410\",\"10\",\"110\",\"210\",\"310\",\"410\",\"510\",\"610\",\"710\",\"810\",\"910\",\"1010\",\"1110\",\"1210\",\"1310\",\"1410\",\"1510\",\"1610\",\"1710\",\"1810\",\"1910\",\"2010\",\"2110\",\"2210\",\"2310\",\"2410\",\"10\",\"110\",\"210\",\"310\",\"410\",\"510\",\"610\",\"710\",\"810\",\"910\",\"1010\",\"1110\",\"1210\",\"1310\",\"1410\",\"1510\",\"1610\",\"1710\",\"1810\",\"1910\",\"2010\",\"2110\",\"2210\",\"2310\",\"2410\",\"10\",\"110\",\"210\",\"310\",\"410\",\"510\",\"610\",\"710\",\"810\",\"910\",\"1010\",\"1110\",\"1210\",\"1310\",\"1410\",\"1510\",\"1610\",\"1710\",\"1810\",\"1910\",\"2010\",\"2110\",\"2210\",\"2310\",\"2410\",\"10\",\"110\",\"210\",\"310\",\"410\",\"510\",\"610\",\"710\",\"810\",\"910\",\"1010\",\"1110\",\"1210\",\"1310\",\"1410\",\"1510\",\"1610\",\"1710\",\"1810\",\"1910\",\"2010\",\"2110\",\"2210\",\"2310\",\"2410\",\"10\",\"110\",\"210\",\"310\",\"410\",\"510\",\"610\",\"710\",\"810\",\"910\",\"1010\",\"1110\",\"1210\",\"1310\",\"1410\",\"1510\",\"1610\",\"1710\",\"1810\",\"1910\",\"2010\",\"2110\",\"2210\",\"2310\",\"2410\",\"10\",\"110\",\"210\",\"310\",\"410\",\"510\",\"610\",\"710\",\"810\",\"910\",\"1010\",\"1110\",\"1210\",\"1310\",\"1410\",\"1510\",\"1610\",\"1710\",\"1810\",\"1910\",\"2010\",\"2110\",\"2210\",\"2310\",\"2410\"]},\"selected\":{\"id\":\"22405\"},\"selection_policy\":{\"id\":\"22404\"}},\"id\":\"22341\",\"type\":\"ColumnDataSource\"},{\"attributes\":{\"source\":{\"id\":\"22217\"}},\"id\":\"22222\",\"type\":\"CDSView\"},{\"attributes\":{\"overlay\":{\"id\":\"22303\"}},\"id\":\"22300\",\"type\":\"BoxZoomTool\"},{\"attributes\":{\"fill_alpha\":{\"value\":0.1},\"fill_color\":{\"field\":\"_Value\",\"transform\":{\"id\":\"22160\"}},\"height\":{\"units\":\"data\",\"value\":1},\"line_alpha\":{\"value\":0.1},\"line_color\":{\"value\":null},\"width\":{\"units\":\"data\",\"value\":1},\"x\":{\"field\":\"n2\"},\"y\":{\"field\":\"n_enter\"}},\"id\":\"22282\",\"type\":\"Rect\"},{\"attributes\":{\"overlay\":{\"id\":\"22272\"}},\"id\":\"22269\",\"type\":\"BoxZoomTool\"},{\"attributes\":{\"callback\":null,\"tooltips\":[[\"n2\",\"@n2\"],[\"n_enter\",\"@n_enter\"],[\"Value\",\"@_Value{0.[000]}\"]]},\"id\":\"22273\",\"type\":\"HoverTool\"},{\"attributes\":{},\"id\":\"22301\",\"type\":\"ResetTool\"},{\"attributes\":{\"source\":{\"id\":\"22186\"}},\"id\":\"22191\",\"type\":\"CDSView\"},{\"attributes\":{},\"id\":\"22302\",\"type\":\"SaveTool\"},{\"attributes\":{\"active_drag\":\"auto\",\"active_inspect\":\"auto\",\"active_multi\":null,\"active_scroll\":\"auto\",\"active_tap\":\"auto\",\"tools\":[{\"id\":\"22176\"},{\"id\":\"22177\"},{\"id\":\"22178\"},{\"id\":\"22180\"}]},\"id\":\"22181\",\"type\":\"Toolbar\"},{\"attributes\":{\"fill_alpha\":{\"value\":0.1},\"fill_color\":{\"field\":\"_Value\",\"transform\":{\"id\":\"22160\"}},\"height\":{\"units\":\"data\",\"value\":1},\"line_alpha\":{\"value\":0.1},\"line_color\":{\"value\":null},\"width\":{\"units\":\"data\",\"value\":1},\"x\":{\"field\":\"n1\"},\"y\":{\"field\":\"n_enter\"}},\"id\":\"22220\",\"type\":\"Rect\"},{\"attributes\":{},\"id\":\"22370\",\"type\":\"CategoricalTickFormatter\"},{\"attributes\":{},\"id\":\"22240\",\"type\":\"SaveTool\"},{\"attributes\":{\"axis\":{\"id\":\"22294\"},\"grid_line_color\":null,\"ticker\":null},\"id\":\"22296\",\"type\":\"Grid\"},{\"attributes\":{},\"id\":\"22298\",\"type\":\"CategoricalTicker\"},{\"attributes\":{},\"id\":\"22228\",\"type\":\"CategoricalScale\"},{\"attributes\":{\"data_source\":{\"id\":\"22186\"},\"glyph\":{\"id\":\"22188\"},\"hover_glyph\":null,\"muted_glyph\":null,\"nonselection_glyph\":{\"id\":\"22189\"},\"selection_glyph\":null,\"view\":{\"id\":\"22191\"}},\"id\":\"22190\",\"type\":\"GlyphRenderer\"},{\"attributes\":{\"data\":{\"_Value\":{\"__ndarray__\":\"U4xfqjgelkB2p7JN+UegQDXQ4H6BNKhAWY6wl/l+skC+7iweLdC3QCtyrZLvirdAE+CVGwtxt0CGrJCnBwG7QH5YI3wh/LxANKBYGAG6wEAWQKF2bEzCQAAAAAAAAPh/AAAAAAAA+H8AAAAAAAD4f+VXcXl9mMFA+xttiaikwUCdzNeUWa3BQBXRZ13es8FAyGK7TvC4wUAAAAAAAAD4fwAAAAAAAPh/AAAAAAAA+H8AAAAAAAD4fwAAAAAAAPh/AAAAAAAA+H8AAAAAAAD4fwAAAAAAAPh/AAAAAAAA+H8AAAAAAAD4fwAAAAAAAPh/AAAAAAAA+H8AAAAAAAD4fwAAAAAAAPh/AAAAAAAA+H8AAAAAAAD4fwAAAAAAAPh/AAAAAAAA+H8AAAAAAAD4fwAAAAAAAPh/AAAAAAAA+H8AAAAAAAD4fwAAAAAAAPh/IkAHe0WKkkDBDfgV5ficQP9CbaVFUKVAMj5qYSWIsEDIBp+MC+G1QCxyrZLvirdAECShazt1tkCFrJCnBwG7QH9YI3wh/LxANKBYGAG6wEAYQKF2bEzCQAAAAAAAAPh/AAAAAAAA+H8AAAAAAAD4f+RXcXl9mMFA+httiaikwUCczNeUWa3BQBXRZ13es8FAyGK7TvC4wUAAAAAAAAD4fwAAAAAAAPh/AAAAAAAA+H8AAAAAAAD4fwAAAAAAAPh/AAAAAAAA+H8AAAAAAAD4fwAAAAAAAPh/AAAAAAAA+H8AAAAAAAD4fwAAAAAAAPh/AAAAAAAA+H8AAAAAAAD4fwAAAAAAAPh/AAAAAAAA+H8AAAAAAAD4fwAAAAAAAPh/AAAAAAAA+H8AAAAAAAD4fwAAAAAAAPh/AAAAAAAA+H8AAAAAAAD4fwAAAAAAAPh/AAAAAAAA+H8AAAAAAAD4fwAAAAAAAPh/AAAAAAAA+H8AAAAAAAD4fwAAAAAAAPh/AAAAAAAA+H+QXJD7CviPQMgDqrZtaJpA2+TKachio0AvvHZ62nGuQHfBlSv1lrRALHKtku+Kt0A8as72P+S1QIWskKcHAbtAgFgjfCH8vEA1oFgYAbrAQBlAoXZsTMJAAAAAAAAA+H8AAAAAAAD4fwAAAAAAAPh/5VdxeX2YwUD6G22JqKTBQJzM15RZrcFAFdFnXd6zwUDHYrtO8LjBQAAAAAAAAPh/AAAAAAAA+H8AAAAAAAD4fwAAAAAAAPh/AAAAAAAA+H8AAAAAAAD4fwAAAAAAAPh/AAAAAAAA+H8AAAAAAAD4fwAAAAAAAPh/AAAAAAAA+H8AAAAAAAD4fwAAAAAAAPh/AAAAAAAA+H8AAAAAAAD4fwAAAAAAAPh/AAAAAAAA+H8AAAAAAAD4fwAAAAAAAPh/AAAAAAAA+H8AAAAAAAD4fwAAAAAAAPh/AAAAAAAA+H8AAAAAAAD4fwAAAAAAAPh/AAAAAAAA+H8AAAAAAAD4fwAAAAAAAPh/AAAAAAAA+H8AAAAAAAD4f5BckPsK+I9AyAOqtm1omkDb5MppyGKjQC+8dnraca5Ad8GVK/WWtEAscq2S74q3QDxqzvY/5LVAhayQpwcBu0CAWCN8Ify8QDWgWBgBusBAGUChdmxMwkAAAAAAAAD4fwAAAAAAAPh/AAAAAAAA+H/lV3F5fZjBQPobbYmopMFAnMzXlFmtwUAV0Wdd3rPBQMdiu07wuMFAAAAAAAAA+H8AAAAAAAD4fwAAAAAAAPh/AAAAAAAA+H8AAAAAAAD4fwAAAAAAAPh/AAAAAAAA+H8AAAAAAAD4fwAAAAAAAPh/AAAAAAAA+H8AAAAAAAD4fwAAAAAAAPh/AAAAAAAA+H8AAAAAAAD4fwAAAAAAAPh/AAAAAAAA+H8AAAAAAAD4fwAAAAAAAPh/AAAAAAAA+H8AAAAAAAD4fwAAAAAAAPh/AAAAAAAA+H8AAAAAAAD4fwAAAAAAAPh/AAAAAAAA+H8AAAAAAAD4fwAAAAAAAPh/AAAAAAAA+H8AAAAAAAD4fwAAAAAAAPh/kFyQ+wr4j0DIA6q2bWiaQNvkymnIYqNAL7x2etpxrkB3wZUr9Za0QCxyrZLvirdAPGrO9j/ktUCFrJCnBwG7QIBYI3wh/LxANaBYGAG6wEAZQKF2bEzCQAAAAAAAAPh/AAAAAAAA+H8AAAAAAAD4f+VXcXl9mMFA+httiaikwUCczNeUWa3BQBXRZ13es8FAx2K7TvC4wUAAAAAAAAD4fwAAAAAAAPh/AAAAAAAA+H8AAAAAAAD4fwAAAAAAAPh/AAAAAAAA+H8AAAAAAAD4fwAAAAAAAPh/AAAAAAAA+H8AAAAAAAD4fwAAAAAAAPh/AAAAAAAA+H8AAAAAAAD4fwAAAAAAAPh/AAAAAAAA+H8AAAAAAAD4fwAAAAAAAPh/AAAAAAAA+H8AAAAAAAD4fwAAAAAAAPh/AAAAAAAA+H8AAAAAAAD4fwAAAAAAAPh/AAAAAAAA+H8AAAAAAAD4fwAAAAAAAPh/AAAAAAAA+H8AAAAAAAD4fwAAAAAAAPh/AAAAAAAA+H8=\",\"dtype\":\"float64\",\"shape\":[238]},\"index\":[0,1,2,3,4,5,6,7,8,9,10,11,12,13,14,15,16,17,18,19,20,21,22,23,24,25,26,27,28,29,30,31,32,33,34,35,36,37,38,39,40,41,42,43,44,45,46,47,48,49,50,51,52,53,54,55,56,57,58,59,60,61,62,63,64,65,66,67,68,69,70,71,72,73,74,75,76,77,78,79,80,81,82,83,84,85,86,87,88,89,90,91,92,93,94,95,96,97,98,99,100,101,102,103,104,105,106,107,108,109,110,111,112,113,114,115,116,117,118,119,120,121,122,123,124,125,126,127,128,129,130,131,132,133,134,135,136,137,138,139,140,141,142,143,144,145,146,147,148,149,150,151,152,153,154,155,156,157,158,159,160,161,162,163,164,165,166,167,168,169,170,171,172,173,174,175,176,177,178,179,180,181,182,183,184,185,186,187,188,189,190,191,192,193,194,195,196,197,198,199,200,201,202,203,204,205,206,207,208,209,210,211,212,213,214,215,216,217,218,219,220,221,222,223,224,225,226,227,228,229,230,231,232,233,234,235,236,237],\"n2\":[\"5000\",\"5000\",\"5000\",\"5000\",\"5000\",\"5000\",\"5000\",\"5000\",\"5000\",\"5000\",\"5000\",\"5000\",\"5000\",\"5000\",\"5000\",\"5000\",\"5000\",\"5000\",\"5000\",\"5000\",\"5000\",\"5000\",\"5000\",\"5000\",\"5000\",\"5000\",\"5000\",\"5000\",\"5000\",\"5000\",\"5000\",\"5000\",\"5000\",\"5000\",\"5000\",\"5000\",\"5000\",\"5000\",\"5000\",\"5000\",\"5000\",\"5000\",\"6000\",\"6000\",\"6000\",\"6000\",\"6000\",\"6000\",\"6000\",\"6000\",\"6000\",\"6000\",\"6000\",\"6000\",\"6000\",\"6000\",\"6000\",\"6000\",\"6000\",\"6000\",\"6000\",\"6000\",\"6000\",\"6000\",\"6000\",\"6000\",\"6000\",\"6000\",\"6000\",\"6000\",\"6000\",\"6000\",\"6000\",\"6000\",\"6000\",\"6000\",\"6000\",\"6000\",\"6000\",\"6000\",\"6000\",\"6000\",\"6000\",\"6000\",\"6000\",\"6000\",\"6000\",\"6000\",\"6000\",\"6000\",\"6000\",\"7000\",\"7000\",\"7000\",\"7000\",\"7000\",\"7000\",\"7000\",\"7000\",\"7000\",\"7000\",\"7000\",\"7000\",\"7000\",\"7000\",\"7000\",\"7000\",\"7000\",\"7000\",\"7000\",\"7000\",\"7000\",\"7000\",\"7000\",\"7000\",\"7000\",\"7000\",\"7000\",\"7000\",\"7000\",\"7000\",\"7000\",\"7000\",\"7000\",\"7000\",\"7000\",\"7000\",\"7000\",\"7000\",\"7000\",\"7000\",\"7000\",\"7000\",\"7000\",\"7000\",\"7000\",\"7000\",\"7000\",\"7000\",\"7000\",\"8000\",\"8000\",\"8000\",\"8000\",\"8000\",\"8000\",\"8000\",\"8000\",\"8000\",\"8000\",\"8000\",\"8000\",\"8000\",\"8000\",\"8000\",\"8000\",\"8000\",\"8000\",\"8000\",\"8000\",\"8000\",\"8000\",\"8000\",\"8000\",\"8000\",\"8000\",\"8000\",\"8000\",\"8000\",\"8000\",\"8000\",\"8000\",\"8000\",\"8000\",\"8000\",\"8000\",\"8000\",\"8000\",\"8000\",\"8000\",\"8000\",\"8000\",\"8000\",\"8000\",\"8000\",\"8000\",\"8000\",\"8000\",\"8000\",\"9000\",\"9000\",\"9000\",\"9000\",\"9000\",\"9000\",\"9000\",\"9000\",\"9000\",\"9000\",\"9000\",\"9000\",\"9000\",\"9000\",\"9000\",\"9000\",\"9000\",\"9000\",\"9000\",\"9000\",\"9000\",\"9000\",\"9000\",\"9000\",\"9000\",\"9000\",\"9000\",\"9000\",\"9000\",\"9000\",\"9000\",\"9000\",\"9000\",\"9000\",\"9000\",\"9000\",\"9000\",\"9000\",\"9000\",\"9000\",\"9000\",\"9000\",\"9000\",\"9000\",\"9000\",\"9000\",\"9000\",\"9000\",\"9000\"],\"n_enter\":[\"100\",\"200\",\"300\",\"400\",\"500\",\"600\",\"700\",\"800\",\"900\",\"1000\",\"1100\",\"1200\",\"1300\",\"1400\",\"1500\",\"1600\",\"1700\",\"1800\",\"1900\",\"2000\",\"2100\",\"2200\",\"2300\",\"2400\",\"2500\",\"2600\",\"2700\",\"2800\",\"2900\",\"3000\",\"3100\",\"3200\",\"3300\",\"3400\",\"3500\",\"3600\",\"3700\",\"3800\",\"3900\",\"4000\",\"4100\",\"4200\",\"100\",\"200\",\"300\",\"400\",\"500\",\"600\",\"700\",\"800\",\"900\",\"1000\",\"1100\",\"1200\",\"1300\",\"1400\",\"1500\",\"1600\",\"1700\",\"1800\",\"1900\",\"2000\",\"2100\",\"2200\",\"2300\",\"2400\",\"2500\",\"2600\",\"2700\",\"2800\",\"2900\",\"3000\",\"3100\",\"3200\",\"3300\",\"3400\",\"3500\",\"3600\",\"3700\",\"3800\",\"3900\",\"4000\",\"4100\",\"4200\",\"4300\",\"4400\",\"4500\",\"4600\",\"4700\",\"4800\",\"4900\",\"100\",\"200\",\"300\",\"400\",\"500\",\"600\",\"700\",\"800\",\"900\",\"1000\",\"1100\",\"1200\",\"1300\",\"1400\",\"1500\",\"1600\",\"1700\",\"1800\",\"1900\",\"2000\",\"2100\",\"2200\",\"2300\",\"2400\",\"2500\",\"2600\",\"2700\",\"2800\",\"2900\",\"3000\",\"3100\",\"3200\",\"3300\",\"3400\",\"3500\",\"3600\",\"3700\",\"3800\",\"3900\",\"4000\",\"4100\",\"4200\",\"4300\",\"4400\",\"4500\",\"4600\",\"4700\",\"4800\",\"4900\",\"100\",\"200\",\"300\",\"400\",\"500\",\"600\",\"700\",\"800\",\"900\",\"1000\",\"1100\",\"1200\",\"1300\",\"1400\",\"1500\",\"1600\",\"1700\",\"1800\",\"1900\",\"2000\",\"2100\",\"2200\",\"2300\",\"2400\",\"2500\",\"2600\",\"2700\",\"2800\",\"2900\",\"3000\",\"3100\",\"3200\",\"3300\",\"3400\",\"3500\",\"3600\",\"3700\",\"3800\",\"3900\",\"4000\",\"4100\",\"4200\",\"4300\",\"4400\",\"4500\",\"4600\",\"4700\",\"4800\",\"4900\",\"100\",\"200\",\"300\",\"400\",\"500\",\"600\",\"700\",\"800\",\"900\",\"1000\",\"1100\",\"1200\",\"1300\",\"1400\",\"1500\",\"1600\",\"1700\",\"1800\",\"1900\",\"2000\",\"2100\",\"2200\",\"2300\",\"2400\",\"2500\",\"2600\",\"2700\",\"2800\",\"2900\",\"3000\",\"3100\",\"3200\",\"3300\",\"3400\",\"3500\",\"3600\",\"3700\",\"3800\",\"3900\",\"4000\",\"4100\",\"4200\",\"4300\",\"4400\",\"4500\",\"4600\",\"4700\",\"4800\",\"4900\"]},\"selected\":{\"id\":\"22385\"},\"selection_policy\":{\"id\":\"22384\"}},\"id\":\"22279\",\"type\":\"ColumnDataSource\"},{\"attributes\":{},\"id\":\"22230\",\"type\":\"CategoricalScale\"},{\"attributes\":{\"bottom_units\":\"screen\",\"fill_alpha\":0.5,\"fill_color\":\"lightgrey\",\"left_units\":\"screen\",\"level\":\"overlay\",\"line_alpha\":1.0,\"line_color\":\"black\",\"line_dash\":[4,4],\"line_width\":2,\"render_mode\":\"css\",\"right_units\":\"screen\",\"top_units\":\"screen\"},\"id\":\"22272\",\"type\":\"BoxAnnotation\"},{\"attributes\":{\"axis_label\":\"n_exit\",\"axis_line_color\":null,\"formatter\":{\"id\":\"22392\"},\"major_label_standoff\":0,\"major_tick_line_color\":null,\"ticker\":{\"id\":\"22298\"}},\"id\":\"22297\",\"type\":\"CategoricalAxis\"},{\"attributes\":{\"factors\":[\"10\",\"110\",\"210\",\"310\",\"410\",\"510\",\"610\",\"710\",\"810\",\"910\",\"1010\",\"1110\",\"1210\",\"1310\",\"1410\",\"1510\",\"1610\",\"1710\",\"1810\",\"1910\",\"2010\",\"2110\",\"2210\",\"2310\",\"2410\"]},\"id\":\"22226\",\"type\":\"FactorRange\"},{\"attributes\":{\"axis\":{\"id\":\"22297\"},\"dimension\":1,\"grid_line_color\":null,\"ticker\":null},\"id\":\"22299\",\"type\":\"Grid\"},{\"attributes\":{},\"id\":\"22239\",\"type\":\"ResetTool\"},{\"attributes\":{\"active_drag\":\"auto\",\"active_inspect\":\"auto\",\"active_multi\":null,\"active_scroll\":\"auto\",\"active_tap\":\"auto\",\"tools\":[{\"id\":\"22269\"},{\"id\":\"22270\"},{\"id\":\"22271\"},{\"id\":\"22273\"}]},\"id\":\"22274\",\"type\":\"Toolbar\"},{\"attributes\":{},\"id\":\"22168\",\"type\":\"CategoricalScale\"},{\"attributes\":{\"bottom_units\":\"screen\",\"fill_alpha\":0.5,\"fill_color\":\"lightgrey\",\"left_units\":\"screen\",\"level\":\"overlay\",\"line_alpha\":1.0,\"line_color\":\"black\",\"line_dash\":[4,4],\"line_width\":2,\"render_mode\":\"css\",\"right_units\":\"screen\",\"top_units\":\"screen\"},\"id\":\"22210\",\"type\":\"BoxAnnotation\"},{\"attributes\":{\"callback\":null,\"tooltips\":[[\"n1\",\"@n1\"],[\"n_exit\",\"@n_exit\"],[\"Value\",\"@_Value{0.[000]}\"]]},\"id\":\"22242\",\"type\":\"HoverTool\"},{\"attributes\":{\"text\":\"\"},\"id\":\"22378\",\"type\":\"Title\"},{\"attributes\":{\"below\":[{\"id\":\"22201\"}],\"center\":[{\"id\":\"22203\"},{\"id\":\"22206\"}],\"left\":[{\"id\":\"22204\"}],\"plot_height\":400,\"plot_width\":400,\"renderers\":[{\"id\":\"22221\"}],\"title\":{\"id\":\"22358\"},\"toolbar\":{\"id\":\"22212\"},\"toolbar_location\":null,\"x_range\":{\"id\":\"22193\"},\"x_scale\":{\"id\":\"22197\"},\"y_range\":{\"id\":\"22195\"},\"y_scale\":{\"id\":\"22199\"}},\"id\":\"22192\",\"subtype\":\"Figure\",\"type\":\"Plot\"},{\"attributes\":{\"callback\":null,\"tooltips\":[[\"n1\",\"@n1\"],[\"n_enter\",\"@n_enter\"],[\"Value\",\"@_Value{0.[000]}\"]]},\"id\":\"22211\",\"type\":\"HoverTool\"},{\"attributes\":{},\"id\":\"22295\",\"type\":\"CategoricalTicker\"},{\"attributes\":{},\"id\":\"22270\",\"type\":\"ResetTool\"},{\"attributes\":{},\"id\":\"22333\",\"type\":\"SaveTool\"}],\"root_ids\":[\"22410\"]},\"title\":\"Bokeh Application\",\"version\":\"2.0.2\"}};\n",
       "  var render_items = [{\"docid\":\"76283888-8416-46cd-a98c-c65312f149de\",\"root_ids\":[\"22410\"],\"roots\":{\"22410\":\"9d429706-b30a-4972-9ce9-7c2d7d4d01ff\"}}];\n",
       "  root.Bokeh.embed.embed_items_notebook(docs_json, render_items);\n",
       "\n",
       "  }\n",
       "  if (root.Bokeh !== undefined) {\n",
       "    embed_document(root);\n",
       "  } else {\n",
       "    var attempts = 0;\n",
       "    var timer = setInterval(function(root) {\n",
       "      if (root.Bokeh !== undefined) {\n",
       "        clearInterval(timer);\n",
       "        embed_document(root);\n",
       "      } else {\n",
       "        attempts++;\n",
       "        if (attempts > 100) {\n",
       "          clearInterval(timer);\n",
       "          console.log(\"Bokeh: ERROR: Unable to run BokehJS code because BokehJS library is missing\");\n",
       "        }\n",
       "      }\n",
       "    }, 10, root)\n",
       "  }\n",
       "})(window);"
      ],
      "application/vnd.bokehjs_exec.v0+json": ""
     },
     "metadata": {
      "application/vnd.bokehjs_exec.v0+json": {
       "id": "22410"
      }
     },
     "output_type": "display_data"
    },
    {
     "data": {
      "text/html": [
       "<div style=\"display: table;\"><div style=\"display: table-row;\"><div style=\"display: table-cell;\"><b title=\"bokeh.models.layouts.Column\">Column</b>(</div><div style=\"display: table-cell;\">id&nbsp;=&nbsp;'22410', <span id=\"22790\" style=\"cursor: pointer;\">&hellip;)</span></div></div><div class=\"22789\" style=\"display: none;\"><div style=\"display: table-cell;\"></div><div style=\"display: table-cell;\">align&nbsp;=&nbsp;'start',</div></div><div class=\"22789\" style=\"display: none;\"><div style=\"display: table-cell;\"></div><div style=\"display: table-cell;\">aspect_ratio&nbsp;=&nbsp;None,</div></div><div class=\"22789\" style=\"display: none;\"><div style=\"display: table-cell;\"></div><div style=\"display: table-cell;\">background&nbsp;=&nbsp;None,</div></div><div class=\"22789\" style=\"display: none;\"><div style=\"display: table-cell;\"></div><div style=\"display: table-cell;\">children&nbsp;=&nbsp;[ToolbarBox(id='22409', ...), GridBox(id='22407', ...)],</div></div><div class=\"22789\" style=\"display: none;\"><div style=\"display: table-cell;\"></div><div style=\"display: table-cell;\">css_classes&nbsp;=&nbsp;[],</div></div><div class=\"22789\" style=\"display: none;\"><div style=\"display: table-cell;\"></div><div style=\"display: table-cell;\">disabled&nbsp;=&nbsp;False,</div></div><div class=\"22789\" style=\"display: none;\"><div style=\"display: table-cell;\"></div><div style=\"display: table-cell;\">height&nbsp;=&nbsp;None,</div></div><div class=\"22789\" style=\"display: none;\"><div style=\"display: table-cell;\"></div><div style=\"display: table-cell;\">height_policy&nbsp;=&nbsp;'auto',</div></div><div class=\"22789\" style=\"display: none;\"><div style=\"display: table-cell;\"></div><div style=\"display: table-cell;\">js_event_callbacks&nbsp;=&nbsp;{},</div></div><div class=\"22789\" style=\"display: none;\"><div style=\"display: table-cell;\"></div><div style=\"display: table-cell;\">js_property_callbacks&nbsp;=&nbsp;{},</div></div><div class=\"22789\" style=\"display: none;\"><div style=\"display: table-cell;\"></div><div style=\"display: table-cell;\">margin&nbsp;=&nbsp;(0, 0, 0, 0),</div></div><div class=\"22789\" style=\"display: none;\"><div style=\"display: table-cell;\"></div><div style=\"display: table-cell;\">max_height&nbsp;=&nbsp;None,</div></div><div class=\"22789\" style=\"display: none;\"><div style=\"display: table-cell;\"></div><div style=\"display: table-cell;\">max_width&nbsp;=&nbsp;None,</div></div><div class=\"22789\" style=\"display: none;\"><div style=\"display: table-cell;\"></div><div style=\"display: table-cell;\">min_height&nbsp;=&nbsp;None,</div></div><div class=\"22789\" style=\"display: none;\"><div style=\"display: table-cell;\"></div><div style=\"display: table-cell;\">min_width&nbsp;=&nbsp;None,</div></div><div class=\"22789\" style=\"display: none;\"><div style=\"display: table-cell;\"></div><div style=\"display: table-cell;\">name&nbsp;=&nbsp;None,</div></div><div class=\"22789\" style=\"display: none;\"><div style=\"display: table-cell;\"></div><div style=\"display: table-cell;\">rows&nbsp;=&nbsp;'auto',</div></div><div class=\"22789\" style=\"display: none;\"><div style=\"display: table-cell;\"></div><div style=\"display: table-cell;\">sizing_mode&nbsp;=&nbsp;None,</div></div><div class=\"22789\" style=\"display: none;\"><div style=\"display: table-cell;\"></div><div style=\"display: table-cell;\">spacing&nbsp;=&nbsp;0,</div></div><div class=\"22789\" style=\"display: none;\"><div style=\"display: table-cell;\"></div><div style=\"display: table-cell;\">subscribed_events&nbsp;=&nbsp;[],</div></div><div class=\"22789\" style=\"display: none;\"><div style=\"display: table-cell;\"></div><div style=\"display: table-cell;\">tags&nbsp;=&nbsp;[],</div></div><div class=\"22789\" style=\"display: none;\"><div style=\"display: table-cell;\"></div><div style=\"display: table-cell;\">visible&nbsp;=&nbsp;True,</div></div><div class=\"22789\" style=\"display: none;\"><div style=\"display: table-cell;\"></div><div style=\"display: table-cell;\">width&nbsp;=&nbsp;None,</div></div><div class=\"22789\" style=\"display: none;\"><div style=\"display: table-cell;\"></div><div style=\"display: table-cell;\">width_policy&nbsp;=&nbsp;'auto')</div></div></div>\n",
       "<script>\n",
       "(function() {\n",
       "  var expanded = false;\n",
       "  var ellipsis = document.getElementById(\"22790\");\n",
       "  ellipsis.addEventListener(\"click\", function() {\n",
       "    var rows = document.getElementsByClassName(\"22789\");\n",
       "    for (var i = 0; i < rows.length; i++) {\n",
       "      var el = rows[i];\n",
       "      el.style.display = expanded ? \"none\" : \"table-row\";\n",
       "    }\n",
       "    ellipsis.innerHTML = expanded ? \"&hellip;)\" : \"&lsaquo;&lsaquo;&lsaquo;\";\n",
       "    expanded = !expanded;\n",
       "  });\n",
       "})();\n",
       "</script>\n"
      ],
      "text/plain": [
       "Column(id='22410', ...)"
      ]
     },
     "execution_count": 500,
     "metadata": {},
     "output_type": "execute_result"
    }
   ],
   "source": [
    "from backtesting.lib import plot_heatmaps\n",
    "plot_heatmaps(heatmap, agg='mean')"
   ]
  },
  {
   "cell_type": "code",
   "execution_count": 585,
   "metadata": {},
   "outputs": [
    {
     "data": {
      "text/plain": [
       "<matplotlib.axes._subplots.AxesSubplot at 0x12c4b0590>"
      ]
     },
     "execution_count": 585,
     "metadata": {},
     "output_type": "execute_result"
    },
    {
     "data": {
      "image/png": "[encoded data removed]",
      "text/plain": [
       "<Figure size 432x288 with 2 Axes>"
      ]
     },
     "metadata": {
      "needs_background": "light"
     },
     "output_type": "display_data"
    }
   ],
   "source": [
    "import seaborn as sns\n",
    "hm = heatmap.groupby(['n1', 'n2']).mean().unstack()\n",
    "sns.heatmap(hm[::-1], cmap='viridis')"
   ]
  },
  {
   "cell_type": "code",
   "execution_count": 595,
   "metadata": {},
   "outputs": [
    {
     "data": {
      "text/html": [
       "<div>\n",
       "<style scoped>\n",
       "    .dataframe tbody tr th:only-of-type {\n",
       "        vertical-align: middle;\n",
       "    }\n",
       "\n",
       "    .dataframe tbody tr th {\n",
       "        vertical-align: top;\n",
       "    }\n",
       "\n",
       "    .dataframe thead th {\n",
       "        text-align: right;\n",
       "    }\n",
       "</style>\n",
       "<table border=\"1\" class=\"dataframe\">\n",
       "  <thead>\n",
       "    <tr style=\"text-align: right;\">\n",
       "      <th></th>\n",
       "      <th>Open</th>\n",
       "      <th>High</th>\n",
       "      <th>Low</th>\n",
       "      <th>Close</th>\n",
       "    </tr>\n",
       "    <tr>\n",
       "      <th>open_time</th>\n",
       "      <th></th>\n",
       "      <th></th>\n",
       "      <th></th>\n",
       "      <th></th>\n",
       "    </tr>\n",
       "  </thead>\n",
       "  <tbody>\n",
       "    <tr>\n",
       "      <th>2020-04-21</th>\n",
       "      <td>6828.98</td>\n",
       "      <td>6940.00</td>\n",
       "      <td>6762.00</td>\n",
       "      <td>6841.37</td>\n",
       "    </tr>\n",
       "    <tr>\n",
       "      <th>2020-04-22</th>\n",
       "      <td>6841.36</td>\n",
       "      <td>7156.38</td>\n",
       "      <td>6818.00</td>\n",
       "      <td>7125.14</td>\n",
       "    </tr>\n",
       "    <tr>\n",
       "      <th>2020-04-23</th>\n",
       "      <td>7125.12</td>\n",
       "      <td>7738.00</td>\n",
       "      <td>7020.00</td>\n",
       "      <td>7482.39</td>\n",
       "    </tr>\n",
       "    <tr>\n",
       "      <th>2020-04-24</th>\n",
       "      <td>7483.96</td>\n",
       "      <td>7615.96</td>\n",
       "      <td>7388.00</td>\n",
       "      <td>7505.00</td>\n",
       "    </tr>\n",
       "    <tr>\n",
       "      <th>2020-04-25</th>\n",
       "      <td>7505.00</td>\n",
       "      <td>7705.00</td>\n",
       "      <td>7431.07</td>\n",
       "      <td>7538.67</td>\n",
       "    </tr>\n",
       "  </tbody>\n",
       "</table>\n",
       "</div>"
      ],
      "text/plain": [
       "               Open     High      Low    Close\n",
       "open_time                                     \n",
       "2020-04-21  6828.98  6940.00  6762.00  6841.37\n",
       "2020-04-22  6841.36  7156.38  6818.00  7125.14\n",
       "2020-04-23  7125.12  7738.00  7020.00  7482.39\n",
       "2020-04-24  7483.96  7615.96  7388.00  7505.00\n",
       "2020-04-25  7505.00  7705.00  7431.07  7538.67"
      ]
     },
     "execution_count": 595,
     "metadata": {},
     "output_type": "execute_result"
    }
   ],
   "source": [
    "btcusd1d.tail()"
   ]
  },
  {
   "cell_type": "code",
   "execution_count": null,
   "metadata": {},
   "outputs": [],
   "source": []
  }
 ],
 "metadata": {
  "kernelspec": {
   "display_name": "Python 3",
   "language": "python",
   "name": "python3"
  },
  "language_info": {
   "codemirror_mode": {
    "name": "ipython",
    "version": 3
   },
   "file_extension": ".py",
   "mimetype": "text/x-python",
   "name": "python",
   "nbconvert_exporter": "python",
   "pygments_lexer": "ipython3",
   "version": "3.7.4"
  }
 },
 "nbformat": 4,
 "nbformat_minor": 4
}
