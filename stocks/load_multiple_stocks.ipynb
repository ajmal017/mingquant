{
 "cells": [
  {
   "cell_type": "code",
   "execution_count": 1,
   "metadata": {},
   "outputs": [
    {
     "name": "stderr",
     "output_type": "stream",
     "text": [
      "/opt/anaconda3/lib/python3.7/site-packages/pandas_datareader/compat/__init__.py:7: FutureWarning: pandas.util.testing is deprecated. Use the functions in the public API at pandas.testing instead.\n",
      "  from pandas.util.testing import assert_frame_equal\n"
     ]
    }
   ],
   "source": [
    "#!/usr/python\n",
    "import pandas as pd\n",
    "import os\n",
    "import pandas_datareader.data as web\n",
    "import pandas_datareader as pdr\n",
    "from datetime import datetime\n",
    "import matplotlib\n",
    "import yfinance as yf\n",
    "from datetime import timedelta\n",
    "import numpy as np\n",
    "yf.pdr_override()\n",
    "ntickers = pd.read_csv(\"nasdaq_ticker_info.txt\", sep=\"\\t\")\n",
    "top_tickers = pd.read_csv(\"nasdaq_volume_leaders.csv\")\n",
    "midcap_tickers = pd.read_csv(\"mid_cap_volume_leaders.csv\")\n",
    "largecap_tickers = pd.read_csv(\"large_cap_volume_leaders.csv\")\n",
    "allsymbols = [i for i in set([x for x in largecap_tickers.Symbol] + [y for y in top_tickers.Symbol])]"
   ]
  },
  {
   "cell_type": "code",
   "execution_count": 4,
   "metadata": {},
   "outputs": [
    {
     "name": "stdout",
     "output_type": "stream",
     "text": [
      "[*********************100%***********************]  4 of 4 completed\n"
     ]
    },
    {
     "data": {
      "text/html": [
       "<div>\n",
       "<style scoped>\n",
       "    .dataframe tbody tr th:only-of-type {\n",
       "        vertical-align: middle;\n",
       "    }\n",
       "\n",
       "    .dataframe tbody tr th {\n",
       "        vertical-align: top;\n",
       "    }\n",
       "\n",
       "    .dataframe thead th {\n",
       "        text-align: right;\n",
       "    }\n",
       "</style>\n",
       "<table border=\"1\" class=\"dataframe\">\n",
       "  <thead>\n",
       "    <tr style=\"text-align: right;\">\n",
       "      <th></th>\n",
       "      <th>CLVS</th>\n",
       "      <th>KMI</th>\n",
       "      <th>MRVL</th>\n",
       "      <th>VLO</th>\n",
       "    </tr>\n",
       "    <tr>\n",
       "      <th>Date</th>\n",
       "      <th></th>\n",
       "      <th></th>\n",
       "      <th></th>\n",
       "      <th></th>\n",
       "    </tr>\n",
       "  </thead>\n",
       "  <tbody>\n",
       "    <tr>\n",
       "      <th>2017-01-03</th>\n",
       "      <td>42.950001</td>\n",
       "      <td>21.610001</td>\n",
       "      <td>14.05</td>\n",
       "      <td>70.419998</td>\n",
       "    </tr>\n",
       "    <tr>\n",
       "      <th>2017-01-04</th>\n",
       "      <td>44.669998</td>\n",
       "      <td>21.719999</td>\n",
       "      <td>14.24</td>\n",
       "      <td>67.889999</td>\n",
       "    </tr>\n",
       "    <tr>\n",
       "      <th>2017-01-05</th>\n",
       "      <td>46.330002</td>\n",
       "      <td>21.690001</td>\n",
       "      <td>14.04</td>\n",
       "      <td>67.680000</td>\n",
       "    </tr>\n",
       "    <tr>\n",
       "      <th>2017-01-06</th>\n",
       "      <td>46.029999</td>\n",
       "      <td>21.809999</td>\n",
       "      <td>14.18</td>\n",
       "      <td>66.660004</td>\n",
       "    </tr>\n",
       "    <tr>\n",
       "      <th>2017-01-09</th>\n",
       "      <td>50.860001</td>\n",
       "      <td>21.639999</td>\n",
       "      <td>14.37</td>\n",
       "      <td>66.370003</td>\n",
       "    </tr>\n",
       "  </tbody>\n",
       "</table>\n",
       "</div>"
      ],
      "text/plain": [
       "                 CLVS        KMI   MRVL        VLO\n",
       "Date                                              \n",
       "2017-01-03  42.950001  21.610001  14.05  70.419998\n",
       "2017-01-04  44.669998  21.719999  14.24  67.889999\n",
       "2017-01-05  46.330002  21.690001  14.04  67.680000\n",
       "2017-01-06  46.029999  21.809999  14.18  66.660004\n",
       "2017-01-09  50.860001  21.639999  14.37  66.370003"
      ]
     },
     "execution_count": 4,
     "metadata": {},
     "output_type": "execute_result"
    }
   ],
   "source": [
    "data = yf.download(allsymbols[:4], start=\"2017-01-01\", end=\"2017-04-30\")['Close']"
   ]
  },
  {
   "cell_type": "code",
   "execution_count": null,
   "metadata": {},
   "outputs": [],
   "source": []
  }
 ],
 "metadata": {
  "kernelspec": {
   "display_name": "Python 3",
   "language": "python",
   "name": "python3"
  },
  "language_info": {
   "codemirror_mode": {
    "name": "ipython",
    "version": 3
   },
   "file_extension": ".py",
   "mimetype": "text/x-python",
   "name": "python",
   "nbconvert_exporter": "python",
   "pygments_lexer": "ipython3",
   "version": "3.7.4"
  }
 },
 "nbformat": 4,
 "nbformat_minor": 4
}
