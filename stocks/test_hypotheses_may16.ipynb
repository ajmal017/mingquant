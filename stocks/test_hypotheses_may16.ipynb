{
 "cells": [
  {
   "cell_type": "code",
   "execution_count": 4,
   "metadata": {},
   "outputs": [],
   "source": [
    "import pandas as pd\n",
    "import os\n",
    "import pandas_datareader.data as web\n",
    "import pandas_datareader as pdr\n",
    "from datetime import datetime\n",
    "import matplotlib\n",
    "import yfinance as yf\n",
    "%matplotlib inline\n",
    "matplotlib.style.use('ggplot') \n",
    "\n",
    "alpha_key = \"EOMRLIZT4PTBH80M\"\n",
    "\n",
    "ntickers = pd.read_csv(\"nasdaq_ticker_info.txt\", sep=\"\\t\")"
   ]
  },
  {
   "cell_type": "markdown",
   "metadata": {},
   "source": [
    "# Hypothesis 1\n",
    "\n",
    "### Firm Ratings actually influence future price"
   ]
  },
  {
   "cell_type": "code",
   "execution_count": 11,
   "metadata": {},
   "outputs": [
    {
     "data": {
      "text/html": [
       "<div>\n",
       "<style scoped>\n",
       "    .dataframe tbody tr th:only-of-type {\n",
       "        vertical-align: middle;\n",
       "    }\n",
       "\n",
       "    .dataframe tbody tr th {\n",
       "        vertical-align: top;\n",
       "    }\n",
       "\n",
       "    .dataframe thead th {\n",
       "        text-align: right;\n",
       "    }\n",
       "</style>\n",
       "<table border=\"1\" class=\"dataframe\">\n",
       "  <thead>\n",
       "    <tr style=\"text-align: right;\">\n",
       "      <th></th>\n",
       "      <th>Firm</th>\n",
       "      <th>To Grade</th>\n",
       "      <th>From Grade</th>\n",
       "      <th>Action</th>\n",
       "    </tr>\n",
       "    <tr>\n",
       "      <th>Date</th>\n",
       "      <th></th>\n",
       "      <th></th>\n",
       "      <th></th>\n",
       "      <th></th>\n",
       "    </tr>\n",
       "  </thead>\n",
       "  <tbody>\n",
       "    <tr>\n",
       "      <th>2012-03-16</th>\n",
       "      <td>Argus Research</td>\n",
       "      <td>Buy</td>\n",
       "      <td></td>\n",
       "      <td>up</td>\n",
       "    </tr>\n",
       "    <tr>\n",
       "      <th>2012-03-19</th>\n",
       "      <td>Hilliard Lyons</td>\n",
       "      <td>Long-Term Buy</td>\n",
       "      <td></td>\n",
       "      <td>main</td>\n",
       "    </tr>\n",
       "    <tr>\n",
       "      <th>2012-03-22</th>\n",
       "      <td>Morgan Stanley</td>\n",
       "      <td>Overweight</td>\n",
       "      <td></td>\n",
       "      <td>main</td>\n",
       "    </tr>\n",
       "    <tr>\n",
       "      <th>2012-04-03</th>\n",
       "      <td>UBS</td>\n",
       "      <td>Buy</td>\n",
       "      <td></td>\n",
       "      <td>main</td>\n",
       "    </tr>\n",
       "    <tr>\n",
       "      <th>2012-04-20</th>\n",
       "      <td>UBS</td>\n",
       "      <td>Buy</td>\n",
       "      <td></td>\n",
       "      <td>main</td>\n",
       "    </tr>\n",
       "  </tbody>\n",
       "</table>\n",
       "</div>"
      ],
      "text/plain": [
       "                      Firm       To Grade From Grade Action\n",
       "Date                                                       \n",
       "2012-03-16  Argus Research            Buy                up\n",
       "2012-03-19  Hilliard Lyons  Long-Term Buy              main\n",
       "2012-03-22  Morgan Stanley     Overweight              main\n",
       "2012-04-03             UBS            Buy              main\n",
       "2012-04-20             UBS            Buy              main"
      ]
     },
     "execution_count": 11,
     "metadata": {},
     "output_type": "execute_result"
    }
   ],
   "source": [
    "tickerSymbol = 'MSFT'\n",
    "\n",
    "#get data on this ticker\n",
    "tickerData = yf.Ticker(tickerSymbol)\n",
    "recs = tickerData.recommendations\n",
    "recs.head()"
   ]
  },
  {
   "cell_type": "code",
   "execution_count": 18,
   "metadata": {},
   "outputs": [
    {
     "name": "stdout",
     "output_type": "stream",
     "text": [
      "Actions: \n",
      "4\n",
      "['up' 'main' 'init' 'down']\n",
      "From Grades: \n",
      "16\n",
      "['' 'Outperform' 'Hold' 'Buy' 'Overweight' 'Long-term Buy' 'Neutral'\n",
      " 'Equal-Weight' 'Equal-weight' 'Market Perform' 'Underperform'\n",
      " 'Sector Perform' 'Sell' 'Long-Term Buy' 'Underweight' 'Strong Buy']\n",
      "To Grades: \n",
      "14\n",
      "['Buy' 'Long-Term Buy' 'Overweight' 'Neutral' 'Hold' 'Sector Perform'\n",
      " 'Equal-Weight' '' 'Market Perform' 'Sell' 'Outperform' 'Underperform'\n",
      " 'Underweight' 'Strong Buy']\n",
      "Firms: \n",
      "53\n",
      "['Argus Research' 'Hilliard Lyons' 'Morgan Stanley' 'UBS' 'Bank oferica'\n",
      " 'Goldman Sachs' 'Deutsche Bank' 'McAdams Wright Ragen'\n",
      " 'Griffin Securities' 'Longbow Research' 'Jefferies' 'RBC Capital'\n",
      " 'Barclays' 'Nomura' 'MKM Partners' 'Standpoint Research' 'BMO Capital'\n",
      " 'SunTrust Robinson Humphrey' 'Argus' 'Bank of America' 'BGC Financial'\n",
      " 'Credit Agricole' 'Stifel Nicolaus' 'Cowen & Co.' 'Atlantic Equities'\n",
      " 'Evercore Partners' 'Citigroup' 'Credit Suisse' 'Sterne Agee'\n",
      " 'B. Riley FBR' 'FBR Capital' 'JP Morgan' 'Oppenheimer'\n",
      " 'Summit Research Partners' 'Pacific Crest' 'FBN Securities'\n",
      " 'PiperJaffray' 'Wells Fargo' 'KeyBanc' 'Wunderlich' 'Raymond James'\n",
      " 'Macquarie' 'Canaccord Genuity' 'William Blair' 'Tigress Financial'\n",
      " 'Cleveland Research' 'Moffett Nathanson' 'Wedbush' 'Mizuho' 'Stifel'\n",
      " 'Citi' 'Piper Sandler' 'CFRA']\n"
     ]
    }
   ],
   "source": [
    "actions = recs['Action'].drop_duplicates().values\n",
    "print(\"Actions: \")\n",
    "print(len(actions))\n",
    "print(actions)\n",
    "print(\"From Grades: \")\n",
    "fromgrades = recs['From Grade'].drop_duplicates().values\n",
    "print(len(fromgrades))\n",
    "print(fromgrades)\n",
    "print(\"To Grades: \")\n",
    "togrades = recs['To Grade'].drop_duplicates().values\n",
    "print(len(togrades))\n",
    "print(togrades)\n",
    "print(\"Firms: \")\n",
    "firms = recs['Firm'].drop_duplicates().values\n",
    "print(len(firms))\n",
    "print(firms)"
   ]
  },
  {
   "cell_type": "markdown",
   "metadata": {},
   "source": [
    "---"
   ]
  },
  {
   "cell_type": "markdown",
   "metadata": {},
   "source": [
    "# Hypothesis 2\n",
    "\n",
    "### ___________"
   ]
  },
  {
   "cell_type": "code",
   "execution_count": null,
   "metadata": {},
   "outputs": [],
   "source": []
  }
 ],
 "metadata": {
  "kernelspec": {
   "display_name": "Python 3",
   "language": "python",
   "name": "python3"
  },
  "language_info": {
   "codemirror_mode": {
    "name": "ipython",
    "version": 3
   },
   "file_extension": ".py",
   "mimetype": "text/x-python",
   "name": "python",
   "nbconvert_exporter": "python",
   "pygments_lexer": "ipython3",
   "version": "3.7.4"
  }
 },
 "nbformat": 4,
 "nbformat_minor": 4
}
