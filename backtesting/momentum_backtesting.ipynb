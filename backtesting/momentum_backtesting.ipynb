{
 "cells": [
  {
   "cell_type": "markdown",
   "metadata": {},
   "source": [
    "https://kernc.github.io/backtesting.py/doc/examples/Strategies%20Library.html\n",
    "https://kernc.github.io/backtesting.py/doc/examples/Quick%20Start%20User%20Guide.html"
   ]
  },
  {
   "cell_type": "code",
   "execution_count": 101,
   "metadata": {},
   "outputs": [],
   "source": [
    "import pandas as pd\n",
    "import os\n",
    "\n",
    "# import backtesting and yfinance\n",
    "\n",
    "from backtesting import Backtest, Strategy\n",
    "from backtesting.lib import crossover\n",
    "from backtesting.test import SMA\n",
    "import yfinance as yf\n",
    "\n",
    "# define backtesting strategy...simple SMA crossover\n",
    "# see https://kernc.github.io/backtesting.py/doc/examples/Quick%20Start%20User%20Guide.html\n",
    "\n",
    "# more strategies avalable!!!\n",
    "# https://kernc.github.io/backtesting.py/doc/examples/Strategies%20Library.html\n",
    "\n",
    "class SmaCross(Strategy):\n",
    "    n1 = 10\n",
    "    n2 = 20\n",
    "\n",
    "    def init(self):\n",
    "        self.sma1 = self.I(SMA, self.data.Close, self.n1)\n",
    "        self.sma2 = self.I(SMA, self.data.Close, self.n2)\n",
    "\n",
    "    def next(self):\n",
    "        if crossover(self.sma1, self.sma2):\n",
    "            self.buy()\n",
    "        elif crossover(self.sma2, self.sma1):\n",
    "            self.sell()\n",
    "            \n",
    "            \n",
    "# generate dataset compatible with backtesting strategy\n",
    "\n",
    "def get_data(tickerSymbol, startdate='2010-1-1', enddate='2020-7-7'):\n",
    "    # tickerSymbol = \"NVTA\"\n",
    "    tickerData = yf.Ticker(tickerSymbol)\n",
    "    tdf = tickerData.history(start=startdate, end=enddate).drop(['Dividends', 'Stock Splits'], axis=1)\n",
    "    tdf.index.name = None\n",
    "    return tdf\n",
    "\n",
    "# run the backtest and plot the results\n",
    "\n",
    "def backtest_results(ticker, start, end):\n",
    "    tdf = get_data(ticker,startdate=start, enddate=end)\n",
    "    bt = Backtest(tdf, SmaCross, cash=10000, commission=.002)\n",
    "    output = bt.run()\n",
    "    print(output)\n",
    "    bt.plot()\n",
    "    return output"
   ]
  },
  {
   "cell_type": "code",
   "execution_count": null,
   "metadata": {},
   "outputs": [],
   "source": []
  },
  {
   "cell_type": "markdown",
   "metadata": {},
   "source": [
    "## Get some of the top 'momentum' opportunitues\n",
    "\n",
    "#### `xdays = days since the 50 sma crossed the 250 sma`\n",
    "\n",
    "> should probably change these windows to be smaller\n",
    "\n",
    "#### rev_spread is `(high revenue - low revenue)/average revenue` from yfinance data\n"
   ]
  },
  {
   "cell_type": "code",
   "execution_count": 66,
   "metadata": {},
   "outputs": [
    {
     "data": {
      "text/html": [
       "<div>\n",
       "<style scoped>\n",
       "    .dataframe tbody tr th:only-of-type {\n",
       "        vertical-align: middle;\n",
       "    }\n",
       "\n",
       "    .dataframe tbody tr th {\n",
       "        vertical-align: top;\n",
       "    }\n",
       "\n",
       "    .dataframe thead th {\n",
       "        text-align: right;\n",
       "    }\n",
       "</style>\n",
       "<table border=\"1\" class=\"dataframe\">\n",
       "  <thead>\n",
       "    <tr style=\"text-align: right;\">\n",
       "      <th></th>\n",
       "      <th>stock</th>\n",
       "      <th>xdays</th>\n",
       "      <th>rev_spread</th>\n",
       "    </tr>\n",
       "  </thead>\n",
       "  <tbody>\n",
       "    <tr>\n",
       "      <th>190</th>\n",
       "      <td>UBER</td>\n",
       "      <td>4</td>\n",
       "      <td>0.624138</td>\n",
       "    </tr>\n",
       "    <tr>\n",
       "      <th>108</th>\n",
       "      <td>FND</td>\n",
       "      <td>18</td>\n",
       "      <td>0.347752</td>\n",
       "    </tr>\n",
       "    <tr>\n",
       "      <th>167</th>\n",
       "      <td>RAMP</td>\n",
       "      <td>4</td>\n",
       "      <td>0.188826</td>\n",
       "    </tr>\n",
       "    <tr>\n",
       "      <th>115</th>\n",
       "      <td>AMCR</td>\n",
       "      <td>6</td>\n",
       "      <td>0.139171</td>\n",
       "    </tr>\n",
       "    <tr>\n",
       "      <th>27</th>\n",
       "      <td>SFIX</td>\n",
       "      <td>4</td>\n",
       "      <td>0.117945</td>\n",
       "    </tr>\n",
       "  </tbody>\n",
       "</table>\n",
       "</div>"
      ],
      "text/plain": [
       "    stock  xdays  rev_spread\n",
       "190  UBER      4    0.624138\n",
       "108   FND     18    0.347752\n",
       "167  RAMP      4    0.188826\n",
       "115  AMCR      6    0.139171\n",
       "27   SFIX      4    0.117945"
      ]
     },
     "execution_count": 66,
     "metadata": {},
     "output_type": "execute_result"
    }
   ],
   "source": [
    "momentum_stats = \"/Users/mingay/coding/aws_mingquant/stocks/momentum_stats.txt\"\n",
    "momdf = pd.read_csv(momentum_stats, sep=\"\\t\")\n",
    "momdf.columns = ['stock', 'xdays', 'rev_spread']\n",
    "subdf = momdf[(momdf['xdays'] > 0) & (momdf['xdays'] < 20)].sort_values('rev_spread', ascending=False)\n",
    "subdf.head()"
   ]
  },
  {
   "cell_type": "code",
   "execution_count": 102,
   "metadata": {},
   "outputs": [
    {
     "name": "stdout",
     "output_type": "stream",
     "text": [
      "['UBER', 'FND', 'RAMP', 'AMCR', 'SFIX', 'NVTA', 'ORCL', 'UPWK', 'KDP', 'PANW', 'PS']\n"
     ]
    }
   ],
   "source": [
    "print([i for i in subdf.stock])"
   ]
  },
  {
   "cell_type": "code",
   "execution_count": 103,
   "metadata": {},
   "outputs": [
    {
     "name": "stdout",
     "output_type": "stream",
     "text": [
      "Start                     2020-03-02 00:00:00\n",
      "End                       2020-07-06 00:00:00\n",
      "Duration                    126 days 00:00:00\n",
      "Exposure [%]                          69.0476\n",
      "Equity Final [$]                      10898.5\n",
      "Equity Peak [$]                       10898.5\n",
      "Return [%]                            8.98523\n",
      "Buy & Hold Return [%]                 11.7252\n",
      "Max. Drawdown [%]                      -10.54\n",
      "Avg. Drawdown [%]                    -3.91348\n",
      "Max. Drawdown Duration       76 days 00:00:00\n",
      "Avg. Drawdown Duration       19 days 00:00:00\n",
      "# Trades                                    6\n",
      "Win Rate [%]                          66.6667\n",
      "Best Trade [%]                        2.67154\n",
      "Worst Trade [%]                      -2.03176\n",
      "Avg. Trade [%]                       0.837528\n",
      "Max. Trade Duration          35 days 00:00:00\n",
      "Avg. Trade Duration          15 days 00:00:00\n",
      "Expectancy [%]                        1.64764\n",
      "SQN                                   1.09118\n",
      "Sharpe Ratio                         0.459377\n",
      "Sortino Ratio                        0.725232\n",
      "Calmar Ratio                        0.0794617\n",
      "_strategy                            SmaCross\n",
      "dtype: object\n"
     ]
    },
    {
     "data": {
      "text/html": [
       "\n",
       "\n",
       "\n",
       "\n",
       "\n",
       "\n",
       "  <div class=\"bk-root\" id=\"a7c3cfb2-e15c-4518-a251-fa075d991d4c\" data-root-id=\"26309\"></div>\n"
      ]
     },
     "metadata": {},
     "output_type": "display_data"
    },
    {
     "data": {
      "application/javascript": [
       "(function(root) {\n",
       "  function embed_document(root) {\n",
       "    \n",
       "  var docs_json = {\"102c8680-1d33-4e05-8184-ae0c690f7ac5\":{\"roots\":{\"references\":[{\"attributes\":{\"children\":[{\"id\":\"26306\"},{\"id\":\"26308\"}],\"sizing_mode\":\"stretch_width\"},\"id\":\"26309\",\"type\":\"Row\"},{\"attributes\":{\"text\":\"\"},\"id\":\"26199\",\"type\":\"Title\"},{\"attributes\":{\"overlay\":{\"id\":\"25975\"}},\"id\":\"25969\",\"type\":\"BoxZoomTool\"},{\"attributes\":{\"fill_alpha\":{\"value\":0.1},\"fill_color\":{\"value\":\"blue\"},\"line_alpha\":{\"value\":0.1},\"line_color\":{\"value\":\"blue\"},\"size\":{\"units\":\"screen\",\"value\":8},\"x\":{\"value\":87},\"y\":{\"value\":1.0898522668487785}},\"id\":\"26019\",\"type\":\"Scatter\"},{\"attributes\":{},\"id\":\"26137\",\"type\":\"BasicTicker\"},{\"attributes\":{},\"id\":\"26130\",\"type\":\"DataRange1d\"},{\"attributes\":{\"data\":{\"equity_dd\":{\"__ndarray__\":\"AAAAAAAA8D8AAAAAAADwPwAAAAAAAPA/AAAAAAAA8D8AAAAAAADwPwAAAAAAAPA/AAAAAAAA8D8AAAAAAADwPwAAAAAAAPA/AAAAAAAA8D8AAAAAAADwPwAAAAAAAPA/AAAAAAAA8D8AAAAAAADwPwAAAAAAAPA/AAAAAAAA8D8AAAAAAADwPwAAAAAAAPA/AAAAAAAA8D8AAAAAAADwPwAAAAAAAPA/AFUK0/Ew7j+xC9tAAW7uP+0SfWuLG+8/bVc0o+Dc7j+2H1wSjRXwP3jgfljNte8/QPP8nkBc8D+o75msnLDwPy29rXa9n/A/xbTSKX7y8D/Y6iFSAa/wP6hsytxj2vA/z0lbHk4k8T8in7YSQ+vwPyIuxCFfGvA/6BRFGIBn8D/KzDzLZU/wP8rGnSv0ovA/VB0OiOC/8D939BEHOLLwP+yXAgva6PA/Lb2tdr2f8D+FoQSd70DwP+eXFOi4PfA/FgCxb71o8D8W5FB++XfwP8MNGMyjPPA/J8Bj9bnd7z/jpn4WJOTvP44Fp5QZV/A/xYE3FdCI8D+pz8+LyCPwP9FyrEf7IvA/cht/KIoQ8D9AxMEAR4rvP0v6EpCq4O8/h+9U9MN37z9FX2rIeLXvP9eGhQzlZPA/Y1x9RJBE8D/Ws+xuhAbwP85CM3T+EfA/GytkpVe37z+d8P/WAdnvP1TnK0wk+e8/ZDQ4MDWX7z8qPsmuDyLwP7x6PufAd/A/H1InC10x8D9W/p/3ASzwP9HN9dSNq+4/lzv7ULf/7j85hLChatTvP3FhG6K7UPA/iMQhSrDL7j+fB3SC3wvwP+A09SMyQvA/iEmuo0h58D+lYBWJAofwP184JFFHwPA/ND3vBWi58D8EdU53K7HwP49EohDq3vA//eTVUCMH8T+lnV9EfRjxP0I6nBP7O/E/OWQ57ghw8T85ZDnuCHDxP0I6nBP7O/E/z0lbHk4k8T/PSVseTiTxP89JWx5OJPE/z0lbHk4k8T/PSVseTiTxP89JWx5OJPE/z0lbHk4k8T/PSVseTiTxP89JWx5OJPE/z0lbHk4k8T/PSVseTiTxP89JWx5OJPE/z0lbHk4k8T/PSVseTiTxP89JWx5OJPE/z0lbHk4k8T/PSVseTiTxP89JWx5OJPE/z0lbHk4k8T/PSVseTiTxP89JWx5OJPE/z0lbHk4k8T/PSVseTiTxP89JWx5OJPE/z0lbHk4k8T/PSVseTiTxP89JWx5OJPE/z0lbHk4k8T/PSVseTiTxP89JWx5OJPE/z0lbHk4k8T/PSVseTiTxP89JWx5OJPE/z0lbHk4k8T/PSVseTiTxP89JWx5OJPE/z0lbHk4k8T/PSVseTiTxP89JWx5OJPE/z0lbHk4k8T/PSVseTiTxP89JWx5OJPE/z0lbHk4k8T/PSVseTiTxP89JWx5OJPE/z0lbHk4k8T/PSVseTiTxP89JWx5OJPE/z0lbHk4k8T/PSVseTiTxP89JWx5OJPE/z0lbHk4k8T/PSVseTiTxP8W00il+8vA/xbTSKX7y8D/FtNIpfvLwP6jvmaycsPA/qO+ZrJyw8D9A8/yeQFzwP7YfXBKNFfA/th9cEo0V8D8AAAAAAADwPwAAAAAAAPA/AAAAAAAA8D8AAAAAAADwPwAAAAAAAPA/AAAAAAAA8D8AAAAAAADwPwAAAAAAAPA/AAAAAAAA8D8AAAAAAADwPwAAAAAAAPA/AAAAAAAA8D8AAAAAAADwPwAAAAAAAPA/AAAAAAAA8D8AAAAAAADwPwAAAAAAAPA/AAAAAAAA8D8AAAAAAADwPwAAAAAAAPA/AAAAAAAA8D8AAAAAAADwPwAAAAAAAPA/AAAAAAAA8D8AAAAAAADwPw==\",\"dtype\":\"float64\",\"shape\":[176]},\"index\":[0,1,2,3,4,5,6,7,8,9,10,11,12,13,14,15,16,17,18,19,20,21,22,23,24,25,26,27,28,29,30,31,32,33,34,35,36,37,38,39,40,41,42,43,44,45,46,47,48,49,50,51,52,53,54,55,56,57,58,59,60,61,62,63,64,65,66,67,68,69,70,71,72,73,74,75,76,77,78,79,80,81,82,83,84,85,86,87,87,86,85,84,83,82,81,80,79,78,77,76,75,74,73,72,71,70,69,68,67,66,65,64,63,62,61,60,59,58,57,56,55,54,53,52,51,50,49,48,47,46,45,44,43,42,41,40,39,38,37,36,35,34,33,32,31,30,29,28,27,26,25,24,23,22,21,20,19,18,17,16,15,14,13,12,11,10,9,8,7,6,5,4,3,2,1,0]},\"selected\":{\"id\":\"26012\"},\"selection_policy\":{\"id\":\"26011\"}},\"id\":\"25985\",\"type\":\"ColumnDataSource\"},{\"attributes\":{\"formatter\":{\"id\":\"25949\"},\"ticker\":{\"id\":\"26137\"},\"visible\":true},\"id\":\"26136\",\"type\":\"LinearAxis\"},{\"attributes\":{\"data_source\":{\"id\":\"26017\"},\"glyph\":{\"id\":\"26018\"},\"hover_glyph\":null,\"muted_glyph\":null,\"nonselection_glyph\":{\"id\":\"26019\"},\"selection_glyph\":null,\"view\":{\"id\":\"26021\"}},\"id\":\"26020\",\"type\":\"GlyphRenderer\"},{\"attributes\":{\"callback\":null,\"formatters\":{\"@datetime\":\"datetime\"},\"mode\":\"vline\",\"point_policy\":\"follow_mouse\",\"renderers\":[{\"id\":\"26166\"}],\"tooltips\":[[\"Date\",\"@datetime{%c}\"],[\"Volume\",\"@Volume{0.00 a}\"]]},\"id\":\"26168\",\"type\":\"HoverTool\"},{\"attributes\":{},\"id\":\"25971\",\"type\":\"RedoTool\"},{\"attributes\":{\"fill_alpha\":{\"value\":0.1},\"fill_color\":{\"field\":\"returns_pos\",\"transform\":{\"id\":\"25946\"}},\"line_alpha\":{\"value\":0.1},\"marker\":{\"value\":\"triangle\"},\"size\":{\"units\":\"screen\",\"value\":13},\"x\":{\"field\":\"index\"},\"y\":{\"field\":\"returns_long\"}},\"id\":\"26114\",\"type\":\"Scatter\"},{\"attributes\":{},\"id\":\"26032\",\"type\":\"UnionRenderers\"},{\"attributes\":{\"formatter\":{\"id\":\"25949\"},\"ticker\":{\"id\":\"25918\"},\"visible\":false},\"id\":\"25917\",\"type\":\"LinearAxis\"},{\"attributes\":{},\"id\":\"26202\",\"type\":\"BasicTickFormatter\"},{\"attributes\":{},\"id\":\"25918\",\"type\":\"BasicTicker\"},{\"attributes\":{\"line_alpha\":{\"value\":0.1},\"line_color\":{\"value\":\"#bbbbbb\"},\"x0\":{\"field\":\"index\"},\"x1\":{\"field\":\"index\"},\"y0\":{\"field\":\"High\"},\"y1\":{\"field\":\"Low\"}},\"id\":\"26175\",\"type\":\"Segment\"},{\"attributes\":{\"data_source\":{\"id\":\"25985\"},\"glyph\":{\"id\":\"25987\"},\"hover_glyph\":null,\"muted_glyph\":null,\"nonselection_glyph\":{\"id\":\"25988\"},\"selection_glyph\":null,\"view\":{\"id\":\"25990\"}},\"id\":\"25989\",\"type\":\"GlyphRenderer\"},{\"attributes\":{\"logo\":null,\"toolbars\":[{\"id\":\"25976\"},{\"id\":\"26102\"},{\"id\":\"25934\"},{\"id\":\"26153\"}],\"tools\":[{\"id\":\"25967\"},{\"id\":\"25968\"},{\"id\":\"25969\"},{\"id\":\"25970\"},{\"id\":\"25971\"},{\"id\":\"25972\"},{\"id\":\"25973\"},{\"id\":\"25974\"},{\"id\":\"25996\"},{\"id\":\"26093\"},{\"id\":\"26094\"},{\"id\":\"26095\"},{\"id\":\"26096\"},{\"id\":\"26097\"},{\"id\":\"26098\"},{\"id\":\"26099\"},{\"id\":\"26100\"},{\"id\":\"26122\"},{\"id\":\"26124\"},{\"id\":\"25925\"},{\"id\":\"25926\"},{\"id\":\"25927\"},{\"id\":\"25928\"},{\"id\":\"25929\"},{\"id\":\"25930\"},{\"id\":\"25931\"},{\"id\":\"25932\"},{\"id\":\"26247\"},{\"id\":\"26144\"},{\"id\":\"26145\"},{\"id\":\"26146\"},{\"id\":\"26147\"},{\"id\":\"26148\"},{\"id\":\"26149\"},{\"id\":\"26150\"},{\"id\":\"26151\"},{\"id\":\"26168\"}]},\"id\":\"26307\",\"type\":\"ProxyToolbar\"},{\"attributes\":{\"axis\":{\"id\":\"26136\"},\"ticker\":null},\"id\":\"26139\",\"type\":\"Grid\"},{\"attributes\":{\"dimensions\":\"width\",\"maintain_focus\":false},\"id\":\"25968\",\"type\":\"WheelZoomTool\"},{\"attributes\":{\"overlay\":{\"id\":\"26152\"}},\"id\":\"26146\",\"type\":\"BoxZoomTool\"},{\"attributes\":{\"data\":{},\"selected\":{\"id\":\"26075\"},\"selection_policy\":{\"id\":\"26074\"}},\"id\":\"26035\",\"type\":\"ColumnDataSource\"},{\"attributes\":{\"line_color\":\"red\",\"line_width\":2,\"x\":{\"field\":\"x\"},\"y\":{\"value\":1.0713635621838085}},\"id\":\"26056\",\"type\":\"Line\"},{\"attributes\":{\"bottom_units\":\"screen\",\"fill_alpha\":0.5,\"fill_color\":\"lightgrey\",\"left_units\":\"screen\",\"level\":\"overlay\",\"line_alpha\":1.0,\"line_color\":\"black\",\"line_dash\":[4,4],\"line_width\":2,\"render_mode\":\"css\",\"right_units\":\"screen\",\"top_units\":\"screen\"},\"id\":\"26101\",\"type\":\"BoxAnnotation\"},{\"attributes\":{\"axis\":{\"id\":\"26085\"},\"ticker\":null},\"id\":\"26088\",\"type\":\"Grid\"},{\"attributes\":{\"data_source\":{\"id\":\"25943\"},\"glyph\":{\"id\":\"26230\"},\"hover_glyph\":null,\"muted_glyph\":null,\"nonselection_glyph\":{\"id\":\"26231\"},\"selection_glyph\":null,\"view\":{\"id\":\"26233\"}},\"id\":\"26232\",\"type\":\"GlyphRenderer\"},{\"attributes\":{},\"id\":\"25960\",\"type\":\"BasicTicker\"},{\"attributes\":{\"dimensions\":\"width\"},\"id\":\"25967\",\"type\":\"PanTool\"},{\"attributes\":{\"callback\":null,\"formatters\":{\"@datetime\":\"datetime\"},\"point_policy\":\"follow_mouse\",\"renderers\":[{\"id\":\"26120\"}],\"tooltips\":[[\"Date\",\"@datetime{%c}\"],[\"P/L\",\"@returns_short{+0.[000]%}\"]]},\"id\":\"26124\",\"type\":\"HoverTool\"},{\"attributes\":{\"source\":{\"id\":\"26172\"}},\"id\":\"26177\",\"type\":\"CDSView\"},{\"attributes\":{\"line_alpha\":0.1,\"line_color\":\"#ff7f0e\",\"line_width\":1.3,\"x\":{\"field\":\"index\"},\"y\":{\"field\":\"SMA(C,20)_1_1\"}},\"id\":\"26231\",\"type\":\"Line\"},{\"attributes\":{},\"id\":\"26141\",\"type\":\"BasicTicker\"},{\"attributes\":{},\"id\":\"26134\",\"type\":\"LinearScale\"},{\"attributes\":{\"line_color\":\"#1f77b4\",\"line_width\":1.5,\"x\":{\"field\":\"index\"},\"y\":{\"field\":\"equity\"}},\"id\":\"25992\",\"type\":\"Line\"},{\"attributes\":{},\"id\":\"26132\",\"type\":\"LinearScale\"},{\"attributes\":{\"fill_alpha\":{\"value\":0.1},\"fill_color\":{\"value\":\"red\"},\"line_alpha\":{\"value\":0.1},\"line_color\":{\"value\":\"red\"},\"size\":{\"units\":\"screen\",\"value\":8},\"x\":{\"value\":71},\"y\":{\"value\":0.9584416541460375}},\"id\":\"26037\",\"type\":\"Scatter\"},{\"attributes\":{},\"id\":\"26033\",\"type\":\"Selection\"},{\"attributes\":{\"data\":{},\"selected\":{\"id\":\"26053\"},\"selection_policy\":{\"id\":\"26052\"}},\"id\":\"26017\",\"type\":\"ColumnDataSource\"},{\"attributes\":{\"source\":{\"id\":\"25943\"}},\"id\":\"26233\",\"type\":\"CDSView\"},{\"attributes\":{\"axis\":{\"id\":\"26140\"},\"dimension\":1,\"ticker\":null},\"id\":\"26143\",\"type\":\"Grid\"},{\"attributes\":{\"dimensions\":\"width\"},\"id\":\"26144\",\"type\":\"PanTool\"},{\"attributes\":{},\"id\":\"25964\",\"type\":\"BasicTicker\"},{\"attributes\":{\"factors\":[\"0\",\"1\"],\"palette\":[\"rgb(255, 220, 214)\",\"rgb(214, 255, 214)\"]},\"id\":\"26178\",\"type\":\"CategoricalColorMapper\"},{\"attributes\":{\"axis_label\":\"Equity\",\"formatter\":{\"id\":\"25998\"},\"minor_tick_line_color\":null,\"ticker\":{\"id\":\"25964\"}},\"id\":\"25963\",\"type\":\"LinearAxis\"},{\"attributes\":{\"label\":{\"value\":\"SMA(C,20)\"},\"renderers\":[{\"id\":\"26232\"}]},\"id\":\"26246\",\"type\":\"LegendItem\"},{\"attributes\":{\"toolbar\":{\"id\":\"26307\"}},\"id\":\"26308\",\"type\":\"ToolbarBox\"},{\"attributes\":{\"active_drag\":{\"id\":\"26093\"},\"active_inspect\":\"auto\",\"active_multi\":null,\"active_scroll\":{\"id\":\"26094\"},\"active_tap\":\"auto\",\"tools\":[{\"id\":\"26093\"},{\"id\":\"26094\"},{\"id\":\"26095\"},{\"id\":\"26096\"},{\"id\":\"26097\"},{\"id\":\"26098\"},{\"id\":\"26099\"},{\"id\":\"26100\"},{\"id\":\"26122\"},{\"id\":\"26124\"}]},\"id\":\"26102\",\"type\":\"Toolbar\"},{\"attributes\":{\"bottom\":{\"field\":\"Close\"},\"fill_color\":{\"field\":\"inc\",\"transform\":{\"id\":\"26178\"}},\"line_color\":{\"value\":null},\"top\":{\"field\":\"Open\"},\"width\":{\"field\":\"_width\"},\"x\":{\"field\":\"index\"}},\"id\":\"26180\",\"type\":\"VBar\"},{\"attributes\":{\"bottom\":{\"field\":\"Close\"},\"fill_alpha\":{\"value\":0.1},\"fill_color\":{\"field\":\"inc\",\"transform\":{\"id\":\"26178\"}},\"line_alpha\":{\"value\":0.1},\"line_color\":{\"value\":null},\"top\":{\"field\":\"Open\"},\"width\":{\"field\":\"_width\"},\"x\":{\"field\":\"index\"}},\"id\":\"26181\",\"type\":\"VBar\"},{\"attributes\":{},\"id\":\"26270\",\"type\":\"UnionRenderers\"},{\"attributes\":{\"axis_label\":\"Volume\",\"formatter\":{\"id\":\"26170\"},\"minor_tick_line_color\":null,\"ticker\":{\"id\":\"26141\"}},\"id\":\"26140\",\"type\":\"LinearAxis\"},{\"attributes\":{\"data_source\":{\"id\":\"25943\"},\"glyph\":{\"id\":\"26164\"},\"hover_glyph\":null,\"muted_glyph\":null,\"nonselection_glyph\":{\"id\":\"26165\"},\"selection_glyph\":null,\"view\":{\"id\":\"26167\"}},\"id\":\"26166\",\"type\":\"GlyphRenderer\"},{\"attributes\":{},\"id\":\"26086\",\"type\":\"BasicTicker\"},{\"attributes\":{\"axis\":{\"id\":\"25963\"},\"dimension\":1,\"ticker\":null},\"id\":\"25966\",\"type\":\"Grid\"},{\"attributes\":{},\"id\":\"25915\",\"type\":\"LinearScale\"},{\"attributes\":{\"border_line_color\":\"#333333\",\"items\":[{\"id\":\"26210\"},{\"id\":\"26228\"},{\"id\":\"26246\"}],\"label_text_font_size\":\"8pt\",\"location\":\"top_left\",\"margin\":0,\"padding\":5,\"spacing\":0},\"id\":\"26209\",\"type\":\"Legend\"},{\"attributes\":{\"source\":{\"id\":\"25943\"}},\"id\":\"26167\",\"type\":\"CDSView\"},{\"attributes\":{},\"id\":\"26081\",\"type\":\"LinearScale\"},{\"attributes\":{},\"id\":\"25913\",\"type\":\"LinearScale\"},{\"attributes\":{\"data_source\":{\"id\":\"26172\"},\"glyph\":{\"id\":\"26180\"},\"hover_glyph\":null,\"muted_glyph\":null,\"nonselection_glyph\":{\"id\":\"26181\"},\"selection_glyph\":null,\"view\":{\"id\":\"26183\"}},\"id\":\"26182\",\"type\":\"GlyphRenderer\"},{\"attributes\":{\"days\":[\"%d %b\",\"%a %d\"],\"months\":[\"%m/%Y\",\"%b'%y\"]},\"id\":\"25948\",\"type\":\"DatetimeTickFormatter\"},{\"attributes\":{\"line_color\":\"#666666\",\"line_dash\":[6],\"location\":0},\"id\":\"26111\",\"type\":\"Span\"},{\"attributes\":{\"data_source\":{\"id\":\"25943\"},\"glyph\":{\"id\":\"26185\"},\"hover_glyph\":null,\"muted_glyph\":null,\"nonselection_glyph\":{\"id\":\"26186\"},\"selection_glyph\":null,\"view\":{\"id\":\"26188\"}},\"id\":\"26187\",\"type\":\"GlyphRenderer\"},{\"attributes\":{},\"id\":\"26100\",\"type\":\"SaveTool\"},{\"attributes\":{\"callback\":null,\"formatters\":{\"@datetime\":\"datetime\"},\"point_policy\":\"follow_mouse\",\"renderers\":[{\"id\":\"26115\"}],\"tooltips\":[[\"Date\",\"@datetime{%c}\"],[\"P/L\",\"@returns_long{+0.[000]%}\"]]},\"id\":\"26122\",\"type\":\"HoverTool\"},{\"attributes\":{\"text\":\"\"},\"id\":\"26273\",\"type\":\"Title\"},{\"attributes\":{\"source\":{\"id\":\"25944\"}},\"id\":\"26116\",\"type\":\"CDSView\"},{\"attributes\":{\"source\":{\"id\":\"26172\"}},\"id\":\"26183\",\"type\":\"CDSView\"},{\"attributes\":{},\"id\":\"26271\",\"type\":\"Selection\"},{\"attributes\":{},\"id\":\"26098\",\"type\":\"ResetTool\"},{\"attributes\":{\"source\":{\"id\":\"25943\"}},\"id\":\"25995\",\"type\":\"CDSView\"},{\"attributes\":{\"formatter\":{\"id\":\"26277\"},\"ticker\":{\"id\":\"26086\"},\"visible\":false},\"id\":\"26085\",\"type\":\"LinearAxis\"},{\"attributes\":{\"format\":\"0.[00]%\"},\"id\":\"26126\",\"type\":\"NumeralTickFormatter\"},{\"attributes\":{},\"id\":\"26277\",\"type\":\"BasicTickFormatter\"},{\"attributes\":{\"source\":{\"id\":\"25944\"}},\"id\":\"26198\",\"type\":\"CDSView\"},{\"attributes\":{\"source\":{\"id\":\"25985\"}},\"id\":\"25990\",\"type\":\"CDSView\"},{\"attributes\":{\"dimensions\":\"width\",\"maintain_focus\":false},\"id\":\"26094\",\"type\":\"WheelZoomTool\"},{\"attributes\":{\"bottom\":{\"field\":\"Close\"},\"fill_color\":{\"field\":\"inc\",\"transform\":{\"id\":\"25945\"}},\"top\":{\"field\":\"Open\"},\"width\":{\"value\":0.8},\"x\":{\"field\":\"index\"}},\"id\":\"26190\",\"type\":\"VBar\"},{\"attributes\":{},\"id\":\"25957\",\"type\":\"LinearScale\"},{\"attributes\":{\"data_source\":{\"id\":\"25944\"},\"glyph\":{\"id\":\"26113\"},\"hover_glyph\":null,\"muted_glyph\":null,\"nonselection_glyph\":{\"id\":\"26114\"},\"selection_glyph\":null,\"view\":{\"id\":\"26116\"}},\"id\":\"26115\",\"type\":\"GlyphRenderer\"},{\"attributes\":{\"text\":\"\"},\"id\":\"26297\",\"type\":\"Title\"},{\"attributes\":{\"format\":\"0,0.[00]%\"},\"id\":\"25998\",\"type\":\"NumeralTickFormatter\"},{\"attributes\":{\"args\":{\"axis\":{\"id\":\"25917\"},\"formatter\":{\"id\":\"25948\"},\"source\":{\"id\":\"25943\"}},\"code\":\"\\nthis.labels = this.labels || formatter.doFormat(ticks\\n                                                .map(i => source.data.datetime[i])\\n                                                .filter(t => t !== undefined));\\nreturn this.labels[index] || \\\"\\\";\\n        \"},\"id\":\"25949\",\"type\":\"FuncTickFormatter\"},{\"attributes\":{\"line_alpha\":{\"value\":0.1},\"x0\":{\"field\":\"index\"},\"x1\":{\"field\":\"index\"},\"y0\":{\"field\":\"High\"},\"y1\":{\"field\":\"Low\"}},\"id\":\"26186\",\"type\":\"Segment\"},{\"attributes\":{\"label\":{\"value\":\"Max Dd Dur. (76 days)\"},\"renderers\":[{\"id\":\"26058\"}]},\"id\":\"26076\",\"type\":\"LegendItem\"},{\"attributes\":{\"formatter\":{\"id\":\"26009\"},\"ticker\":{\"id\":\"25960\"},\"visible\":false},\"id\":\"25959\",\"type\":\"LinearAxis\"},{\"attributes\":{\"axis\":{\"id\":\"26089\"},\"dimension\":1,\"ticker\":null},\"id\":\"26092\",\"type\":\"Grid\"},{\"attributes\":{},\"id\":\"26075\",\"type\":\"Selection\"},{\"attributes\":{},\"id\":\"26079\",\"type\":\"DataRange1d\"},{\"attributes\":{\"data\":{\"Close\":{\"__ndarray__\":\"MzMzMzOTR0CamZmZmdlHQNejcD0Kt0ZA7FG4HoXLSED2KFyPwpVIQNejcD0Kl0pAj8L1KFxPS0DhehSuR4FKQIXrUbge5UlAKVyPwvXISkD2KFyPwnVKQI/C9ShcT0pAw/UoXI/iSkA9CtejcP1KQK5H4XoU7klAMzMzMzMzS0DXo3A9ChdLQLgehetR+EtAzczMzMxMTEA=\",\"dtype\":\"float64\",\"shape\":[19]},\"High\":{\"__ndarray__\":\"7FG4HoXLSUDXo3A9CldIQB+F61G43kdArkfhehSuSUDNzMzMzKxJQI/C9Shcz0pAXI/C9ShcS0AK16NwPUpLQKRwPQrXI0tApHA9CtfjSkAfhetRuP5KQJqZmZmZ+UpAMzMzMzMTS0DD9ShcjyJLQI/C9Shcj0tAAAAAAACAS0Bcj8L1KPxLQNejcD0KN0xACtejcD1qTEA=\",\"dtype\":\"float64\",\"shape\":[19]},\"Low\":{\"__ndarray__\":\"H4XrUbgeR0DD9Shcj8JDQEjhehSuh0RA16NwPQrXRUApXI/C9ehGQK5H4XoUDklAMzMzMzMzSkCPwvUoXI9JQEjhehSup0lAzczMzMyMSUCuR+F6FG5JQArXo3A9CkpAKVyPwvVISkBxPQrXo1BKQD0K16NwfUlAFK5H4Xp0SUCF61G4HsVKQM3MzMzM7EpAFK5H4XoUTEA=\",\"dtype\":\"float64\",\"shape\":[19]},\"Open\":{\"__ndarray__\":\"H4XrUbi+SEAfhetRuF5GQEjhehSuJ0VAhetRuB5lRkAUrkfhehRJQBSuR+F6FElAmpmZmZlZSkBmZmZmZgZLQK5H4XoUrkpAexSuR+HaSUBxPQrXo5BKQBSuR+F69EpAMzMzMzPTSkCkcD0K16NKQM3MzMzMrEpAexSuR+F6SUDsUbgehQtLQD0K16NwHUtAmpmZmZkZTEA=\",\"dtype\":\"float64\",\"shape\":[19]},\"Volume\":[94397100,129619400,129139500,110456400,84129000,59140700,62474600,53874100,47048200,37176200,79861400,43498600,44629400,47214300,52151600,116403800,87666400,66588500,15309700],\"_width\":{\"__ndarray__\":\"mpmZmZmZE0CamZmZmZkTQJqZmZmZmRNAmpmZmZmZE0CamZmZmZkTQDMzMzMzMw9AmpmZmZmZE0CamZmZmZkTQJqZmZmZmRNAmpmZmZmZE0CamZmZmZkTQJqZmZmZmRNAMzMzMzMzD0CamZmZmZkTQJqZmZmZmRNAmpmZmZmZE0CamZmZmZkTQDMzMzMzMw9AzczMzMzM7D8=\",\"dtype\":\"float64\",\"shape\":[19]},\"inc\":[\"0\",\"1\",\"1\",\"1\",\"0\",\"1\",\"1\",\"0\",\"0\",\"1\",\"0\",\"0\",\"1\",\"1\",\"0\",\"1\",\"1\",\"1\",\"1\"],\"index\":{\"__ndarray__\":\"AAAAAAAAAEAAAAAAAAAcQAAAAAAAAChAAAAAAAAAMUAAAAAAAAA2QAAAAAAAgDpAAAAAAAAAP0AAAAAAAABCQAAAAAAAgERAAAAAAAAAR0AAAAAAAIBJQAAAAAAAAExAAAAAAABATkAAAAAAAEBQQAAAAAAAgFFAAAAAAADAUkAAAAAAAABUQAAAAAAAIFVAAAAAAADAVUA=\",\"dtype\":\"float64\",\"shape\":[19]}},\"selected\":{\"id\":\"26206\"},\"selection_policy\":{\"id\":\"26205\"}},\"id\":\"26172\",\"type\":\"ColumnDataSource\"},{\"attributes\":{\"source\":{\"id\":\"25943\"}},\"id\":\"26188\",\"type\":\"CDSView\"},{\"attributes\":{},\"id\":\"25955\",\"type\":\"LinearScale\"},{\"attributes\":{\"data_source\":{\"id\":\"26055\"},\"glyph\":{\"id\":\"26056\"},\"hover_glyph\":null,\"muted_glyph\":null,\"nonselection_glyph\":{\"id\":\"26057\"},\"selection_glyph\":null,\"view\":{\"id\":\"26059\"}},\"id\":\"26058\",\"type\":\"GlyphRenderer\"},{\"attributes\":{\"active_drag\":{\"id\":\"26144\"},\"active_inspect\":\"auto\",\"active_multi\":null,\"active_scroll\":{\"id\":\"26145\"},\"active_tap\":\"auto\",\"tools\":[{\"id\":\"26144\"},{\"id\":\"26145\"},{\"id\":\"26146\"},{\"id\":\"26147\"},{\"id\":\"26148\"},{\"id\":\"26149\"},{\"id\":\"26150\"},{\"id\":\"26151\"},{\"id\":\"26168\"}]},\"id\":\"26153\",\"type\":\"Toolbar\"},{\"attributes\":{},\"id\":\"26097\",\"type\":\"RedoTool\"},{\"attributes\":{\"below\":[{\"id\":\"26085\"}],\"center\":[{\"id\":\"26088\"},{\"id\":\"26092\"},{\"id\":\"26111\"}],\"left\":[{\"id\":\"26089\"}],\"min_border_bottom\":6,\"min_border_left\":0,\"min_border_right\":10,\"min_border_top\":3,\"outline_line_color\":\"#666666\",\"plot_height\":90,\"plot_width\":null,\"renderers\":[{\"id\":\"26115\"},{\"id\":\"26120\"}],\"sizing_mode\":\"stretch_width\",\"title\":{\"id\":\"26273\"},\"toolbar\":{\"id\":\"26102\"},\"toolbar_location\":null,\"x_range\":{\"id\":\"25908\"},\"x_scale\":{\"id\":\"26081\"},\"y_range\":{\"id\":\"26079\"},\"y_scale\":{\"id\":\"26083\"}},\"id\":\"26077\",\"subtype\":\"Figure\",\"type\":\"Plot\"},{\"attributes\":{\"data_source\":{\"id\":\"25943\"},\"glyph\":{\"id\":\"26190\"},\"hover_glyph\":null,\"muted_glyph\":null,\"nonselection_glyph\":{\"id\":\"26191\"},\"selection_glyph\":null,\"view\":{\"id\":\"26193\"}},\"id\":\"26192\",\"type\":\"GlyphRenderer\"},{\"attributes\":{\"label\":{\"value\":\"Trades (88)\"},\"renderers\":[{\"id\":\"26197\"}]},\"id\":\"26210\",\"type\":\"LegendItem\"},{\"attributes\":{\"fill_color\":{\"value\":\"red\"},\"line_color\":{\"value\":\"red\"},\"size\":{\"units\":\"screen\",\"value\":8},\"x\":{\"value\":71},\"y\":{\"value\":0.9584416541460375}},\"id\":\"26036\",\"type\":\"Scatter\"},{\"attributes\":{\"data\":{\"x\":[33,85.33292041730255]},\"selected\":{\"id\":\"26271\"},\"selection_policy\":{\"id\":\"26270\"}},\"id\":\"26055\",\"type\":\"ColumnDataSource\"},{\"attributes\":{\"overlay\":{\"id\":\"26101\"}},\"id\":\"26095\",\"type\":\"BoxZoomTool\"},{\"attributes\":{\"axis_label\":\"Profit / Loss\",\"formatter\":{\"id\":\"26126\"},\"minor_tick_line_color\":null,\"ticker\":{\"id\":\"26090\"}},\"id\":\"26089\",\"type\":\"LinearAxis\"},{\"attributes\":{},\"id\":\"26096\",\"type\":\"UndoTool\"},{\"attributes\":{\"bottom\":{\"field\":\"Close\"},\"fill_alpha\":{\"value\":0.1},\"fill_color\":{\"field\":\"inc\",\"transform\":{\"id\":\"25945\"}},\"line_alpha\":{\"value\":0.1},\"top\":{\"field\":\"Open\"},\"width\":{\"value\":0.8},\"x\":{\"field\":\"index\"}},\"id\":\"26191\",\"type\":\"VBar\"},{\"attributes\":{},\"id\":\"25953\",\"type\":\"DataRange1d\"},{\"attributes\":{\"source\":{\"id\":\"26055\"}},\"id\":\"26059\",\"type\":\"CDSView\"},{\"attributes\":{\"data\":{\"datetime\":{\"__ndarray__\":\"AABAHSIed0IAAMCtoyJ3QgAAAHbkJHdCAACAQYkld0IAAACX5y13QgAAQMjeLndC\",\"dtype\":\"float64\",\"shape\":[6]},\"exit_price\":{\"__ndarray__\":\"XI/C9SgcSkDXo3A9CpdKQDMzMzMz00pA4XoUrkfhSkBmZmZmZqZLQM3MzMzMLEtA\",\"dtype\":\"float64\",\"shape\":[6]},\"index\":[45,55,59,61,79,82],\"position_lines_xs\":[[21,45],[45,55],[55,59],[59,61],[61,79],[79,82]],\"position_lines_ys\":[[50.88,52.22],[52.22,53.18],[53.18,53.65],[53.65,53.76],[53.76,55.3],[55.3,54.35]],\"returns_long\":{\"__ndarray__\":\"yqmX22Fcmj8AAAAAAAD4f3FfO5cjdXw/AAAAAAAA+H8Ea/B1SFubPwAAAAAAAPh/\",\"dtype\":\"float64\",\"shape\":[6]},\"returns_pos\":[\"1\",\"0\",\"1\",\"0\",\"1\",\"1\"],\"returns_short\":{\"__ndarray__\":\"AAAAAAAA+H8KhxFBJM6UvwAAAAAAAPh/ReWfZ01TcL8AAAAAAAD4f2TMIJxhBo8/\",\"dtype\":\"float64\",\"shape\":[6]}},\"selected\":{\"id\":\"26227\"},\"selection_policy\":{\"id\":\"26226\"}},\"id\":\"25944\",\"type\":\"ColumnDataSource\"},{\"attributes\":{\"line_alpha\":{\"value\":0.1},\"line_color\":{\"field\":\"returns_pos\",\"transform\":{\"id\":\"25947\"}},\"line_dash\":[2,4],\"line_width\":{\"value\":8},\"xs\":{\"field\":\"position_lines_xs\"},\"ys\":{\"field\":\"position_lines_ys\"}},\"id\":\"26196\",\"type\":\"MultiLine\"},{\"attributes\":{\"data_source\":{\"id\":\"26035\"},\"glyph\":{\"id\":\"26036\"},\"hover_glyph\":null,\"muted_glyph\":null,\"nonselection_glyph\":{\"id\":\"26037\"},\"selection_glyph\":null,\"view\":{\"id\":\"26039\"}},\"id\":\"26038\",\"type\":\"GlyphRenderer\"},{\"attributes\":{\"source\":{\"id\":\"26017\"}},\"id\":\"26021\",\"type\":\"CDSView\"},{\"attributes\":{\"source\":{\"id\":\"25943\"}},\"id\":\"26193\",\"type\":\"CDSView\"},{\"attributes\":{\"fill_alpha\":{\"value\":0.1},\"fill_color\":{\"field\":\"inc\",\"transform\":{\"id\":\"25945\"}},\"line_alpha\":{\"value\":0.1},\"line_color\":{\"field\":\"inc\",\"transform\":{\"id\":\"25945\"}},\"top\":{\"field\":\"Volume\"},\"width\":{\"value\":0.8},\"x\":{\"field\":\"index\"}},\"id\":\"26165\",\"type\":\"VBar\"},{\"attributes\":{\"below\":[{\"id\":\"25959\"}],\"center\":[{\"id\":\"25962\"},{\"id\":\"25966\"},{\"id\":\"26015\"}],\"left\":[{\"id\":\"25963\"}],\"min_border_bottom\":6,\"min_border_left\":0,\"min_border_right\":10,\"min_border_top\":3,\"outline_line_color\":\"#666666\",\"plot_height\":110,\"plot_width\":null,\"renderers\":[{\"id\":\"25989\"},{\"id\":\"25994\"},{\"id\":\"26003\"},{\"id\":\"26020\"},{\"id\":\"26038\"},{\"id\":\"26058\"}],\"sizing_mode\":\"stretch_width\",\"title\":{\"id\":\"26005\"},\"toolbar\":{\"id\":\"25976\"},\"toolbar_location\":null,\"x_range\":{\"id\":\"25908\"},\"x_scale\":{\"id\":\"25955\"},\"y_range\":{\"id\":\"25953\"},\"y_scale\":{\"id\":\"25957\"}},\"id\":\"25951\",\"subtype\":\"Figure\",\"type\":\"Plot\"},{\"attributes\":{\"callback\":null,\"formatters\":{\"@datetime\":\"datetime\"},\"mode\":\"vline\",\"point_policy\":\"follow_mouse\",\"renderers\":[{\"id\":\"26192\"}],\"tooltips\":[[\"Date\",\"@datetime{%c}\"],[\"x, y\",\"$index&nbsp;&nbsp;&nbsp;&nbsp;$y{0,0.0[0000]}\"],[\"OHLC\",\"@Open{0,0.0[0000]}&nbsp;&nbsp;&nbsp;&nbsp;@High{0,0.0[0000]}&nbsp;&nbsp;&nbsp;&nbsp;@Low{0,0.0[0000]}&nbsp;&nbsp;&nbsp;&nbsp;@Close{0,0.0[0000]}\"],[\"Volume\",\"@Volume{0,0}\"],[\"SMA(C,10)\",\"@{SMA(C,10)_0_1}{0,0.0[0000]}\"],[\"SMA(C,20)\",\"@{SMA(C,20)_1_1}{0,0.0[0000]}\"]]},\"id\":\"26247\",\"type\":\"HoverTool\"},{\"attributes\":{\"fill_color\":{\"value\":\"blue\"},\"line_color\":{\"value\":\"blue\"},\"size\":{\"units\":\"screen\",\"value\":8},\"x\":{\"value\":87},\"y\":{\"value\":1.0898522668487785}},\"id\":\"26018\",\"type\":\"Scatter\"},{\"attributes\":{\"data_source\":{\"id\":\"25944\"},\"glyph\":{\"id\":\"26118\"},\"hover_glyph\":null,\"muted_glyph\":null,\"nonselection_glyph\":{\"id\":\"26119\"},\"selection_glyph\":null,\"view\":{\"id\":\"26121\"}},\"id\":\"26120\",\"type\":\"GlyphRenderer\"},{\"attributes\":{\"line_alpha\":0.1,\"line_color\":\"red\",\"line_width\":2,\"x\":{\"field\":\"x\"},\"y\":{\"value\":1.0713635621838085}},\"id\":\"26057\",\"type\":\"Line\"},{\"attributes\":{\"line_color\":\"#ff7f0e\",\"line_width\":1.3,\"x\":{\"field\":\"index\"},\"y\":{\"field\":\"SMA(C,20)_1_1\"}},\"id\":\"26230\",\"type\":\"Line\"},{\"attributes\":{\"line_color\":{\"value\":\"#bbbbbb\"},\"x0\":{\"field\":\"index\"},\"x1\":{\"field\":\"index\"},\"y0\":{\"field\":\"High\"},\"y1\":{\"field\":\"Low\"}},\"id\":\"26174\",\"type\":\"Segment\"},{\"attributes\":{},\"id\":\"26099\",\"type\":\"CrosshairTool\"},{\"attributes\":{\"line_color\":{\"field\":\"returns_pos\",\"transform\":{\"id\":\"25947\"}},\"line_dash\":[2,4],\"line_width\":{\"value\":8},\"xs\":{\"field\":\"position_lines_xs\"},\"ys\":{\"field\":\"position_lines_ys\"}},\"id\":\"26195\",\"type\":\"MultiLine\"},{\"attributes\":{},\"id\":\"26074\",\"type\":\"UnionRenderers\"},{\"attributes\":{},\"id\":\"25972\",\"type\":\"ResetTool\"},{\"attributes\":{\"fill_color\":{\"field\":\"returns_pos\",\"transform\":{\"id\":\"25946\"}},\"marker\":{\"value\":\"inverted_triangle\"},\"size\":{\"units\":\"screen\",\"value\":13},\"x\":{\"field\":\"index\"},\"y\":{\"field\":\"returns_short\"}},\"id\":\"26118\",\"type\":\"Scatter\"},{\"attributes\":{},\"id\":\"25922\",\"type\":\"BasicTicker\"},{\"attributes\":{\"below\":[{\"id\":\"26136\"}],\"center\":[{\"id\":\"26139\"},{\"id\":\"26143\"}],\"left\":[{\"id\":\"26140\"}],\"min_border_bottom\":6,\"min_border_left\":0,\"min_border_right\":10,\"min_border_top\":3,\"outline_line_color\":\"#666666\",\"plot_height\":90,\"plot_width\":null,\"renderers\":[{\"id\":\"26166\"}],\"sizing_mode\":\"stretch_width\",\"title\":{\"id\":\"26297\"},\"toolbar\":{\"id\":\"26153\"},\"toolbar_location\":null,\"x_range\":{\"id\":\"25908\"},\"x_scale\":{\"id\":\"26132\"},\"y_range\":{\"id\":\"26130\"},\"y_scale\":{\"id\":\"26134\"}},\"id\":\"26128\",\"subtype\":\"Figure\",\"type\":\"Plot\"},{\"attributes\":{},\"id\":\"26205\",\"type\":\"UnionRenderers\"},{\"attributes\":{},\"id\":\"26014\",\"type\":\"Selection\"},{\"attributes\":{},\"id\":\"26206\",\"type\":\"Selection\"},{\"attributes\":{},\"id\":\"25970\",\"type\":\"UndoTool\"},{\"attributes\":{\"fill_alpha\":0.1,\"fill_color\":\"#ffffea\",\"line_alpha\":0.1,\"line_color\":\"#ffcb66\",\"x\":{\"field\":\"index\"},\"y\":{\"field\":\"equity_dd\"}},\"id\":\"25988\",\"type\":\"Patch\"},{\"attributes\":{\"axis\":{\"id\":\"25959\"},\"ticker\":null},\"id\":\"25962\",\"type\":\"Grid\"},{\"attributes\":{},\"id\":\"26083\",\"type\":\"LinearScale\"},{\"attributes\":{\"dimensions\":\"width\"},\"id\":\"26093\",\"type\":\"PanTool\"},{\"attributes\":{\"fill_alpha\":{\"value\":0.1},\"fill_color\":{\"field\":\"returns_pos\",\"transform\":{\"id\":\"25946\"}},\"line_alpha\":{\"value\":0.1},\"marker\":{\"value\":\"inverted_triangle\"},\"size\":{\"units\":\"screen\",\"value\":13},\"x\":{\"field\":\"index\"},\"y\":{\"field\":\"returns_short\"}},\"id\":\"26119\",\"type\":\"Scatter\"},{\"attributes\":{},\"id\":\"26090\",\"type\":\"BasicTicker\"},{\"attributes\":{\"bottom_units\":\"screen\",\"fill_alpha\":0.5,\"fill_color\":\"lightgrey\",\"left_units\":\"screen\",\"level\":\"overlay\",\"line_alpha\":1.0,\"line_color\":\"black\",\"line_dash\":[4,4],\"line_width\":2,\"render_mode\":\"css\",\"right_units\":\"screen\",\"top_units\":\"screen\"},\"id\":\"25975\",\"type\":\"BoxAnnotation\"},{\"attributes\":{\"data_source\":{\"id\":\"25944\"},\"glyph\":{\"id\":\"26195\"},\"hover_glyph\":null,\"muted_glyph\":null,\"nonselection_glyph\":{\"id\":\"26196\"},\"selection_glyph\":null,\"view\":{\"id\":\"26198\"}},\"id\":\"26197\",\"type\":\"GlyphRenderer\"},{\"attributes\":{\"dimensions\":\"width\",\"maintain_focus\":false},\"id\":\"26145\",\"type\":\"WheelZoomTool\"},{\"attributes\":{\"source\":{\"id\":\"25944\"}},\"id\":\"26121\",\"type\":\"CDSView\"},{\"attributes\":{\"label\":{\"value\":\"Peak (109%)\"},\"renderers\":[{\"id\":\"26003\"}]},\"id\":\"26016\",\"type\":\"LegendItem\"},{\"attributes\":{\"axis\":{\"id\":\"25917\"},\"ticker\":null},\"id\":\"25920\",\"type\":\"Grid\"},{\"attributes\":{\"fill_color\":\"#ffffea\",\"line_color\":\"#ffcb66\",\"x\":{\"field\":\"index\"},\"y\":{\"field\":\"equity_dd\"}},\"id\":\"25987\",\"type\":\"Patch\"},{\"attributes\":{\"data_source\":{\"id\":\"26172\"},\"glyph\":{\"id\":\"26174\"},\"hover_glyph\":null,\"muted_glyph\":null,\"nonselection_glyph\":{\"id\":\"26175\"},\"selection_glyph\":null,\"view\":{\"id\":\"26177\"}},\"id\":\"26176\",\"type\":\"GlyphRenderer\"},{\"attributes\":{\"bounds\":[-4.35,91.35],\"end\":87,\"js_property_callbacks\":{\"change:end\":[{\"id\":\"26249\"}]}},\"id\":\"25908\",\"type\":\"Range1d\"},{\"attributes\":{\"fill_color\":{\"value\":\"cyan\"},\"line_color\":{\"value\":\"cyan\"},\"size\":{\"units\":\"screen\",\"value\":8},\"x\":{\"value\":87},\"y\":{\"value\":1.0898522668487785}},\"id\":\"26001\",\"type\":\"Scatter\"},{\"attributes\":{\"factors\":[\"0\",\"1\"],\"palette\":[\"tomato\",\"lime\"]},\"id\":\"25946\",\"type\":\"CategoricalColorMapper\"},{\"attributes\":{\"children\":[[{\"id\":\"25951\"},0,0],[{\"id\":\"26077\"},1,0],[{\"id\":\"25909\"},2,0],[{\"id\":\"26128\"},3,0]]},\"id\":\"26306\",\"type\":\"GridBox\"},{\"attributes\":{\"border_line_color\":\"#333333\",\"items\":[{\"id\":\"26016\"},{\"id\":\"26034\"},{\"id\":\"26054\"},{\"id\":\"26076\"}],\"label_text_font_size\":\"8pt\",\"location\":\"top_left\",\"margin\":0,\"padding\":5,\"spacing\":0},\"id\":\"26015\",\"type\":\"Legend\"},{\"attributes\":{\"active_drag\":{\"id\":\"25967\"},\"active_inspect\":\"auto\",\"active_multi\":null,\"active_scroll\":{\"id\":\"25968\"},\"active_tap\":\"auto\",\"tools\":[{\"id\":\"25967\"},{\"id\":\"25968\"},{\"id\":\"25969\"},{\"id\":\"25970\"},{\"id\":\"25971\"},{\"id\":\"25972\"},{\"id\":\"25973\"},{\"id\":\"25974\"},{\"id\":\"25996\"}]},\"id\":\"25976\",\"type\":\"Toolbar\"},{\"attributes\":{\"active_drag\":{\"id\":\"25925\"},\"active_inspect\":\"auto\",\"active_multi\":null,\"active_scroll\":{\"id\":\"25926\"},\"active_tap\":\"auto\",\"tools\":[{\"id\":\"25925\"},{\"id\":\"25926\"},{\"id\":\"25927\"},{\"id\":\"25928\"},{\"id\":\"25929\"},{\"id\":\"25930\"},{\"id\":\"25931\"},{\"id\":\"25932\"},{\"id\":\"26247\"}]},\"id\":\"25934\",\"type\":\"Toolbar\"},{\"attributes\":{\"format\":\"0 a\"},\"id\":\"26170\",\"type\":\"NumeralTickFormatter\"},{\"attributes\":{\"factors\":[\"0\",\"1\"],\"palette\":[\"tomato\",\"lime\"]},\"id\":\"25945\",\"type\":\"CategoricalColorMapper\"},{\"attributes\":{\"x0\":{\"field\":\"index\"},\"x1\":{\"field\":\"index\"},\"y0\":{\"field\":\"High\"},\"y1\":{\"field\":\"Low\"}},\"id\":\"26185\",\"type\":\"Segment\"},{\"attributes\":{\"fill_alpha\":{\"value\":0.1},\"fill_color\":{\"value\":\"cyan\"},\"line_alpha\":{\"value\":0.1},\"line_color\":{\"value\":\"cyan\"},\"size\":{\"units\":\"screen\",\"value\":8},\"x\":{\"value\":87},\"y\":{\"value\":1.0898522668487785}},\"id\":\"26002\",\"type\":\"Scatter\"},{\"attributes\":{\"data_source\":{\"id\":\"26000\"},\"glyph\":{\"id\":\"26001\"},\"hover_glyph\":null,\"muted_glyph\":null,\"nonselection_glyph\":{\"id\":\"26002\"},\"selection_glyph\":null,\"view\":{\"id\":\"26004\"}},\"id\":\"26003\",\"type\":\"GlyphRenderer\"},{\"attributes\":{},\"id\":\"26149\",\"type\":\"ResetTool\"},{\"attributes\":{\"dimensions\":\"width\"},\"id\":\"25925\",\"type\":\"PanTool\"},{\"attributes\":{},\"id\":\"26147\",\"type\":\"UndoTool\"},{\"attributes\":{},\"id\":\"26011\",\"type\":\"UnionRenderers\"},{\"attributes\":{\"factors\":[\"0\",\"1\"],\"palette\":[\"rgb(178, 27, 0)\",\"rgb(0, 178, 0)\"]},\"id\":\"25947\",\"type\":\"CategoricalColorMapper\"},{\"attributes\":{},\"id\":\"26148\",\"type\":\"RedoTool\"},{\"attributes\":{\"fill_color\":{\"field\":\"inc\",\"transform\":{\"id\":\"25945\"}},\"line_color\":{\"field\":\"inc\",\"transform\":{\"id\":\"25945\"}},\"top\":{\"field\":\"Volume\"},\"width\":{\"value\":0.8},\"x\":{\"field\":\"index\"}},\"id\":\"26164\",\"type\":\"VBar\"},{\"attributes\":{},\"id\":\"26013\",\"type\":\"UnionRenderers\"},{\"attributes\":{},\"id\":\"26052\",\"type\":\"UnionRenderers\"},{\"attributes\":{\"args\":{\"ohlc_range\":{\"id\":\"25911\"},\"source\":{\"id\":\"25943\"},\"volume_range\":{\"id\":\"26130\"}},\"code\":\"if (!window._bt_extremes)\\n    window._bt_extremes = function (arr, initial, agg_func) {\\n        const CHUNK = 32768;\\n        let extreme = initial;\\n        for (let i = 0, len = arr.length; i < len; i += CHUNK) {\\n            const subarr = CHUNK >= len ? arr : arr.slice(i, i + CHUNK);\\n            extreme = agg_func(extreme, agg_func.apply(null, subarr));\\n        }\\n        return extreme;\\n    };\\n\\nif (!window._bt_bin_search)\\n    window._bt_bin_search = function (index, value) {\\n        let mid,\\n            min = 0,\\n            max = index.length - 1;\\n\\n        while (min < max) {\\n            mid = (min + max) / 2 | 0;\\n            if (index[mid] < value)\\n                min = mid + 1;\\n            else\\n                max = mid - 1;\\n        }\\n        return min;\\n    };\\n\\nif (!window._bt_scale_range)\\n    window._bt_scale_range = function (range, highs, lows) {\\n        const max = _bt_extremes(highs, -Infinity, Math.max),\\n              min = lows && _bt_extremes(lows, Infinity, Math.min);\\n        if (min !== Infinity && max !== -Infinity) {\\n            const pad = (max - min) * .03;\\n            range.start = min - pad;\\n            range.end = max + pad;\\n        }\\n    };\\n\\nclearTimeout(window._bt_autoscale_timeout);\\n\\nwindow._bt_autoscale_timeout = setTimeout(function () {\\n    /**\\n     * @variable cb_obj `fig_ohlc.x_range`.\\n     * @variable source `ColumnDataSource`\\n     * @variable ohlc_range `fig_ohlc.y_range`.\\n     * @variable volume_range `fig_volume.y_range`.\\n     */\\n\\n    let index = source.data['index'],\\n        i = Math.max(_bt_bin_search(index, cb_obj.start) - 1, 0),\\n        j = Math.min(_bt_bin_search(index, cb_obj.end) + 1, index.length);\\n\\n    _bt_scale_range(\\n        ohlc_range,\\n        source.data['ohlc_high'].slice(i, j),\\n        source.data['ohlc_low'].slice(i, j));\\n    try {\\n        _bt_scale_range(\\n            volume_range,\\n            source.data['Volume'].slice(i, j),\\n            0);\\n    } catch (e) {}  // volume_range may be undefined\\n\\n}, 50);\\n\"},\"id\":\"26249\",\"type\":\"CustomJS\"},{\"attributes\":{\"source\":{\"id\":\"26035\"}},\"id\":\"26039\",\"type\":\"CDSView\"},{\"attributes\":{},\"id\":\"26012\",\"type\":\"Selection\"},{\"attributes\":{\"fill_color\":{\"field\":\"returns_pos\",\"transform\":{\"id\":\"25946\"}},\"marker\":{\"value\":\"triangle\"},\"size\":{\"units\":\"screen\",\"value\":13},\"x\":{\"field\":\"index\"},\"y\":{\"field\":\"returns_long\"}},\"id\":\"26113\",\"type\":\"Scatter\"},{\"attributes\":{},\"id\":\"26009\",\"type\":\"BasicTickFormatter\"},{\"attributes\":{\"line_color\":\"#1f77b4\",\"line_width\":1.3,\"x\":{\"field\":\"index\"},\"y\":{\"field\":\"SMA(C,10)_0_1\"}},\"id\":\"26212\",\"type\":\"Line\"},{\"attributes\":{},\"id\":\"25929\",\"type\":\"RedoTool\"},{\"attributes\":{\"bottom_units\":\"screen\",\"fill_alpha\":0.5,\"fill_color\":\"lightgrey\",\"left_units\":\"screen\",\"level\":\"overlay\",\"line_alpha\":1.0,\"line_color\":\"black\",\"line_dash\":[4,4],\"line_width\":2,\"render_mode\":\"css\",\"right_units\":\"screen\",\"top_units\":\"screen\"},\"id\":\"26152\",\"type\":\"BoxAnnotation\"},{\"attributes\":{},\"id\":\"26151\",\"type\":\"SaveTool\"},{\"attributes\":{},\"id\":\"25973\",\"type\":\"CrosshairTool\"},{\"attributes\":{},\"id\":\"26227\",\"type\":\"Selection\"},{\"attributes\":{\"label\":{\"value\":\"SMA(C,10)\"},\"renderers\":[{\"id\":\"26214\"}]},\"id\":\"26228\",\"type\":\"LegendItem\"},{\"attributes\":{},\"id\":\"26226\",\"type\":\"UnionRenderers\"},{\"attributes\":{},\"id\":\"25928\",\"type\":\"UndoTool\"},{\"attributes\":{\"line_alpha\":0.1,\"line_color\":\"#1f77b4\",\"line_width\":1.3,\"x\":{\"field\":\"index\"},\"y\":{\"field\":\"SMA(C,10)_0_1\"}},\"id\":\"26213\",\"type\":\"Line\"},{\"attributes\":{},\"id\":\"25931\",\"type\":\"CrosshairTool\"},{\"attributes\":{\"below\":[{\"id\":\"25917\"}],\"center\":[{\"id\":\"25920\"},{\"id\":\"25924\"},{\"id\":\"26209\"}],\"left\":[{\"id\":\"25921\"}],\"min_border_bottom\":6,\"min_border_left\":0,\"min_border_right\":10,\"min_border_top\":3,\"outline_line_color\":\"#666666\",\"plot_height\":400,\"plot_width\":null,\"renderers\":[{\"id\":\"26176\"},{\"id\":\"26182\"},{\"id\":\"26187\"},{\"id\":\"26192\"},{\"id\":\"26197\"},{\"id\":\"26214\"},{\"id\":\"26232\"}],\"sizing_mode\":\"stretch_width\",\"title\":{\"id\":\"26199\"},\"toolbar\":{\"id\":\"25934\"},\"toolbar_location\":null,\"x_range\":{\"id\":\"25908\"},\"x_scale\":{\"id\":\"25913\"},\"y_range\":{\"id\":\"25911\"},\"y_scale\":{\"id\":\"25915\"}},\"id\":\"25909\",\"subtype\":\"Figure\",\"type\":\"Plot\"},{\"attributes\":{\"data_source\":{\"id\":\"25943\"},\"glyph\":{\"id\":\"26212\"},\"hover_glyph\":null,\"muted_glyph\":null,\"nonselection_glyph\":{\"id\":\"26213\"},\"selection_glyph\":null,\"view\":{\"id\":\"26215\"}},\"id\":\"26214\",\"type\":\"GlyphRenderer\"},{\"attributes\":{\"source\":{\"id\":\"25943\"}},\"id\":\"26215\",\"type\":\"CDSView\"},{\"attributes\":{\"label\":{\"value\":\"Final (109%)\"},\"renderers\":[{\"id\":\"26020\"}]},\"id\":\"26034\",\"type\":\"LegendItem\"},{\"attributes\":{\"data_source\":{\"id\":\"25943\"},\"glyph\":{\"id\":\"25992\"},\"hover_glyph\":null,\"muted_glyph\":null,\"nonselection_glyph\":{\"id\":\"25993\"},\"selection_glyph\":null,\"view\":{\"id\":\"25995\"}},\"id\":\"25994\",\"type\":\"GlyphRenderer\"},{\"attributes\":{\"bottom_units\":\"screen\",\"fill_alpha\":0.5,\"fill_color\":\"lightgrey\",\"left_units\":\"screen\",\"level\":\"overlay\",\"line_alpha\":1.0,\"line_color\":\"black\",\"line_dash\":[4,4],\"line_width\":2,\"render_mode\":\"css\",\"right_units\":\"screen\",\"top_units\":\"screen\"},\"id\":\"25933\",\"type\":\"BoxAnnotation\"},{\"attributes\":{\"dimensions\":\"width\",\"maintain_focus\":false},\"id\":\"25926\",\"type\":\"WheelZoomTool\"},{\"attributes\":{},\"id\":\"26053\",\"type\":\"Selection\"},{\"attributes\":{\"label\":{\"value\":\"Max Drawdown (-10.5%)\"},\"renderers\":[{\"id\":\"26038\"}]},\"id\":\"26054\",\"type\":\"LegendItem\"},{\"attributes\":{\"data\":{},\"selected\":{\"id\":\"26033\"},\"selection_policy\":{\"id\":\"26032\"}},\"id\":\"26000\",\"type\":\"ColumnDataSource\"},{\"attributes\":{\"callback\":null,\"formatters\":{\"@datetime\":\"datetime\"},\"mode\":\"vline\",\"point_policy\":\"follow_mouse\",\"renderers\":[{\"id\":\"25994\"}],\"tooltips\":[[\"Date\",\"@datetime{%c}\"],[\"Equity\",\"@equity{+0,0.[000]%}\"]]},\"id\":\"25996\",\"type\":\"HoverTool\"},{\"attributes\":{\"text\":\"\"},\"id\":\"26005\",\"type\":\"Title\"},{\"attributes\":{\"axis\":{\"id\":\"25921\"},\"dimension\":1,\"ticker\":null},\"id\":\"25924\",\"type\":\"Grid\"},{\"attributes\":{},\"id\":\"25911\",\"type\":\"DataRange1d\"},{\"attributes\":{},\"id\":\"25974\",\"type\":\"SaveTool\"},{\"attributes\":{},\"id\":\"25930\",\"type\":\"ResetTool\"},{\"attributes\":{},\"id\":\"26150\",\"type\":\"CrosshairTool\"},{\"attributes\":{\"source\":{\"id\":\"26000\"}},\"id\":\"26004\",\"type\":\"CDSView\"},{\"attributes\":{},\"id\":\"25932\",\"type\":\"SaveTool\"},{\"attributes\":{\"data\":{\"Close\":{\"__ndarray__\":\"FK5H4XpUSUCPwvUoXE9IQGZmZmZmJklAw/UoXI/iR0AzMzMzM5NHQIXrUbge5UZAzczMzMwsSEDhehSuR0FGQK5H4XoUzkNAmpmZmZnZR0DD9Shcj0JFQFK4HoXrUUdAZmZmZmaGR0CuR+F6FG5GQNejcD0Kt0ZAPQrXo3D9RUCuR+F6FM5HQFyPwvUo3EZAH4XrUbgeSUDsUbgehctIQI/C9ShcD0lAzczMzMwMSEA9CtejcD1IQEjhehSux0hA9ihcj8KVSEAAAAAAAKBJQMP1KFyPQklAcT0K16MQSkDXo3A9CpdKQFyPwvUofEpAAAAAAAAAS0AUrkfhepRKQJqZmZmZ2UpAj8L1KFxPS0AUrkfhevRKQEjhehSup0lAw/UoXI8iSkBcj8L1KPxJQOF6FK5HgUpAj8L1KFyvSkCamZmZmZlKQHE9Ctej8EpAXI/C9Sh8SkCF61G4HuVJQAAAAAAA4ElAZmZmZmYGSkCuR+F6FO5JQM3MzMzMTEpAKVyPwvXISkCkcD0K18NKQMP1KFyPIkpAMzMzMzPTSUAUrkfhenRKQPYoXI/CdUpAMzMzMzOTSkDsUbgehStKQDMzMzMzc0pAXI/C9SgcSkCPwvUoXE9KQKRwPQrXY0pAmpmZmZmZSkCPwvUoXM9KQMP1KFyP4kpASOF6FK6HSkCkcD0K16NKQB+F61G4vkpAzczMzMxsSkA9CtejcP1KQM3MzMzMjEtA16NwPQoXS0CuR+F6FA5LQEjhehSup0lArkfhehTuSUAAAAAAAKBKQOxRuB6FS0tAw/UoXI/CSUC4HoXrUdhKQDMzMzMzM0tAj8L1KFyPS0C4HoXrUZhLQLgehetROEtApHA9CtdDS0DXo3A9ChdLQOF6FK5HYUtAw/UoXI+iS0AfhetRuL5LQLgehetR+EtAzczMzMxMTEA=\",\"dtype\":\"float64\",\"shape\":[88]},\"High\":{\"__ndarray__\":\"FK5H4XpUSUDsUbgehctJQM3MzMzMLElAmpmZmZm5SEApXI/C9QhIQM3MzMzMrEdA16NwPQpXSEDhehSuR6FHQLgehetRmEVA4XoUrkfhR0DNzMzMzKxHQD0K16NwvUdAKVyPwvXIR0AfhetRuN5HQD0K16NwPUdAw/UoXI8iR0CkcD0K1+NHQOF6FK5HQUhAAAAAAABASUCuR+F6FK5JQM3MzMzMrElAuB6F61F4SUDhehSuR2FIQDMzMzMz00hASOF6FK7nSEBxPQrXo9BJQArXo3A9CkpA16NwPQpXSkCPwvUoXM9KQFK4HoXrkUpAzczMzMwMS0CamZmZmblKQI/C9Shc70pAXI/C9ShcS0AK16NwPUpLQOxRuB6Fq0pACtejcD1KSkAfhetRuH5KQGZmZmZmhkpAUrgehevRSkAzMzMzMxNLQKRwPQrXI0tAzczMzMzMSkC4HoXrUThKQIXrUbge5UlArkfhehRuSkAAAAAAAEBKQPYoXI/CdUpApHA9CtfjSkAK16NwPepKQArXo3A96kpAH4XrUbg+SkCkcD0K14NKQB+F61G4/kpAmpmZmZn5SkAAAAAAAKBKQMP1KFyPokpAuB6F61F4SkBSuB6F61FKQNejcD0K10pAAAAAAACgSkAzMzMzMxNLQLgehetR+EpAUrgeheuxSkCF61G4HqVKQI/C9Shcz0pAuB6F61HYSkDD9ShcjyJLQI/C9Shcj0tASOF6FK6HS0AUrkfhelRLQEjhehSux0pAAAAAAACASkDXo3A9CrdKQAAAAAAAgEtAH4XrUbjeSkAAAAAAAABLQHsUrkfhOktAUrgeheuxS0Bcj8L1KPxLQNejcD0K10tA7FG4HoVLS0DsUbgehUtLQHsUrkfhektAuB6F61G4S0BxPQrXo/BLQNejcD0KN0xACtejcD1qTEA=\",\"dtype\":\"float64\",\"shape\":[88]},\"Low\":{\"__ndarray__\":\"uB6F61E4SEDD9ShcjwJIQM3MzMzMTEhAw/UoXI/CR0AfhetRuB5HQJqZmZmZOUZAuB6F61H4RkBI4XoUrgdGQMP1KFyPwkNAexSuR+GaRUBI4XoUrodEQHsUrkfhukRArkfhehQuRUAUrkfhelRGQGZmZmZmJkZA16NwPQrXRUDsUbgehYtGQOF6FK5HoUZAXI/C9Sj8RkAK16NwPSpIQK5H4XoUrkhAw/UoXI/iR0ApXI/C9ehGQI/C9Shc70dAXI/C9ShcSECuR+F6FA5JQFyPwvUoPElAcT0K16NwSUCkcD0K1wNKQDMzMzMzM0pAmpmZmZm5SkBI4XoUrmdKQClcj8L1iEpAXI/C9Sj8SkBmZmZmZuZKQI/C9Shcj0lAw/UoXI/iSUCamZmZmblJQHsUrkfh+klASOF6FK6HSkBxPQrXo5BKQLgehetR2EpAZmZmZmZmSkBI4XoUrqdJQM3MzMzMjElAH4XrUbj+SUCamZmZmdlJQMP1KFyPIkpAw/UoXI9iSkBI4XoUrodKQAAAAAAAIEpApHA9CtejSUCuR+F6FG5JQMP1KFyPQkpAKVyPwvWISkApXI/C9ShKQDMzMzMzU0pAj8L1KFwPSkAK16NwPQpKQDMzMzMzU0pAKVyPwvVISkBcj8L1KJxKQB+F61G4fkpAhetRuB5lSkBSuB6F61FKQB+F61G4fkpAcT0K16NQSkAfhetRuF5KQKRwPQrXo0pAcT0K16PwSkAzMzMzM/NKQD0K16NwnUlAPQrXo3B9SUAUrkfhenRJQKRwPQrX40pAAAAAAADASUApXI/C9ahJQD0K16NwfUpAcT0K16PwSkBxPQrXo5BLQArXo3A9KktAhetRuB7FSkBxPQrXo9BKQM3MzMzM7EpAAAAAAABAS0DXo3A9CldLQDMzMzMz00tAFK5H4XoUTEA=\",\"dtype\":\"float64\",\"shape\":[88]},\"Open\":{\"__ndarray__\":\"H4XrUbi+SEBxPQrXozBJQK5H4XoUzkhAAAAAAACASEDNzMzMzCxHQB+F61G4XkZAPQrXo3CdR0DsUbgehUtHQNejcD0Kd0RAH4XrUbgeRkBI4XoUridFQBSuR+F6tEVAexSuR+G6RUAAAAAAACBHQEjhehSuZ0ZAhetRuB5lRkCPwvUoXI9GQHE9CtejcEdAFK5H4XoUR0CuR+F6FG5IQBSuR+F6FElAcT0K16NwSUAK16NwPSpHQJqZmZmZ+UdAKVyPwvWISEAUrkfhehRJQDMzMzMz80lAPQrXo3B9SUAfhetRuB5KQJqZmZmZWUpAexSuR+HaSkB7FK5H4ZpKQDMzMzMzk0pAw/UoXI9CS0BmZmZmZgZLQD0K16NwnUpApHA9CtcDSkA9CtejcB1KQBSuR+F6NEpArkfhehSuSkAzMzMzM/NKQJqZmZmZ+UpAXI/C9Si8SkBxPQrXozBKQHsUrkfh2klAXI/C9SgcSkDXo3A9CjdKQDMzMzMzM0pAuB6F61GYSkBxPQrXo5BKQGZmZmZm5kpA16NwPQo3SkBSuB6F65FJQJqZmZmZWUpAFK5H4Xr0SkDXo3A9CpdKQOxRuB6Fi0pA4XoUrkdhSkDsUbgehStKQDMzMzMz00pAAAAAAACASkDhehSuR+FKQI/C9Shcz0pApHA9CtejSkAfhetRuJ5KQArXo3A9qkpAPQrXo3CdSkDsUbgehYtKQM3MzMzMrEpAAAAAAACAS0AAAAAAAEBLQAAAAAAAoEpAmpmZmZk5SkB7FK5H4XpJQHsUrkfhOktApHA9CteDSkDNzMzMzMxJQHsUrkfhGktA7FG4HoULS0BmZmZmZqZLQI/C9Shcj0tAMzMzMzMzS0DNzMzMzCxLQD0K16NwHUtAZmZmZmZmS0C4HoXrUVhLQIXrUbge5UtAmpmZmZkZTEA=\",\"dtype\":\"float64\",\"shape\":[88]},\"SMA(C,10)_0_1\":{\"__ndarray__\":\"AAAAAAAA+H8AAAAAAAD4fwAAAAAAAPh/AAAAAAAA+H8AAAAAAAD4fwAAAAAAAPh/AAAAAAAA+H8AAAAAAAD4fwAAAAAAAPh/2s73U+OFR0AFVg4tsh1HQDIIrBxaBEdAmG4Sg8DaRkAw3SQGgbVGQHRoke18n0ZAuh6F61GIRkADK4cW2X5GQHaTGARWjkZAaGZmZmYWR0A+30+Nly5HQB5aZDvfj0dAxfUoXI+iR0DBnxov3bRHQB0v3SQG8UdAOYlBYOUgSEDNoUW2831IQDUzMzMzo0hAapHtfD/1SEB7FK5H4RpJQKAaL90kRklAK4cW2c53SUB+arx0k7hJQAisHFpk+0lAXY/C9Sg8SkBGtvP91HhKQJqZmZmZeUpAAAAAAACQSkDLoUW2841KQLOd76fGi0pAOIlBYOWQSkAusp3vp4ZKQB5aZDvfj0pASwwCK4eGSkD9qfHSTWJKQC6yne+nRkpA46WbxCBQSkB7FK5H4UpKQG3n+6nxUkpAKDEIrBxaSkBdj8L1KFxKQMZLN4lBUEpAwMqhRbYzSkBr5/up8TJKQMMgsHJoQUpAFdnO91NTSkDWo3A9CldKQDAIrBxaZEpAcmiR7XxfSkAV2c73U1NKQHs/NV66SUpAEoPAyqFVSkACK4cW2W5KQGDl0CLbeUpAzvdT46V7SkBaZDvfT31KQHjpJjEIjEpACKwcWmSLSkBSuB6F66FKQIts5/upwUpA3SQGgZXTSkCrHFpkO99KQIts5/upwUpA8KfGSzepSkDQ91PjpatKQCXb+X5qvEpANTMzMzOjSkDLoUW2861KQBbZzvdTs0pA3SQGgZWzSkCOl24Sg8BKQNv5fmq8xEpAyqFFtvPtSkDN91PjpQtLQOPQItv5HktAReF6FK4nS0DOItv5flpLQJrvp8ZLd0tA9n5qvHSTS0A=\",\"dtype\":\"float64\",\"shape\":[88]},\"SMA(C,20)_1_1\":{\"__ndarray__\":\"AAAAAAAA+H8AAAAAAAD4fwAAAAAAAPh/AAAAAAAA+H8AAAAAAAD4fwAAAAAAAPh/AAAAAAAA+H8AAAAAAAD4fwAAAAAAAPh/AAAAAAAA+H8AAAAAAAD4fwAAAAAAAPh/AAAAAAAA+H8AAAAAAAD4fwAAAAAAAPh/AAAAAAAA+H8AAAAAAAD4fwAAAAAAAPh/AAAAAAAA+H8K16NwPVpHQBFYObTIVkdA+n5qvHRTR0AshxbZzkdHQCYGgZVDU0dA1njpJjFgR0BDYOXQIoNHQBwv3SQGkUdAcBKDwMrBR0ByPQrXoxhIQO58PzVeOkhApXA9CteDSEAisHJoka1IQOWlm8Qg2EhAPN9PjZcWSUC/nxov3UxJQLOd76fGe0lAm5mZmZmZSUCbmZmZmcFJQBjZzvdT00lA7VG4HoXrSUCuHFpkO/9JQFJiEFg5JEpALVyPwvVASkCwHFpkO09KQD20yHa+X0pAwp8aL91kSkBACtejcG1KQJ3EILBycEpAbef7qfFySkBKDAIrh3ZKQPp+arx0a0pAbhKDwMphSkDb+X5qvFxKQGLl0CLbUUpAo0W28/1MSkDeJAaBlVNKQFgOLbKdV0pA8qfGSzdZSkAghetRuFZKQG7n+6nxUkpAbuf7qfFSSkDiehSuR1FKQGZmZmZmVkpASgwCK4deSkC4HoXrUWhKQKjGSzeJcUpAHVpkO993SkBjEFg5tIBKQNIi2/l+ikpALrKd76eOSkDgT42XbppKQMZLN4lBmEpApsZLN4mRSkDN91PjpZNKQLufGi/dnEpAUw4tsp2XSkDmJjEIrJxKQLLIdr6fqkpAssh2vp+6SkAzXrpJDMpKQEKLbOf70UpAKocW2c7XSkDeT42XbtpKQFpkO99P5UpANV66SQzySkACK4cW2f5KQLXIdr6fEktACKwcWmQjS0A=\",\"dtype\":\"float64\",\"shape\":[88]},\"Volume\":[17328500,21830500,14813700,15843000,24581400,25949300,27067700,24139200,24123800,28339400,27493700,25588900,29557000,20159100,26340800,23063700,19323700,25625800,22417900,20025300,20611900,15802000,17918200,16434400,13362500,13845800,14063000,15710700,15521200,12694800,11674600,10398100,14098300,13608800,10358900,14111700,9669200,10330200,9404100,9123200,8350500,9064100,11808000,8702400,7567900,7271800,7050000,7154700,8131800,8138600,8598800,10274300,13794000,39055700,9901900,9805100,9115900,7464000,7211700,11200600,9228100,9465400,14735300,7363200,8756300,9188700,9696000,12210100,11519500,8852500,7436700,12805700,11537200,16038100,19380200,28674800,19259500,33051200,16705900,18695000,18287400,16008700,17969400,14366900,18885900,17856800,15478900,15309700],\"datetime\":{\"__ndarray__\":\"AABArYgJd0IAAAAT2wl3QgAAwHgtCndCAACA3n8Kd0IAAEBE0gp3QgAAgHXJC3dCAABA2xsMd0IAAABBbgx3QgAAwKbADHdCAACADBMNd0IAAMA9Cg53QgAAgKNcDndCAABACa8Od0IAAABvAQ93QgAAwNRTD3dCAAAABksQd0IAAMBrnRB3QgAAgNHvEHdCAABAN0IRd0IAAACdlBF3QgAAQM6LEndCAAAANN4Sd0IAAMCZMBN3QgAAgP+CE3dCAABAZdUTd0IAAICWzBR3QgAAQPweFXdCAAAAYnEVd0IAAMDHwxV3QgAAwF4NF3dCAACAxF8Xd0IAAEAqshd3QgAAAJAEGHdCAADA9VYYd0IAAAAnThl3QgAAwIygGXdCAACA8vIZd0IAAEBYRRp3QgAAAL6XGndCAABA744bd0IAAABV4Rt3QgAAwLozHHdCAACAIIYcd0IAAECG2Bx3QgAAgLfPHXdCAABAHSIed0IAAACDdB53QgAAwOjGHndCAACAThkfd0IAAMB/ECB3QgAAgOViIHdCAABAS7Ugd0IAAACxByF3QgAAwBZaIXdCAAAASFEid0IAAMCtoyJ3QgAAgBP2IndCAABAeUgjd0IAAADfmiN3QgAAAHbkJHdCAADA2zYld0IAAIBBiSV3QgAAQKfbJXdCAACA2NImd0IAAEA+JSd3QgAAAKR3J3dCAADACcond0IAAIBvHCh3QgAAwKATKXdCAACABmYpd0IAAEBsuCl3QgAAANIKKndCAADAN10qd0IAAABpVCt3QgAAwM6mK3dCAACANPkrd0IAAECaSyx3QgAAAACeLHdCAABAMZUtd0IAAACX5y13QgAAwPw5LndCAACAYowud0IAAEDI3i53QgAAgPnVL3dCAABAXygwd0IAAADFejB3QgAAwCrNMHdCAADAwRYyd0I=\",\"dtype\":\"float64\",\"shape\":[88]},\"equity\":{\"__ndarray__\":\"AAAAAAAA8D8AAAAAAADwPwAAAAAAAPA/AAAAAAAA8D8AAAAAAADwPwAAAAAAAPA/AAAAAAAA8D8AAAAAAADwPwAAAAAAAPA/AAAAAAAA8D8AAAAAAADwPwAAAAAAAPA/AAAAAAAA8D8AAAAAAADwPwAAAAAAAPA/AAAAAAAA8D8AAAAAAADwPwAAAAAAAPA/AAAAAAAA8D8AAAAAAADwPwAAAAAAAPA/AFUK0/Ew7j+xC9tAAW7uP+0SfWuLG+8/bVc0o+Dc7j+2H1wSjRXwP3jgfljNte8/QPP8nkBc8D+o75msnLDwPy29rXa9n/A/xbTSKX7y8D/Y6iFSAa/wP6hsytxj2vA/z0lbHk4k8T8in7YSQ+vwPyIuxCFfGvA/6BRFGIBn8D/KzDzLZU/wP8rGnSv0ovA/VB0OiOC/8D939BEHOLLwP+yXAgva6PA/Lb2tdr2f8D+FoQSd70DwP+eXFOi4PfA/FgCxb71o8D8W5FB++XfwP8MNGMyjPPA/J8Bj9bnd7z/jpn4WJOTvP44Fp5QZV/A/xYE3FdCI8D+pz8+LyCPwP9FyrEf7IvA/cht/KIoQ8D9AxMEAR4rvP0v6EpCq4O8/h+9U9MN37z9FX2rIeLXvP9eGhQzlZPA/Y1x9RJBE8D/Ws+xuhAbwP85CM3T+EfA/GytkpVe37z+d8P/WAdnvP1TnK0wk+e8/ZDQ4MDWX7z8qPsmuDyLwP7x6PufAd/A/H1InC10x8D9W/p/3ASzwP9HN9dSNq+4/lzv7ULf/7j85hLChatTvP3FhG6K7UPA/iMQhSrDL7j+fB3SC3wvwP+A09SMyQvA/iEmuo0h58D+lYBWJAofwP184JFFHwPA/ND3vBWi58D8EdU53K7HwP49EohDq3vA//eTVUCMH8T+lnV9EfRjxP0I6nBP7O/E/OWQ57ghw8T8=\",\"dtype\":\"float64\",\"shape\":[88]},\"inc\":[\"1\",\"0\",\"1\",\"0\",\"1\",\"1\",\"1\",\"0\",\"0\",\"1\",\"1\",\"1\",\"1\",\"0\",\"1\",\"0\",\"1\",\"0\",\"1\",\"1\",\"0\",\"0\",\"1\",\"1\",\"1\",\"1\",\"0\",\"1\",\"1\",\"1\",\"1\",\"0\",\"1\",\"1\",\"0\",\"0\",\"1\",\"0\",\"1\",\"1\",\"0\",\"0\",\"0\",\"0\",\"1\",\"0\",\"0\",\"1\",\"1\",\"1\",\"0\",\"0\",\"1\",\"1\",\"0\",\"0\",\"0\",\"0\",\"1\",\"0\",\"1\",\"0\",\"1\",\"0\",\"1\",\"1\",\"0\",\"1\",\"1\",\"0\",\"0\",\"0\",\"0\",\"1\",\"1\",\"0\",\"1\",\"1\",\"1\",\"0\",\"0\",\"1\",\"0\",\"1\",\"1\",\"1\",\"1\",\"1\"],\"index\":[0,1,2,3,4,5,6,7,8,9,10,11,12,13,14,15,16,17,18,19,20,21,22,23,24,25,26,27,28,29,30,31,32,33,34,35,36,37,38,39,40,41,42,43,44,45,46,47,48,49,50,51,52,53,54,55,56,57,58,59,60,61,62,63,64,65,66,67,68,69,70,71,72,73,74,75,76,77,78,79,80,81,82,83,84,85,86,87],\"ohlc_high\":{\"__ndarray__\":\"FK5H4XpUSUDsUbgehctJQM3MzMzMLElAmpmZmZm5SEApXI/C9QhIQM3MzMzMrEdA16NwPQpXSEDhehSuR6FHQLgehetRmEVA4XoUrkfhR0DNzMzMzKxHQD0K16NwvUdAKVyPwvXIR0AfhetRuN5HQD0K16NwPUdAw/UoXI8iR0CkcD0K1+NHQOF6FK5HQUhAAAAAAABASUCuR+F6FK5JQM3MzMzMrElAuB6F61F4SUDhehSuR2FIQDMzMzMz00hASOF6FK7nSEBxPQrXo9BJQArXo3A9CkpA16NwPQpXSkCPwvUoXM9KQFK4HoXrkUpAzczMzMwMS0CamZmZmblKQI/C9Shc70pAXI/C9ShcS0AK16NwPUpLQOxRuB6Fq0pAAAAAAACQSkDLoUW2841KQLOd76fGi0pAUrgehevRSkAzMzMzMxNLQKRwPQrXI0tAzczMzMzMSkD9qfHSTWJKQD20yHa+X0pArkfhehRuSkBACtejcG1KQPYoXI/CdUpApHA9CtfjSkAK16NwPepKQArXo3A96kpAbhKDwMphSkCkcD0K14NKQB+F61G4/kpAmpmZmZn5SkAAAAAAAKBKQMP1KFyPokpAuB6F61F4SkAghetRuFZKQNejcD0K10pAAAAAAACgSkAzMzMzMxNLQLgehetR+EpAUrgeheuxSkCF61G4HqVKQI/C9Shcz0pAuB6F61HYSkDD9ShcjyJLQI/C9Shcj0tASOF6FK6HS0AUrkfhelRLQEjhehSux0pA8KfGSzepSkDXo3A9CrdKQAAAAAAAgEtAH4XrUbjeSkAAAAAAAABLQHsUrkfhOktAUrgeheuxS0Bcj8L1KPxLQNejcD0K10tA7FG4HoVLS0DsUbgehUtLQHsUrkfhektAuB6F61G4S0BxPQrXo/BLQNejcD0KN0xACtejcD1qTEA=\",\"dtype\":\"float64\",\"shape\":[88]},\"ohlc_low\":{\"__ndarray__\":\"uB6F61E4SEDD9ShcjwJIQM3MzMzMTEhAw/UoXI/CR0AfhetRuB5HQJqZmZmZOUZAuB6F61H4RkBI4XoUrgdGQMP1KFyPwkNAexSuR+GaRUBI4XoUrodEQHsUrkfhukRArkfhehQuRUAUrkfhelRGQGZmZmZmJkZA16NwPQrXRUADK4cW2X5GQHaTGARWjkZAXI/C9Sj8RkA+30+Nly5HQBFYObTIVkdA+n5qvHRTR0ApXI/C9ehGQCYGgZVDU0dA1njpJjFgR0BDYOXQIoNHQBwv3SQGkUdAcBKDwMrBR0ByPQrXoxhIQO58PzVeOkhApXA9CteDSEAisHJoka1IQOWlm8Qg2EhAPN9PjZcWSUC/nxov3UxJQLOd76fGe0lAm5mZmZmZSUCamZmZmblJQBjZzvdT00lA7VG4HoXrSUCuHFpkO/9JQFJiEFg5JEpALVyPwvVASkBI4XoUrqdJQM3MzMzMjElAH4XrUbj+SUCamZmZmdlJQMP1KFyPIkpAKDEIrBxaSkBdj8L1KFxKQAAAAAAAIEpApHA9CtejSUCuR+F6FG5JQMMgsHJoQUpAo0W28/1MSkApXI/C9ShKQDMzMzMzU0pAj8L1KFwPSkAK16NwPQpKQHs/NV66SUpAKVyPwvVISkDiehSuR1FKQGZmZmZmVkpASgwCK4deSkBSuB6F61FKQKjGSzeJcUpAcT0K16NQSkAfhetRuF5KQNIi2/l+ikpALrKd76eOSkDgT42XbppKQD0K16NwnUlAPQrXo3B9SUAUrkfhenRJQLufGi/dnEpAAAAAAADASUApXI/C9ahJQD0K16NwfUpA3SQGgZWzSkCOl24Sg8BKQNv5fmq8xEpAhetRuB7FSkBxPQrXo9BKQFpkO99P5UpANV66SQzySkACK4cW2f5KQLXIdr6fEktACKwcWmQjS0A=\",\"dtype\":\"float64\",\"shape\":[88]}},\"selected\":{\"id\":\"26014\"},\"selection_policy\":{\"id\":\"26013\"}},\"id\":\"25943\",\"type\":\"ColumnDataSource\"},{\"attributes\":{\"line_alpha\":0.1,\"line_color\":\"#1f77b4\",\"line_width\":1.5,\"x\":{\"field\":\"index\"},\"y\":{\"field\":\"equity\"}},\"id\":\"25993\",\"type\":\"Line\"},{\"attributes\":{\"overlay\":{\"id\":\"25933\"}},\"id\":\"25927\",\"type\":\"BoxZoomTool\"},{\"attributes\":{\"formatter\":{\"id\":\"26202\"},\"ticker\":{\"id\":\"25922\"}},\"id\":\"25921\",\"type\":\"LinearAxis\"}],\"root_ids\":[\"26309\"]},\"title\":\"Bokeh Application\",\"version\":\"2.0.2\"}};\n",
       "  var render_items = [{\"docid\":\"102c8680-1d33-4e05-8184-ae0c690f7ac5\",\"root_ids\":[\"26309\"],\"roots\":{\"26309\":\"a7c3cfb2-e15c-4518-a251-fa075d991d4c\"}}];\n",
       "  root.Bokeh.embed.embed_items_notebook(docs_json, render_items);\n",
       "\n",
       "  }\n",
       "  if (root.Bokeh !== undefined) {\n",
       "    embed_document(root);\n",
       "  } else {\n",
       "    var attempts = 0;\n",
       "    var timer = setInterval(function(root) {\n",
       "      if (root.Bokeh !== undefined) {\n",
       "        clearInterval(timer);\n",
       "        embed_document(root);\n",
       "      } else {\n",
       "        attempts++;\n",
       "        if (attempts > 100) {\n",
       "          clearInterval(timer);\n",
       "          console.log(\"Bokeh: ERROR: Unable to run BokehJS code because BokehJS library is missing\");\n",
       "        }\n",
       "      }\n",
       "    }, 10, root)\n",
       "  }\n",
       "})(window);"
      ],
      "application/vnd.bokehjs_exec.v0+json": ""
     },
     "metadata": {
      "application/vnd.bokehjs_exec.v0+json": {
       "id": "26309"
      }
     },
     "output_type": "display_data"
    }
   ],
   "source": [
    "ticker = \"ORCL\"\n",
    "startdate='2020-03-01'\n",
    "enddate='2020-7-7'\n",
    "results = backtest_results(ticker, startdate, enddate)"
   ]
  },
  {
   "cell_type": "code",
   "execution_count": 89,
   "metadata": {},
   "outputs": [
    {
     "data": {
      "text/plain": [
       "Start                     2020-03-02 00:00:00\n",
       "End                       2020-07-06 00:00:00\n",
       "Duration                    126 days 00:00:00\n",
       "Exposure [%]                          58.7302\n",
       "Equity Final [$]                      21319.7\n",
       "Equity Peak [$]                       21319.7\n",
       "Return [%]                            113.197\n",
       "Buy & Hold Return [%]                 61.6418\n",
       "Max. Drawdown [%]                    -15.6566\n",
       "Avg. Drawdown [%]                    -7.78924\n",
       "Max. Drawdown Duration       42 days 00:00:00\n",
       "Avg. Drawdown Duration       12 days 00:00:00\n",
       "# Trades                                    4\n",
       "Win Rate [%]                               50\n",
       "Best Trade [%]                        23.3011\n",
       "Worst Trade [%]                       -3.1805\n",
       "Avg. Trade [%]                         4.8388\n",
       "Max. Trade Duration          51 days 00:00:00\n",
       "Avg. Trade Duration          19 days 00:00:00\n",
       "Expectancy [%]                        7.63162\n",
       "SQN                                  0.722524\n",
       "Sharpe Ratio                         0.387466\n",
       "Sortino Ratio                         8.82562\n",
       "Calmar Ratio                         0.309058\n",
       "_strategy                            SmaCross\n",
       "dtype: object"
      ]
     },
     "execution_count": 89,
     "metadata": {},
     "output_type": "execute_result"
    }
   ],
   "source": [
    "results"
   ]
  },
  {
   "cell_type": "code",
   "execution_count": null,
   "metadata": {},
   "outputs": [],
   "source": []
  }
 ],
 "metadata": {
  "kernelspec": {
   "display_name": "Python 3",
   "language": "python",
   "name": "python3"
  },
  "language_info": {
   "codemirror_mode": {
    "name": "ipython",
    "version": 3
   },
   "file_extension": ".py",
   "mimetype": "text/x-python",
   "name": "python",
   "nbconvert_exporter": "python",
   "pygments_lexer": "ipython3",
   "version": "3.7.4"
  }
 },
 "nbformat": 4,
 "nbformat_minor": 4
}
