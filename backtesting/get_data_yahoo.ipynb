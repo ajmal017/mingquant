{
 "cells": [
  {
   "cell_type": "markdown",
   "metadata": {},
   "source": [
    "https://github.com/dpguthrie/yahooquery"
   ]
  },
  {
   "cell_type": "markdown",
   "metadata": {},
   "source": [
    "# Get Revenue growths "
   ]
  },
  {
   "cell_type": "code",
   "execution_count": 111,
   "metadata": {},
   "outputs": [
    {
     "data": {
      "text/plain": [
       "<yahooquery.ticker.Ticker at 0x121316dd0>"
      ]
     },
     "execution_count": 111,
     "metadata": {},
     "output_type": "execute_result"
    }
   ],
   "source": [
    "import requests \n",
    "import pandas as pd\n",
    "import requests\n",
    "from yahooquery import Ticker\n",
    "aapl = Ticker('aapl')\n",
    "aapl"
   ]
  },
  {
   "cell_type": "code",
   "execution_count": 124,
   "metadata": {},
   "outputs": [],
   "source": [
    "def get_mean_revgrowth(ticker, startdate='2015-07-01', enddate='2020-07-07'):\n",
    "    temp = Ticker(ticker)\n",
    "    df = temp.income_statement()\n",
    "    df['date'] = pd.to_datetime(df['asOfDate'])\n",
    "    mask = (df['date'] > startdate) & (df['date'] <= enddate)\n",
    "    df = df.copy().loc[mask]\n",
    "    df['revenue_growth'] = df['TotalRevenue'].pct_change()\n",
    "    mean_rev_growth = df['revenue_growth'].mean()\n",
    "    n_statements = len(df)\n",
    "    return mean_rev_growth, n_statements"
   ]
  },
  {
   "cell_type": "code",
   "execution_count": 127,
   "metadata": {},
   "outputs": [
    {
     "data": {
      "text/plain": [
       "(0.10574544596237101, 2)"
      ]
     },
     "execution_count": 127,
     "metadata": {},
     "output_type": "execute_result"
    }
   ],
   "source": [
    "startdate='2019-07-01'\n",
    "enddate='2020-07-07'\n",
    "get_mean_revgrowth(\"CHWY\", startdate, enddate)"
   ]
  },
  {
   "cell_type": "markdown",
   "metadata": {},
   "source": [
    "---"
   ]
  },
  {
   "cell_type": "markdown",
   "metadata": {},
   "source": [
    "# Other Data"
   ]
  },
  {
   "cell_type": "code",
   "execution_count": 90,
   "metadata": {},
   "outputs": [
    {
     "data": {
      "text/plain": [
       "Index(['asOfDate', 'periodType', 'AccountsPayable', 'AccountsReceivable',\n",
       "       'AccumulatedDepreciation', 'AvailableForSaleSecurities', 'CapitalStock',\n",
       "       'CashAndCashEquivalents', 'CashCashEquivalentsAndShortTermInvestments',\n",
       "       'CashEquivalents', 'CashFinancial', 'CommercialPaper', 'CommonStock',\n",
       "       'CommonStockEquity', 'CurrentAssets', 'CurrentDebt',\n",
       "       'CurrentDebtAndCapitalLeaseObligation', 'CurrentDeferredLiabilities',\n",
       "       'CurrentDeferredRevenue', 'CurrentLiabilities',\n",
       "       'GainsLossesNotAffectingRetainedEarnings', 'GrossPPE', 'Inventory',\n",
       "       'InvestedCapital', 'InvestmentinFinancialAssets',\n",
       "       'InvestmentsAndAdvances', 'LandAndImprovements', 'Leases',\n",
       "       'LongTermDebt', 'LongTermDebtAndCapitalLeaseObligation',\n",
       "       'MachineryFurnitureEquipment', 'NetDebt', 'NetPPE', 'NetTangibleAssets',\n",
       "       'OrdinarySharesNumber', 'OtherCurrentAssets', 'OtherCurrentBorrowings',\n",
       "       'OtherCurrentLiabilities', 'OtherNonCurrentAssets',\n",
       "       'OtherNonCurrentLiabilities', 'OtherReceivables',\n",
       "       'OtherShortTermInvestments', 'Payables', 'PayablesAndAccruedExpenses',\n",
       "       'Properties', 'Receivables', 'RetainedEarnings', 'ShareIssued',\n",
       "       'StockholdersEquity', 'TangibleBookValue', 'TotalAssets',\n",
       "       'TotalCapitalization', 'TotalDebt', 'TotalEquityGrossMinorityInterest',\n",
       "       'TotalLiabilitiesNetMinorityInterest', 'TotalNonCurrentAssets',\n",
       "       'TotalNonCurrentLiabilitiesNetMinorityInterest',\n",
       "       'TradeandOtherPayablesNonCurrent', 'WorkingCapital'],\n",
       "      dtype='object')"
      ]
     },
     "execution_count": 90,
     "metadata": {},
     "output_type": "execute_result"
    }
   ],
   "source": [
    "aapl.balance_sheet(frequency=\"q\").columns"
   ]
  },
  {
   "cell_type": "code",
   "execution_count": 97,
   "metadata": {},
   "outputs": [
    {
     "name": "stdout",
     "output_type": "stream",
     "text": [
      "dict_keys(['maxAge', 'priceHint', 'enterpriseValue', 'forwardPE', 'profitMargins', 'floatShares', 'sharesOutstanding', 'sharesShort', 'sharesShortPriorMonth', 'sharesShortPreviousMonthDate', 'dateShortInterest', 'sharesPercentSharesOut', 'heldPercentInsiders', 'heldPercentInstitutions', 'shortRatio', 'shortPercentOfFloat', 'beta', 'category', 'bookValue', 'priceToBook', 'fundFamily', 'legalType', 'lastFiscalYearEnd', 'nextFiscalYearEnd', 'mostRecentQuarter', 'earningsQuarterlyGrowth', 'netIncomeToCommon', 'trailingEps', 'forwardEps', 'pegRatio', 'lastSplitFactor', 'lastSplitDate', 'enterpriseToRevenue', 'enterpriseToEbitda', '52WeekChange', 'SandP52WeekChange'])\n"
     ]
    }
   ],
   "source": [
    "print(aapl.key_stats['aapl'].keys())"
   ]
  },
  {
   "cell_type": "code",
   "execution_count": null,
   "metadata": {},
   "outputs": [],
   "source": []
  },
  {
   "cell_type": "markdown",
   "metadata": {},
   "source": [
    "# Get companies with recent sm50 X sm250"
   ]
  },
  {
   "cell_type": "code",
   "execution_count": 2,
   "metadata": {},
   "outputs": [
    {
     "data": {
      "text/html": [
       "<div>\n",
       "<style scoped>\n",
       "    .dataframe tbody tr th:only-of-type {\n",
       "        vertical-align: middle;\n",
       "    }\n",
       "\n",
       "    .dataframe tbody tr th {\n",
       "        vertical-align: top;\n",
       "    }\n",
       "\n",
       "    .dataframe thead th {\n",
       "        text-align: right;\n",
       "    }\n",
       "</style>\n",
       "<table border=\"1\" class=\"dataframe\">\n",
       "  <thead>\n",
       "    <tr style=\"text-align: right;\">\n",
       "      <th></th>\n",
       "      <th>stock</th>\n",
       "      <th>xdays</th>\n",
       "      <th>rev_spread</th>\n",
       "    </tr>\n",
       "  </thead>\n",
       "  <tbody>\n",
       "    <tr>\n",
       "      <th>0</th>\n",
       "      <td>MOMO</td>\n",
       "      <td>-137</td>\n",
       "      <td>0.020832</td>\n",
       "    </tr>\n",
       "    <tr>\n",
       "      <th>1</th>\n",
       "      <td>DOC</td>\n",
       "      <td>-83</td>\n",
       "      <td>0.061587</td>\n",
       "    </tr>\n",
       "    <tr>\n",
       "      <th>2</th>\n",
       "      <td>ORCL</td>\n",
       "      <td>5</td>\n",
       "      <td>0.033412</td>\n",
       "    </tr>\n",
       "    <tr>\n",
       "      <th>3</th>\n",
       "      <td>FCX</td>\n",
       "      <td>-109</td>\n",
       "      <td>0.239877</td>\n",
       "    </tr>\n",
       "    <tr>\n",
       "      <th>4</th>\n",
       "      <td>HL</td>\n",
       "      <td>228</td>\n",
       "      <td>0.150350</td>\n",
       "    </tr>\n",
       "  </tbody>\n",
       "</table>\n",
       "</div>"
      ],
      "text/plain": [
       "  stock  xdays  rev_spread\n",
       "0  MOMO   -137    0.020832\n",
       "1   DOC    -83    0.061587\n",
       "2  ORCL      5    0.033412\n",
       "3   FCX   -109    0.239877\n",
       "4    HL    228    0.150350"
      ]
     },
     "execution_count": 2,
     "metadata": {},
     "output_type": "execute_result"
    }
   ],
   "source": [
    "momentum_stats = \"/Users/mingay/coding/aws_mingquant/stocks/momentum_stats.txt\"\n",
    "momdf = pd.read_csv(momentum_stats, sep=\"\\t\")\n",
    "momdf.columns = ['stock', 'xdays', 'rev_spread']\n",
    "momdf.head()"
   ]
  },
  {
   "cell_type": "code",
   "execution_count": 3,
   "metadata": {},
   "outputs": [
    {
     "data": {
      "text/plain": [
       "['UBER',\n",
       " 'FND',\n",
       " 'RAMP',\n",
       " 'AMCR',\n",
       " 'SFIX',\n",
       " 'NVTA',\n",
       " 'ORCL',\n",
       " 'UPWK',\n",
       " 'KDP',\n",
       " 'PANW',\n",
       " 'PS']"
      ]
     },
     "execution_count": 3,
     "metadata": {},
     "output_type": "execute_result"
    }
   ],
   "source": [
    "subdf = momdf[(momdf['xdays'] > 0) & (momdf['xdays'] < 20)].sort_values('rev_spread', ascending=False)\n",
    "companies = [i for i in subdf.stock]\n",
    "companies"
   ]
  },
  {
   "cell_type": "code",
   "execution_count": 56,
   "metadata": {},
   "outputs": [
    {
     "data": {
      "text/html": [
       "<div>\n",
       "<style scoped>\n",
       "    .dataframe tbody tr th:only-of-type {\n",
       "        vertical-align: middle;\n",
       "    }\n",
       "\n",
       "    .dataframe tbody tr th {\n",
       "        vertical-align: top;\n",
       "    }\n",
       "\n",
       "    .dataframe thead th {\n",
       "        text-align: right;\n",
       "    }\n",
       "</style>\n",
       "<table border=\"1\" class=\"dataframe\">\n",
       "  <thead>\n",
       "    <tr style=\"text-align: right;\">\n",
       "      <th></th>\n",
       "      <th>ticker</th>\n",
       "      <th>dimension</th>\n",
       "      <th>datekey</th>\n",
       "      <th>revenue</th>\n",
       "    </tr>\n",
       "  </thead>\n",
       "  <tbody>\n",
       "    <tr>\n",
       "      <th>0</th>\n",
       "      <td>AAPL</td>\n",
       "      <td>MRY</td>\n",
       "      <td>2018-09-29</td>\n",
       "      <td>265595000000</td>\n",
       "    </tr>\n",
       "    <tr>\n",
       "      <th>1</th>\n",
       "      <td>AAPL</td>\n",
       "      <td>MRY</td>\n",
       "      <td>2017-09-30</td>\n",
       "      <td>229234000000</td>\n",
       "    </tr>\n",
       "    <tr>\n",
       "      <th>2</th>\n",
       "      <td>AAPL</td>\n",
       "      <td>MRY</td>\n",
       "      <td>2016-09-24</td>\n",
       "      <td>215639000000</td>\n",
       "    </tr>\n",
       "    <tr>\n",
       "      <th>3</th>\n",
       "      <td>AAPL</td>\n",
       "      <td>MRY</td>\n",
       "      <td>2015-09-26</td>\n",
       "      <td>233715000000</td>\n",
       "    </tr>\n",
       "    <tr>\n",
       "      <th>4</th>\n",
       "      <td>AAPL</td>\n",
       "      <td>MRY</td>\n",
       "      <td>2014-09-27</td>\n",
       "      <td>182795000000</td>\n",
       "    </tr>\n",
       "  </tbody>\n",
       "</table>\n",
       "</div>"
      ],
      "text/plain": [
       "  ticker dimension     datekey       revenue\n",
       "0   AAPL       MRY  2018-09-29  265595000000\n",
       "1   AAPL       MRY  2017-09-30  229234000000\n",
       "2   AAPL       MRY  2016-09-24  215639000000\n",
       "3   AAPL       MRY  2015-09-26  233715000000\n",
       "4   AAPL       MRY  2014-09-27  182795000000"
      ]
     },
     "execution_count": 56,
     "metadata": {},
     "output_type": "execute_result"
    }
   ],
   "source": [
    "ticker = \"AAPL\"\n",
    "qapi = \"SjocP_RunUgFXafXEzQg\"\n",
    "url = \"https://www.quandl.com/api/v3/datatables/SHARADAR/SF1.csv?ticker=\" + ticker + \"&qopts.columns=ticker,dimension,datekey,revenue&api_key=\" + qapi\n",
    "findf = pd.read_csv(url)\n",
    "findf.head()"
   ]
  },
  {
   "cell_type": "code",
   "execution_count": 58,
   "metadata": {},
   "outputs": [
    {
     "data": {
      "text/html": [
       "<div>\n",
       "<style scoped>\n",
       "    .dataframe tbody tr th:only-of-type {\n",
       "        vertical-align: middle;\n",
       "    }\n",
       "\n",
       "    .dataframe tbody tr th {\n",
       "        vertical-align: top;\n",
       "    }\n",
       "\n",
       "    .dataframe thead th {\n",
       "        text-align: right;\n",
       "    }\n",
       "</style>\n",
       "<table border=\"1\" class=\"dataframe\">\n",
       "  <thead>\n",
       "    <tr style=\"text-align: right;\">\n",
       "      <th></th>\n",
       "      <th>ticker</th>\n",
       "      <th>dimension</th>\n",
       "      <th>datekey</th>\n",
       "      <th>revenue</th>\n",
       "    </tr>\n",
       "  </thead>\n",
       "  <tbody>\n",
       "  </tbody>\n",
       "</table>\n",
       "</div>"
      ],
      "text/plain": [
       "Empty DataFrame\n",
       "Columns: [ticker, dimension, datekey, revenue]\n",
       "Index: []"
      ]
     },
     "execution_count": 58,
     "metadata": {},
     "output_type": "execute_result"
    }
   ],
   "source": [
    "startdate='2019-07-01'\n",
    "enddate='2020-07-07'\n",
    "mask = (findf['datekey'] > startdate) & (findf['datekey'] <= enddate)\n",
    "findf.loc[mask]"
   ]
  },
  {
   "cell_type": "code",
   "execution_count": null,
   "metadata": {},
   "outputs": [],
   "source": []
  },
  {
   "cell_type": "code",
   "execution_count": null,
   "metadata": {},
   "outputs": [],
   "source": []
  }
 ],
 "metadata": {
  "kernelspec": {
   "display_name": "Python 3",
   "language": "python",
   "name": "python3"
  },
  "language_info": {
   "codemirror_mode": {
    "name": "ipython",
    "version": 3
   },
   "file_extension": ".py",
   "mimetype": "text/x-python",
   "name": "python",
   "nbconvert_exporter": "python",
   "pygments_lexer": "ipython3",
   "version": "3.7.4"
  }
 },
 "nbformat": 4,
 "nbformat_minor": 4
}
