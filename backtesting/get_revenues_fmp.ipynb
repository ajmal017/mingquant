{
 "cells": [
  {
   "cell_type": "markdown",
   "metadata": {},
   "source": [
    "https://codingandfun.com/valuing-a-company-price-to-sales-ratio-with-python/"
   ]
  },
  {
   "cell_type": "code",
   "execution_count": 1,
   "metadata": {},
   "outputs": [],
   "source": [
    "import requests \n",
    "import pandas as pd\n",
    "import requests\n",
    "\n",
    "apikey = '63de64a8dff1621f5586e476c7a2e927'"
   ]
  },
  {
   "cell_type": "markdown",
   "metadata": {},
   "source": [
    "# Get companies with recent sm50 X sm250"
   ]
  },
  {
   "cell_type": "code",
   "execution_count": 2,
   "metadata": {},
   "outputs": [
    {
     "data": {
      "text/html": [
       "<div>\n",
       "<style scoped>\n",
       "    .dataframe tbody tr th:only-of-type {\n",
       "        vertical-align: middle;\n",
       "    }\n",
       "\n",
       "    .dataframe tbody tr th {\n",
       "        vertical-align: top;\n",
       "    }\n",
       "\n",
       "    .dataframe thead th {\n",
       "        text-align: right;\n",
       "    }\n",
       "</style>\n",
       "<table border=\"1\" class=\"dataframe\">\n",
       "  <thead>\n",
       "    <tr style=\"text-align: right;\">\n",
       "      <th></th>\n",
       "      <th>stock</th>\n",
       "      <th>xdays</th>\n",
       "      <th>rev_spread</th>\n",
       "    </tr>\n",
       "  </thead>\n",
       "  <tbody>\n",
       "    <tr>\n",
       "      <th>0</th>\n",
       "      <td>MOMO</td>\n",
       "      <td>-137</td>\n",
       "      <td>0.020832</td>\n",
       "    </tr>\n",
       "    <tr>\n",
       "      <th>1</th>\n",
       "      <td>DOC</td>\n",
       "      <td>-83</td>\n",
       "      <td>0.061587</td>\n",
       "    </tr>\n",
       "    <tr>\n",
       "      <th>2</th>\n",
       "      <td>ORCL</td>\n",
       "      <td>5</td>\n",
       "      <td>0.033412</td>\n",
       "    </tr>\n",
       "    <tr>\n",
       "      <th>3</th>\n",
       "      <td>FCX</td>\n",
       "      <td>-109</td>\n",
       "      <td>0.239877</td>\n",
       "    </tr>\n",
       "    <tr>\n",
       "      <th>4</th>\n",
       "      <td>HL</td>\n",
       "      <td>228</td>\n",
       "      <td>0.150350</td>\n",
       "    </tr>\n",
       "  </tbody>\n",
       "</table>\n",
       "</div>"
      ],
      "text/plain": [
       "  stock  xdays  rev_spread\n",
       "0  MOMO   -137    0.020832\n",
       "1   DOC    -83    0.061587\n",
       "2  ORCL      5    0.033412\n",
       "3   FCX   -109    0.239877\n",
       "4    HL    228    0.150350"
      ]
     },
     "execution_count": 2,
     "metadata": {},
     "output_type": "execute_result"
    }
   ],
   "source": [
    "momentum_stats = \"/Users/mingay/coding/aws_mingquant/stocks/momentum_stats.txt\"\n",
    "momdf = pd.read_csv(momentum_stats, sep=\"\\t\")\n",
    "momdf.columns = ['stock', 'xdays', 'rev_spread']\n",
    "momdf.head()"
   ]
  },
  {
   "cell_type": "code",
   "execution_count": 3,
   "metadata": {},
   "outputs": [
    {
     "data": {
      "text/plain": [
       "['UBER',\n",
       " 'FND',\n",
       " 'RAMP',\n",
       " 'AMCR',\n",
       " 'SFIX',\n",
       " 'NVTA',\n",
       " 'ORCL',\n",
       " 'UPWK',\n",
       " 'KDP',\n",
       " 'PANW',\n",
       " 'PS']"
      ]
     },
     "execution_count": 3,
     "metadata": {},
     "output_type": "execute_result"
    }
   ],
   "source": [
    "subdf = momdf[(momdf['xdays'] > 0) & (momdf['xdays'] < 20)].sort_values('rev_spread', ascending=False)\n",
    "companies = [i for i in subdf.stock]\n",
    "companies"
   ]
  },
  {
   "cell_type": "markdown",
   "metadata": {},
   "source": [
    "# Get financials "
   ]
  },
  {
   "cell_type": "code",
   "execution_count": 32,
   "metadata": {},
   "outputs": [],
   "source": [
    "import requests \n",
    "import pandas as pd\n",
    "import requests\n",
    "def get_mean_revgrowth(item):\n",
    "    apikey = '63de64a8dff1621f5586e476c7a2e927'\n",
    "    IS = requests.get(f'https://fmpcloud.io/api/v3/income-statement/{item}?apikey={apikey}')\n",
    "    IS = IS.json()\n",
    "    findf = pd.DataFrame().from_dict([IS])\n",
    "    findf = findf.copy().reindex(index=findf.index[::-1])[['symbol', 'date', 'revenue']]\n",
    "    findf['revenue_growth'] = findf['revenue'].pct_change()\n",
    "    mean_rev_growth = findf['revenue_growth'].mean()\n",
    "    n_statements = len(findf)\n",
    "    return mean_rev_growth, n_statements"
   ]
  },
  {
   "cell_type": "code",
   "execution_count": 37,
   "metadata": {},
   "outputs": [
    {
     "data": {
      "text/plain": [
       "'/Users/mingay/coding/mingquant/backtesting'"
      ]
     },
     "execution_count": 37,
     "metadata": {},
     "output_type": "execute_result"
    }
   ],
   "source": [
    "import os\n",
    "os.getcwd()"
   ]
  },
  {
   "cell_type": "code",
   "execution_count": 35,
   "metadata": {},
   "outputs": [
    {
     "data": {
      "text/plain": [
       "{'Error Message': 'Limit Reach . Please upgrade your plan or visit our documentation for more details at https://fmpcloud.io/plans '}"
      ]
     },
     "execution_count": 35,
     "metadata": {},
     "output_type": "execute_result"
    }
   ],
   "source": [
    "item='NVTA'\n",
    "IS = requests.get(f'https://fmpcloud.io/api/v3/income-statement/{item}?apikey={apikey}')\n",
    "IS = IS.json()\n",
    "IS"
   ]
  },
  {
   "cell_type": "code",
   "execution_count": 24,
   "metadata": {},
   "outputs": [
    {
     "data": {
      "text/plain": [
       "[(0, 0),\n",
       " (0, 0),\n",
       " (0, 0),\n",
       " (0, 0),\n",
       " (0, 0),\n",
       " (0, 0),\n",
       " (0, 0),\n",
       " (0, 0),\n",
       " (0, 0),\n",
       " (0, 0)]"
      ]
     },
     "execution_count": 24,
     "metadata": {},
     "output_type": "execute_result"
    }
   ],
   "source": [
    "meangrowths"
   ]
  },
  {
   "cell_type": "code",
   "execution_count": 39,
   "metadata": {},
   "outputs": [],
   "source": [
    "momdf['revenue_growth'], momdf['n_statements'] = momdf.apply(lambda x: get_mean_revgrowth(x['stock']), axis=1)\n",
    "momdf.head()"
   ]
  },
  {
   "cell_type": "code",
   "execution_count": 7,
   "metadata": {},
   "outputs": [
    {
     "data": {
      "text/html": [
       "<div>\n",
       "<style scoped>\n",
       "    .dataframe tbody tr th:only-of-type {\n",
       "        vertical-align: middle;\n",
       "    }\n",
       "\n",
       "    .dataframe tbody tr th {\n",
       "        vertical-align: top;\n",
       "    }\n",
       "\n",
       "    .dataframe thead th {\n",
       "        text-align: right;\n",
       "    }\n",
       "</style>\n",
       "<table border=\"1\" class=\"dataframe\">\n",
       "  <thead>\n",
       "    <tr style=\"text-align: right;\">\n",
       "      <th></th>\n",
       "      <th>stock</th>\n",
       "      <th>xdays</th>\n",
       "      <th>rev_spread</th>\n",
       "    </tr>\n",
       "  </thead>\n",
       "  <tbody>\n",
       "    <tr>\n",
       "      <th>259</th>\n",
       "      <td>JD</td>\n",
       "      <td>430</td>\n",
       "      <td>0.085845</td>\n",
       "    </tr>\n",
       "    <tr>\n",
       "      <th>260</th>\n",
       "      <td>CGC</td>\n",
       "      <td>-354</td>\n",
       "      <td>NaN</td>\n",
       "    </tr>\n",
       "    <tr>\n",
       "      <th>261</th>\n",
       "      <td>MO</td>\n",
       "      <td>-122</td>\n",
       "      <td>0.127763</td>\n",
       "    </tr>\n",
       "    <tr>\n",
       "      <th>262</th>\n",
       "      <td>SBUX</td>\n",
       "      <td>-111</td>\n",
       "      <td>0.458164</td>\n",
       "    </tr>\n",
       "    <tr>\n",
       "      <th>263</th>\n",
       "      <td>KDP</td>\n",
       "      <td>12</td>\n",
       "      <td>0.020367</td>\n",
       "    </tr>\n",
       "  </tbody>\n",
       "</table>\n",
       "</div>"
      ],
      "text/plain": [
       "    stock  xdays  rev_spread\n",
       "259    JD    430    0.085845\n",
       "260   CGC   -354         NaN\n",
       "261    MO   -122    0.127763\n",
       "262  SBUX   -111    0.458164\n",
       "263   KDP     12    0.020367"
      ]
     },
     "execution_count": 7,
     "metadata": {},
     "output_type": "execute_result"
    }
   ],
   "source": [
    "momdf.tail()"
   ]
  },
  {
   "cell_type": "code",
   "execution_count": null,
   "metadata": {},
   "outputs": [],
   "source": [
    "momdf.to_csv(\"momenty\")"
   ]
  },
  {
   "cell_type": "markdown",
   "metadata": {},
   "source": []
  },
  {
   "cell_type": "markdown",
   "metadata": {},
   "source": [
    "---"
   ]
  },
  {
   "cell_type": "code",
   "execution_count": null,
   "metadata": {},
   "outputs": [],
   "source": []
  },
  {
   "cell_type": "code",
   "execution_count": null,
   "metadata": {},
   "outputs": [],
   "source": []
  },
  {
   "cell_type": "code",
   "execution_count": null,
   "metadata": {},
   "outputs": [],
   "source": []
  }
 ],
 "metadata": {
  "kernelspec": {
   "display_name": "Python 3",
   "language": "python",
   "name": "python3"
  },
  "language_info": {
   "codemirror_mode": {
    "name": "ipython",
    "version": 3
   },
   "file_extension": ".py",
   "mimetype": "text/x-python",
   "name": "python",
   "nbconvert_exporter": "python",
   "pygments_lexer": "ipython3",
   "version": "3.7.4"
  }
 },
 "nbformat": 4,
 "nbformat_minor": 4
}
